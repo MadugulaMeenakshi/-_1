{
  "cells": [
    {
      "cell_type": "markdown",
      "metadata": {
        "id": "view-in-github",
        "colab_type": "text"
      },
      "source": [
        "<a href=\"https://colab.research.google.com/github/MadugulaMeenakshi/-_1/blob/main/Assignment_Classification.ipynb\" target=\"_parent\"><img src=\"https://colab.research.google.com/assets/colab-badge.svg\" alt=\"Open In Colab\"/></a>"
      ]
    },
    {
      "cell_type": "markdown",
      "metadata": {
        "id": "C7C39r91nxzR"
      },
      "source": [
        "### Problem Statement: Build a blight model using Decision Trees and Random Forests"
      ]
    },
    {
      "cell_type": "markdown",
      "metadata": {
        "id": "MDeN9nt6nxza"
      },
      "source": [
        "This assignment is based on a data challenge from the Michigan Data Science Team ([MDST](http://midas.umich.edu/mdst/)).\n",
        "\n",
        "Blight violations are issued by the city to individuals who allow their properties to remain in a deteriorated condition. Every year, the city of Detroit issues millions of dollars in fines to residents and every year, many of these fines remain unpaid. Enforcing unpaid blight fines is a costly and tedious process, so the city wants to know: how can we increase blight ticket compliance?\n",
        "\n",
        "The first step in answering this question is understanding when and why a resident might fail to comply with a blight ticket. This is where predictive modeling comes in. For this assignment, your task is to predict whether a given blight ticket will be paid on time.\n",
        "\n",
        "We provide you with a data file for use in training and validating your models: blight_data.csv. Each row in the file corresponds to a single blight ticket, and includes information about when, why, and to whom each ticket was issued. The target variable is compliance, which is True if the ticket was paid early, on time, or within one month of the hearing data, False if the ticket was paid after the hearing date or not at all, and Null if the violator was found not responsible.\n",
        "\n",
        "\n",
        "**Data fields**\n",
        "\n",
        "\n",
        "    ticket_id - unique identifier for tickets\n",
        "    agency_name - Agency that issued the ticket\n",
        "    inspector_name - Name of inspector that issued the ticket\n",
        "    violator_name - Name of the person/organization that the ticket was issued to\n",
        "    violation_street_number, violation_street_name, violation_zip_code - Address where the violation occurred\n",
        "    mailing_address_str_number, mailing_address_str_name, city, state, zip_code, non_us_str_code, country - Mailing address of the violator\n",
        "    ticket_issued_date - Date and time the ticket was issued\n",
        "    hearing_date - Date and time the violator's hearing was scheduled\n",
        "    violation_code, violation_description - Type of violation\n",
        "    disposition - Judgment and judgement type\n",
        "    fine_amount - Violation fine amount, excluding fees\n",
        "    admin_fee - $20 fee assigned to responsible judgments\n",
        "state_fee - $10 fee assigned to responsible judgments\n",
        "    late_fee - 10% fee assigned to responsible judgments\n",
        "    discount_amount - discount applied, if any\n",
        "    clean_up_cost - DPW clean-up or graffiti removal cost\n",
        "    judgment_amount - Sum of all fines and fees\n",
        "    grafitti_status - Flag for graffiti violations\n",
        "    payment_amount - Amount paid, if any\n",
        "    payment_date - Date payment was made, if it was received\n",
        "    payment_status - Current payment status as of Feb 1 2017\n",
        "    balance_due - Fines and fees still owed\n",
        "    collection_status - Flag for payments in collections\n",
        "    compliance [target variable for prediction]\n",
        "     Null = Not responsible\n",
        "     0 = Responsible, non-compliant\n",
        "     1 = Responsible, compliant\n",
        "    compliance_detail - More information on why each ticket was marked compliant or non-compliant\n",
        "\n",
        "\n",
        "___\n",
        "\n",
        "## Evaluation\n",
        "\n",
        "Your predictions will be given as the probability that the corresponding blight ticket will be paid on time.\n",
        "\n",
        "The evaluation metric for this assignment is the Area Under the ROC Curve (AUC)."
      ]
    },
    {
      "cell_type": "code",
      "execution_count": 43,
      "metadata": {
        "id": "5Hib6rd9nxzd"
      },
      "outputs": [],
      "source": [
        "import pandas as pd\n",
        "import numpy as np\n",
        "import matplotlib.pyplot as plt\n",
        "\n",
        "import warnings\n",
        "warnings.filterwarnings('ignore')"
      ]
    },
    {
      "cell_type": "code",
      "execution_count": 45,
      "metadata": {
        "colab": {
          "base_uri": "https://localhost:8080/",
          "height": 206
        },
        "id": "--8gFwELnxzf",
        "outputId": "0c781f77-c279-4465-a224-a450fc297019"
      },
      "outputs": [
        {
          "output_type": "execute_result",
          "data": {
            "text/plain": [
              "                         disposition  fine_amount  late_fee  discount_amount  \\\n",
              "0             Responsible by Default        250.0      25.0              0.0   \n",
              "1       Responsible by Determination        750.0      75.0              0.0   \n",
              "2       Not responsible by Dismissal        250.0       0.0              0.0   \n",
              "3  Not responsible by City Dismissal        250.0       0.0              0.0   \n",
              "4       Not responsible by Dismissal        250.0       0.0              0.0   \n",
              "\n",
              "   clean_up_cost  judgment_amount grafitti_status  compliance  \n",
              "0            0.0            305.0             NaN         0.0  \n",
              "1            0.0            855.0             NaN         1.0  \n",
              "2            0.0              0.0             NaN         NaN  \n",
              "3            0.0              0.0             NaN         NaN  \n",
              "4            0.0              0.0             NaN         NaN  "
            ],
            "text/html": [
              "\n",
              "\n",
              "  <div id=\"df-f5787536-6c1d-4995-be04-afe18a5f5f33\">\n",
              "    <div class=\"colab-df-container\">\n",
              "      <div>\n",
              "<style scoped>\n",
              "    .dataframe tbody tr th:only-of-type {\n",
              "        vertical-align: middle;\n",
              "    }\n",
              "\n",
              "    .dataframe tbody tr th {\n",
              "        vertical-align: top;\n",
              "    }\n",
              "\n",
              "    .dataframe thead th {\n",
              "        text-align: right;\n",
              "    }\n",
              "</style>\n",
              "<table border=\"1\" class=\"dataframe\">\n",
              "  <thead>\n",
              "    <tr style=\"text-align: right;\">\n",
              "      <th></th>\n",
              "      <th>disposition</th>\n",
              "      <th>fine_amount</th>\n",
              "      <th>late_fee</th>\n",
              "      <th>discount_amount</th>\n",
              "      <th>clean_up_cost</th>\n",
              "      <th>judgment_amount</th>\n",
              "      <th>grafitti_status</th>\n",
              "      <th>compliance</th>\n",
              "    </tr>\n",
              "  </thead>\n",
              "  <tbody>\n",
              "    <tr>\n",
              "      <th>0</th>\n",
              "      <td>Responsible by Default</td>\n",
              "      <td>250.0</td>\n",
              "      <td>25.0</td>\n",
              "      <td>0.0</td>\n",
              "      <td>0.0</td>\n",
              "      <td>305.0</td>\n",
              "      <td>NaN</td>\n",
              "      <td>0.0</td>\n",
              "    </tr>\n",
              "    <tr>\n",
              "      <th>1</th>\n",
              "      <td>Responsible by Determination</td>\n",
              "      <td>750.0</td>\n",
              "      <td>75.0</td>\n",
              "      <td>0.0</td>\n",
              "      <td>0.0</td>\n",
              "      <td>855.0</td>\n",
              "      <td>NaN</td>\n",
              "      <td>1.0</td>\n",
              "    </tr>\n",
              "    <tr>\n",
              "      <th>2</th>\n",
              "      <td>Not responsible by Dismissal</td>\n",
              "      <td>250.0</td>\n",
              "      <td>0.0</td>\n",
              "      <td>0.0</td>\n",
              "      <td>0.0</td>\n",
              "      <td>0.0</td>\n",
              "      <td>NaN</td>\n",
              "      <td>NaN</td>\n",
              "    </tr>\n",
              "    <tr>\n",
              "      <th>3</th>\n",
              "      <td>Not responsible by City Dismissal</td>\n",
              "      <td>250.0</td>\n",
              "      <td>0.0</td>\n",
              "      <td>0.0</td>\n",
              "      <td>0.0</td>\n",
              "      <td>0.0</td>\n",
              "      <td>NaN</td>\n",
              "      <td>NaN</td>\n",
              "    </tr>\n",
              "    <tr>\n",
              "      <th>4</th>\n",
              "      <td>Not responsible by Dismissal</td>\n",
              "      <td>250.0</td>\n",
              "      <td>0.0</td>\n",
              "      <td>0.0</td>\n",
              "      <td>0.0</td>\n",
              "      <td>0.0</td>\n",
              "      <td>NaN</td>\n",
              "      <td>NaN</td>\n",
              "    </tr>\n",
              "  </tbody>\n",
              "</table>\n",
              "</div>\n",
              "      <button class=\"colab-df-convert\" onclick=\"convertToInteractive('df-f5787536-6c1d-4995-be04-afe18a5f5f33')\"\n",
              "              title=\"Convert this dataframe to an interactive table.\"\n",
              "              style=\"display:none;\">\n",
              "\n",
              "  <svg xmlns=\"http://www.w3.org/2000/svg\" height=\"24px\"viewBox=\"0 0 24 24\"\n",
              "       width=\"24px\">\n",
              "    <path d=\"M0 0h24v24H0V0z\" fill=\"none\"/>\n",
              "    <path d=\"M18.56 5.44l.94 2.06.94-2.06 2.06-.94-2.06-.94-.94-2.06-.94 2.06-2.06.94zm-11 1L8.5 8.5l.94-2.06 2.06-.94-2.06-.94L8.5 2.5l-.94 2.06-2.06.94zm10 10l.94 2.06.94-2.06 2.06-.94-2.06-.94-.94-2.06-.94 2.06-2.06.94z\"/><path d=\"M17.41 7.96l-1.37-1.37c-.4-.4-.92-.59-1.43-.59-.52 0-1.04.2-1.43.59L10.3 9.45l-7.72 7.72c-.78.78-.78 2.05 0 2.83L4 21.41c.39.39.9.59 1.41.59.51 0 1.02-.2 1.41-.59l7.78-7.78 2.81-2.81c.8-.78.8-2.07 0-2.86zM5.41 20L4 18.59l7.72-7.72 1.47 1.35L5.41 20z\"/>\n",
              "  </svg>\n",
              "      </button>\n",
              "\n",
              "\n",
              "\n",
              "    <div id=\"df-5720a931-6293-4ef0-89dd-66be17d4154a\">\n",
              "      <button class=\"colab-df-quickchart\" onclick=\"quickchart('df-5720a931-6293-4ef0-89dd-66be17d4154a')\"\n",
              "              title=\"Suggest charts.\"\n",
              "              style=\"display:none;\">\n",
              "\n",
              "<svg xmlns=\"http://www.w3.org/2000/svg\" height=\"24px\"viewBox=\"0 0 24 24\"\n",
              "     width=\"24px\">\n",
              "    <g>\n",
              "        <path d=\"M19 3H5c-1.1 0-2 .9-2 2v14c0 1.1.9 2 2 2h14c1.1 0 2-.9 2-2V5c0-1.1-.9-2-2-2zM9 17H7v-7h2v7zm4 0h-2V7h2v10zm4 0h-2v-4h2v4z\"/>\n",
              "    </g>\n",
              "</svg>\n",
              "      </button>\n",
              "    </div>\n",
              "\n",
              "<style>\n",
              "  .colab-df-quickchart {\n",
              "    background-color: #E8F0FE;\n",
              "    border: none;\n",
              "    border-radius: 50%;\n",
              "    cursor: pointer;\n",
              "    display: none;\n",
              "    fill: #1967D2;\n",
              "    height: 32px;\n",
              "    padding: 0 0 0 0;\n",
              "    width: 32px;\n",
              "  }\n",
              "\n",
              "  .colab-df-quickchart:hover {\n",
              "    background-color: #E2EBFA;\n",
              "    box-shadow: 0px 1px 2px rgba(60, 64, 67, 0.3), 0px 1px 3px 1px rgba(60, 64, 67, 0.15);\n",
              "    fill: #174EA6;\n",
              "  }\n",
              "\n",
              "  [theme=dark] .colab-df-quickchart {\n",
              "    background-color: #3B4455;\n",
              "    fill: #D2E3FC;\n",
              "  }\n",
              "\n",
              "  [theme=dark] .colab-df-quickchart:hover {\n",
              "    background-color: #434B5C;\n",
              "    box-shadow: 0px 1px 3px 1px rgba(0, 0, 0, 0.15);\n",
              "    filter: drop-shadow(0px 1px 2px rgba(0, 0, 0, 0.3));\n",
              "    fill: #FFFFFF;\n",
              "  }\n",
              "</style>\n",
              "\n",
              "    <script>\n",
              "      async function quickchart(key) {\n",
              "        const containerElement = document.querySelector('#' + key);\n",
              "        const charts = await google.colab.kernel.invokeFunction(\n",
              "            'suggestCharts', [key], {});\n",
              "      }\n",
              "    </script>\n",
              "\n",
              "      <script>\n",
              "\n",
              "function displayQuickchartButton(domScope) {\n",
              "  let quickchartButtonEl =\n",
              "    domScope.querySelector('#df-5720a931-6293-4ef0-89dd-66be17d4154a button.colab-df-quickchart');\n",
              "  quickchartButtonEl.style.display =\n",
              "    google.colab.kernel.accessAllowed ? 'block' : 'none';\n",
              "}\n",
              "\n",
              "        displayQuickchartButton(document);\n",
              "      </script>\n",
              "      <style>\n",
              "    .colab-df-container {\n",
              "      display:flex;\n",
              "      flex-wrap:wrap;\n",
              "      gap: 12px;\n",
              "    }\n",
              "\n",
              "    .colab-df-convert {\n",
              "      background-color: #E8F0FE;\n",
              "      border: none;\n",
              "      border-radius: 50%;\n",
              "      cursor: pointer;\n",
              "      display: none;\n",
              "      fill: #1967D2;\n",
              "      height: 32px;\n",
              "      padding: 0 0 0 0;\n",
              "      width: 32px;\n",
              "    }\n",
              "\n",
              "    .colab-df-convert:hover {\n",
              "      background-color: #E2EBFA;\n",
              "      box-shadow: 0px 1px 2px rgba(60, 64, 67, 0.3), 0px 1px 3px 1px rgba(60, 64, 67, 0.15);\n",
              "      fill: #174EA6;\n",
              "    }\n",
              "\n",
              "    [theme=dark] .colab-df-convert {\n",
              "      background-color: #3B4455;\n",
              "      fill: #D2E3FC;\n",
              "    }\n",
              "\n",
              "    [theme=dark] .colab-df-convert:hover {\n",
              "      background-color: #434B5C;\n",
              "      box-shadow: 0px 1px 3px 1px rgba(0, 0, 0, 0.15);\n",
              "      filter: drop-shadow(0px 1px 2px rgba(0, 0, 0, 0.3));\n",
              "      fill: #FFFFFF;\n",
              "    }\n",
              "  </style>\n",
              "\n",
              "      <script>\n",
              "        const buttonEl =\n",
              "          document.querySelector('#df-f5787536-6c1d-4995-be04-afe18a5f5f33 button.colab-df-convert');\n",
              "        buttonEl.style.display =\n",
              "          google.colab.kernel.accessAllowed ? 'block' : 'none';\n",
              "\n",
              "        async function convertToInteractive(key) {\n",
              "          const element = document.querySelector('#df-f5787536-6c1d-4995-be04-afe18a5f5f33');\n",
              "          const dataTable =\n",
              "            await google.colab.kernel.invokeFunction('convertToInteractive',\n",
              "                                                     [key], {});\n",
              "          if (!dataTable) return;\n",
              "\n",
              "          const docLinkHtml = 'Like what you see? Visit the ' +\n",
              "            '<a target=\"_blank\" href=https://colab.research.google.com/notebooks/data_table.ipynb>data table notebook</a>'\n",
              "            + ' to learn more about interactive tables.';\n",
              "          element.innerHTML = '';\n",
              "          dataTable['output_type'] = 'display_data';\n",
              "          await google.colab.output.renderOutput(dataTable, element);\n",
              "          const docLink = document.createElement('div');\n",
              "          docLink.innerHTML = docLinkHtml;\n",
              "          element.appendChild(docLink);\n",
              "        }\n",
              "      </script>\n",
              "    </div>\n",
              "  </div>\n"
            ]
          },
          "metadata": {},
          "execution_count": 45
        }
      ],
      "source": [
        "filepath ='/content/blight_data_train.csv'\n",
        "df = pd.read_csv(filepath,encoding = 'ISO-8859-1')\n",
        "df = df[['disposition', 'fine_amount',\n",
        "        'late_fee', 'discount_amount',\n",
        "        'clean_up_cost', 'judgment_amount', 'grafitti_status','compliance']]\n",
        "df.head()"
      ]
    },
    {
      "cell_type": "code",
      "source": [
        "df.shape"
      ],
      "metadata": {
        "colab": {
          "base_uri": "https://localhost:8080/"
        },
        "id": "V5xgiN-TmFtS",
        "outputId": "cda483a8-5890-4782-bdc0-f9ffe014909e"
      },
      "execution_count": 46,
      "outputs": [
        {
          "output_type": "execute_result",
          "data": {
            "text/plain": [
              "(250306, 8)"
            ]
          },
          "metadata": {},
          "execution_count": 46
        }
      ]
    },
    {
      "cell_type": "code",
      "execution_count": 48,
      "metadata": {
        "colab": {
          "base_uri": "https://localhost:8080/"
        },
        "id": "oNEyJgAbtWK5",
        "outputId": "ac3f2d78-87c1-4d21-9e10-38c43aacf71b"
      },
      "outputs": [
        {
          "output_type": "execute_result",
          "data": {
            "text/plain": [
              "disposition             0\n",
              "fine_amount             1\n",
              "late_fee                0\n",
              "discount_amount         0\n",
              "clean_up_cost           0\n",
              "judgment_amount         0\n",
              "grafitti_status    250305\n",
              "compliance          90426\n",
              "dtype: int64"
            ]
          },
          "metadata": {},
          "execution_count": 48
        }
      ],
      "source": [
        "df.isnull().sum()"
      ]
    },
    {
      "cell_type": "code",
      "source": [
        "df1 = df.drop(['grafitti_status','clean_up_cost'], axis = 1)\n",
        "df1.head()"
      ],
      "metadata": {
        "colab": {
          "base_uri": "https://localhost:8080/",
          "height": 206
        },
        "id": "XqP_ttLwWBcv",
        "outputId": "c6728779-8fae-4708-ebde-1f01cd86fd4a"
      },
      "execution_count": 49,
      "outputs": [
        {
          "output_type": "execute_result",
          "data": {
            "text/plain": [
              "                         disposition  fine_amount  late_fee  discount_amount  \\\n",
              "0             Responsible by Default        250.0      25.0              0.0   \n",
              "1       Responsible by Determination        750.0      75.0              0.0   \n",
              "2       Not responsible by Dismissal        250.0       0.0              0.0   \n",
              "3  Not responsible by City Dismissal        250.0       0.0              0.0   \n",
              "4       Not responsible by Dismissal        250.0       0.0              0.0   \n",
              "\n",
              "   judgment_amount  compliance  \n",
              "0            305.0         0.0  \n",
              "1            855.0         1.0  \n",
              "2              0.0         NaN  \n",
              "3              0.0         NaN  \n",
              "4              0.0         NaN  "
            ],
            "text/html": [
              "\n",
              "\n",
              "  <div id=\"df-a2857421-270a-4021-9615-33d10d53fb14\">\n",
              "    <div class=\"colab-df-container\">\n",
              "      <div>\n",
              "<style scoped>\n",
              "    .dataframe tbody tr th:only-of-type {\n",
              "        vertical-align: middle;\n",
              "    }\n",
              "\n",
              "    .dataframe tbody tr th {\n",
              "        vertical-align: top;\n",
              "    }\n",
              "\n",
              "    .dataframe thead th {\n",
              "        text-align: right;\n",
              "    }\n",
              "</style>\n",
              "<table border=\"1\" class=\"dataframe\">\n",
              "  <thead>\n",
              "    <tr style=\"text-align: right;\">\n",
              "      <th></th>\n",
              "      <th>disposition</th>\n",
              "      <th>fine_amount</th>\n",
              "      <th>late_fee</th>\n",
              "      <th>discount_amount</th>\n",
              "      <th>judgment_amount</th>\n",
              "      <th>compliance</th>\n",
              "    </tr>\n",
              "  </thead>\n",
              "  <tbody>\n",
              "    <tr>\n",
              "      <th>0</th>\n",
              "      <td>Responsible by Default</td>\n",
              "      <td>250.0</td>\n",
              "      <td>25.0</td>\n",
              "      <td>0.0</td>\n",
              "      <td>305.0</td>\n",
              "      <td>0.0</td>\n",
              "    </tr>\n",
              "    <tr>\n",
              "      <th>1</th>\n",
              "      <td>Responsible by Determination</td>\n",
              "      <td>750.0</td>\n",
              "      <td>75.0</td>\n",
              "      <td>0.0</td>\n",
              "      <td>855.0</td>\n",
              "      <td>1.0</td>\n",
              "    </tr>\n",
              "    <tr>\n",
              "      <th>2</th>\n",
              "      <td>Not responsible by Dismissal</td>\n",
              "      <td>250.0</td>\n",
              "      <td>0.0</td>\n",
              "      <td>0.0</td>\n",
              "      <td>0.0</td>\n",
              "      <td>NaN</td>\n",
              "    </tr>\n",
              "    <tr>\n",
              "      <th>3</th>\n",
              "      <td>Not responsible by City Dismissal</td>\n",
              "      <td>250.0</td>\n",
              "      <td>0.0</td>\n",
              "      <td>0.0</td>\n",
              "      <td>0.0</td>\n",
              "      <td>NaN</td>\n",
              "    </tr>\n",
              "    <tr>\n",
              "      <th>4</th>\n",
              "      <td>Not responsible by Dismissal</td>\n",
              "      <td>250.0</td>\n",
              "      <td>0.0</td>\n",
              "      <td>0.0</td>\n",
              "      <td>0.0</td>\n",
              "      <td>NaN</td>\n",
              "    </tr>\n",
              "  </tbody>\n",
              "</table>\n",
              "</div>\n",
              "      <button class=\"colab-df-convert\" onclick=\"convertToInteractive('df-a2857421-270a-4021-9615-33d10d53fb14')\"\n",
              "              title=\"Convert this dataframe to an interactive table.\"\n",
              "              style=\"display:none;\">\n",
              "\n",
              "  <svg xmlns=\"http://www.w3.org/2000/svg\" height=\"24px\"viewBox=\"0 0 24 24\"\n",
              "       width=\"24px\">\n",
              "    <path d=\"M0 0h24v24H0V0z\" fill=\"none\"/>\n",
              "    <path d=\"M18.56 5.44l.94 2.06.94-2.06 2.06-.94-2.06-.94-.94-2.06-.94 2.06-2.06.94zm-11 1L8.5 8.5l.94-2.06 2.06-.94-2.06-.94L8.5 2.5l-.94 2.06-2.06.94zm10 10l.94 2.06.94-2.06 2.06-.94-2.06-.94-.94-2.06-.94 2.06-2.06.94z\"/><path d=\"M17.41 7.96l-1.37-1.37c-.4-.4-.92-.59-1.43-.59-.52 0-1.04.2-1.43.59L10.3 9.45l-7.72 7.72c-.78.78-.78 2.05 0 2.83L4 21.41c.39.39.9.59 1.41.59.51 0 1.02-.2 1.41-.59l7.78-7.78 2.81-2.81c.8-.78.8-2.07 0-2.86zM5.41 20L4 18.59l7.72-7.72 1.47 1.35L5.41 20z\"/>\n",
              "  </svg>\n",
              "      </button>\n",
              "\n",
              "\n",
              "\n",
              "    <div id=\"df-63caedd4-3fa9-4403-9159-ac72601cf069\">\n",
              "      <button class=\"colab-df-quickchart\" onclick=\"quickchart('df-63caedd4-3fa9-4403-9159-ac72601cf069')\"\n",
              "              title=\"Suggest charts.\"\n",
              "              style=\"display:none;\">\n",
              "\n",
              "<svg xmlns=\"http://www.w3.org/2000/svg\" height=\"24px\"viewBox=\"0 0 24 24\"\n",
              "     width=\"24px\">\n",
              "    <g>\n",
              "        <path d=\"M19 3H5c-1.1 0-2 .9-2 2v14c0 1.1.9 2 2 2h14c1.1 0 2-.9 2-2V5c0-1.1-.9-2-2-2zM9 17H7v-7h2v7zm4 0h-2V7h2v10zm4 0h-2v-4h2v4z\"/>\n",
              "    </g>\n",
              "</svg>\n",
              "      </button>\n",
              "    </div>\n",
              "\n",
              "<style>\n",
              "  .colab-df-quickchart {\n",
              "    background-color: #E8F0FE;\n",
              "    border: none;\n",
              "    border-radius: 50%;\n",
              "    cursor: pointer;\n",
              "    display: none;\n",
              "    fill: #1967D2;\n",
              "    height: 32px;\n",
              "    padding: 0 0 0 0;\n",
              "    width: 32px;\n",
              "  }\n",
              "\n",
              "  .colab-df-quickchart:hover {\n",
              "    background-color: #E2EBFA;\n",
              "    box-shadow: 0px 1px 2px rgba(60, 64, 67, 0.3), 0px 1px 3px 1px rgba(60, 64, 67, 0.15);\n",
              "    fill: #174EA6;\n",
              "  }\n",
              "\n",
              "  [theme=dark] .colab-df-quickchart {\n",
              "    background-color: #3B4455;\n",
              "    fill: #D2E3FC;\n",
              "  }\n",
              "\n",
              "  [theme=dark] .colab-df-quickchart:hover {\n",
              "    background-color: #434B5C;\n",
              "    box-shadow: 0px 1px 3px 1px rgba(0, 0, 0, 0.15);\n",
              "    filter: drop-shadow(0px 1px 2px rgba(0, 0, 0, 0.3));\n",
              "    fill: #FFFFFF;\n",
              "  }\n",
              "</style>\n",
              "\n",
              "    <script>\n",
              "      async function quickchart(key) {\n",
              "        const containerElement = document.querySelector('#' + key);\n",
              "        const charts = await google.colab.kernel.invokeFunction(\n",
              "            'suggestCharts', [key], {});\n",
              "      }\n",
              "    </script>\n",
              "\n",
              "      <script>\n",
              "\n",
              "function displayQuickchartButton(domScope) {\n",
              "  let quickchartButtonEl =\n",
              "    domScope.querySelector('#df-63caedd4-3fa9-4403-9159-ac72601cf069 button.colab-df-quickchart');\n",
              "  quickchartButtonEl.style.display =\n",
              "    google.colab.kernel.accessAllowed ? 'block' : 'none';\n",
              "}\n",
              "\n",
              "        displayQuickchartButton(document);\n",
              "      </script>\n",
              "      <style>\n",
              "    .colab-df-container {\n",
              "      display:flex;\n",
              "      flex-wrap:wrap;\n",
              "      gap: 12px;\n",
              "    }\n",
              "\n",
              "    .colab-df-convert {\n",
              "      background-color: #E8F0FE;\n",
              "      border: none;\n",
              "      border-radius: 50%;\n",
              "      cursor: pointer;\n",
              "      display: none;\n",
              "      fill: #1967D2;\n",
              "      height: 32px;\n",
              "      padding: 0 0 0 0;\n",
              "      width: 32px;\n",
              "    }\n",
              "\n",
              "    .colab-df-convert:hover {\n",
              "      background-color: #E2EBFA;\n",
              "      box-shadow: 0px 1px 2px rgba(60, 64, 67, 0.3), 0px 1px 3px 1px rgba(60, 64, 67, 0.15);\n",
              "      fill: #174EA6;\n",
              "    }\n",
              "\n",
              "    [theme=dark] .colab-df-convert {\n",
              "      background-color: #3B4455;\n",
              "      fill: #D2E3FC;\n",
              "    }\n",
              "\n",
              "    [theme=dark] .colab-df-convert:hover {\n",
              "      background-color: #434B5C;\n",
              "      box-shadow: 0px 1px 3px 1px rgba(0, 0, 0, 0.15);\n",
              "      filter: drop-shadow(0px 1px 2px rgba(0, 0, 0, 0.3));\n",
              "      fill: #FFFFFF;\n",
              "    }\n",
              "  </style>\n",
              "\n",
              "      <script>\n",
              "        const buttonEl =\n",
              "          document.querySelector('#df-a2857421-270a-4021-9615-33d10d53fb14 button.colab-df-convert');\n",
              "        buttonEl.style.display =\n",
              "          google.colab.kernel.accessAllowed ? 'block' : 'none';\n",
              "\n",
              "        async function convertToInteractive(key) {\n",
              "          const element = document.querySelector('#df-a2857421-270a-4021-9615-33d10d53fb14');\n",
              "          const dataTable =\n",
              "            await google.colab.kernel.invokeFunction('convertToInteractive',\n",
              "                                                     [key], {});\n",
              "          if (!dataTable) return;\n",
              "\n",
              "          const docLinkHtml = 'Like what you see? Visit the ' +\n",
              "            '<a target=\"_blank\" href=https://colab.research.google.com/notebooks/data_table.ipynb>data table notebook</a>'\n",
              "            + ' to learn more about interactive tables.';\n",
              "          element.innerHTML = '';\n",
              "          dataTable['output_type'] = 'display_data';\n",
              "          await google.colab.output.renderOutput(dataTable, element);\n",
              "          const docLink = document.createElement('div');\n",
              "          docLink.innerHTML = docLinkHtml;\n",
              "          element.appendChild(docLink);\n",
              "        }\n",
              "      </script>\n",
              "    </div>\n",
              "  </div>\n"
            ]
          },
          "metadata": {},
          "execution_count": 49
        }
      ]
    },
    {
      "cell_type": "code",
      "execution_count": 50,
      "metadata": {
        "colab": {
          "base_uri": "https://localhost:8080/",
          "height": 300
        },
        "id": "yzAs3J4jrJBl",
        "outputId": "9ba8dcc2-fd4d-4479-921e-5ea4d074e9c0"
      },
      "outputs": [
        {
          "output_type": "execute_result",
          "data": {
            "text/plain": [
              "         fine_amount       late_fee  discount_amount  judgment_amount  \\\n",
              "count  250305.000000  250306.000000    250306.000000    250306.000000   \n",
              "mean      374.423435      21.494506         0.125167       268.685356   \n",
              "std       707.195807      56.464263         3.430178       626.915212   \n",
              "min         0.000000       0.000000         0.000000         0.000000   \n",
              "25%       200.000000       0.000000         0.000000         0.000000   \n",
              "50%       250.000000      10.000000         0.000000       140.000000   \n",
              "75%       250.000000      25.000000         0.000000       305.000000   \n",
              "max     10000.000000    1000.000000       350.000000     11030.000000   \n",
              "\n",
              "          compliance  \n",
              "count  159880.000000  \n",
              "mean        0.072536  \n",
              "std         0.259374  \n",
              "min         0.000000  \n",
              "25%         0.000000  \n",
              "50%         0.000000  \n",
              "75%         0.000000  \n",
              "max         1.000000  "
            ],
            "text/html": [
              "\n",
              "\n",
              "  <div id=\"df-20278662-d92f-4275-bde1-236d629af099\">\n",
              "    <div class=\"colab-df-container\">\n",
              "      <div>\n",
              "<style scoped>\n",
              "    .dataframe tbody tr th:only-of-type {\n",
              "        vertical-align: middle;\n",
              "    }\n",
              "\n",
              "    .dataframe tbody tr th {\n",
              "        vertical-align: top;\n",
              "    }\n",
              "\n",
              "    .dataframe thead th {\n",
              "        text-align: right;\n",
              "    }\n",
              "</style>\n",
              "<table border=\"1\" class=\"dataframe\">\n",
              "  <thead>\n",
              "    <tr style=\"text-align: right;\">\n",
              "      <th></th>\n",
              "      <th>fine_amount</th>\n",
              "      <th>late_fee</th>\n",
              "      <th>discount_amount</th>\n",
              "      <th>judgment_amount</th>\n",
              "      <th>compliance</th>\n",
              "    </tr>\n",
              "  </thead>\n",
              "  <tbody>\n",
              "    <tr>\n",
              "      <th>count</th>\n",
              "      <td>250305.000000</td>\n",
              "      <td>250306.000000</td>\n",
              "      <td>250306.000000</td>\n",
              "      <td>250306.000000</td>\n",
              "      <td>159880.000000</td>\n",
              "    </tr>\n",
              "    <tr>\n",
              "      <th>mean</th>\n",
              "      <td>374.423435</td>\n",
              "      <td>21.494506</td>\n",
              "      <td>0.125167</td>\n",
              "      <td>268.685356</td>\n",
              "      <td>0.072536</td>\n",
              "    </tr>\n",
              "    <tr>\n",
              "      <th>std</th>\n",
              "      <td>707.195807</td>\n",
              "      <td>56.464263</td>\n",
              "      <td>3.430178</td>\n",
              "      <td>626.915212</td>\n",
              "      <td>0.259374</td>\n",
              "    </tr>\n",
              "    <tr>\n",
              "      <th>min</th>\n",
              "      <td>0.000000</td>\n",
              "      <td>0.000000</td>\n",
              "      <td>0.000000</td>\n",
              "      <td>0.000000</td>\n",
              "      <td>0.000000</td>\n",
              "    </tr>\n",
              "    <tr>\n",
              "      <th>25%</th>\n",
              "      <td>200.000000</td>\n",
              "      <td>0.000000</td>\n",
              "      <td>0.000000</td>\n",
              "      <td>0.000000</td>\n",
              "      <td>0.000000</td>\n",
              "    </tr>\n",
              "    <tr>\n",
              "      <th>50%</th>\n",
              "      <td>250.000000</td>\n",
              "      <td>10.000000</td>\n",
              "      <td>0.000000</td>\n",
              "      <td>140.000000</td>\n",
              "      <td>0.000000</td>\n",
              "    </tr>\n",
              "    <tr>\n",
              "      <th>75%</th>\n",
              "      <td>250.000000</td>\n",
              "      <td>25.000000</td>\n",
              "      <td>0.000000</td>\n",
              "      <td>305.000000</td>\n",
              "      <td>0.000000</td>\n",
              "    </tr>\n",
              "    <tr>\n",
              "      <th>max</th>\n",
              "      <td>10000.000000</td>\n",
              "      <td>1000.000000</td>\n",
              "      <td>350.000000</td>\n",
              "      <td>11030.000000</td>\n",
              "      <td>1.000000</td>\n",
              "    </tr>\n",
              "  </tbody>\n",
              "</table>\n",
              "</div>\n",
              "      <button class=\"colab-df-convert\" onclick=\"convertToInteractive('df-20278662-d92f-4275-bde1-236d629af099')\"\n",
              "              title=\"Convert this dataframe to an interactive table.\"\n",
              "              style=\"display:none;\">\n",
              "\n",
              "  <svg xmlns=\"http://www.w3.org/2000/svg\" height=\"24px\"viewBox=\"0 0 24 24\"\n",
              "       width=\"24px\">\n",
              "    <path d=\"M0 0h24v24H0V0z\" fill=\"none\"/>\n",
              "    <path d=\"M18.56 5.44l.94 2.06.94-2.06 2.06-.94-2.06-.94-.94-2.06-.94 2.06-2.06.94zm-11 1L8.5 8.5l.94-2.06 2.06-.94-2.06-.94L8.5 2.5l-.94 2.06-2.06.94zm10 10l.94 2.06.94-2.06 2.06-.94-2.06-.94-.94-2.06-.94 2.06-2.06.94z\"/><path d=\"M17.41 7.96l-1.37-1.37c-.4-.4-.92-.59-1.43-.59-.52 0-1.04.2-1.43.59L10.3 9.45l-7.72 7.72c-.78.78-.78 2.05 0 2.83L4 21.41c.39.39.9.59 1.41.59.51 0 1.02-.2 1.41-.59l7.78-7.78 2.81-2.81c.8-.78.8-2.07 0-2.86zM5.41 20L4 18.59l7.72-7.72 1.47 1.35L5.41 20z\"/>\n",
              "  </svg>\n",
              "      </button>\n",
              "\n",
              "\n",
              "\n",
              "    <div id=\"df-82c46f5c-b72d-41fc-b01a-cd101e1fae1b\">\n",
              "      <button class=\"colab-df-quickchart\" onclick=\"quickchart('df-82c46f5c-b72d-41fc-b01a-cd101e1fae1b')\"\n",
              "              title=\"Suggest charts.\"\n",
              "              style=\"display:none;\">\n",
              "\n",
              "<svg xmlns=\"http://www.w3.org/2000/svg\" height=\"24px\"viewBox=\"0 0 24 24\"\n",
              "     width=\"24px\">\n",
              "    <g>\n",
              "        <path d=\"M19 3H5c-1.1 0-2 .9-2 2v14c0 1.1.9 2 2 2h14c1.1 0 2-.9 2-2V5c0-1.1-.9-2-2-2zM9 17H7v-7h2v7zm4 0h-2V7h2v10zm4 0h-2v-4h2v4z\"/>\n",
              "    </g>\n",
              "</svg>\n",
              "      </button>\n",
              "    </div>\n",
              "\n",
              "<style>\n",
              "  .colab-df-quickchart {\n",
              "    background-color: #E8F0FE;\n",
              "    border: none;\n",
              "    border-radius: 50%;\n",
              "    cursor: pointer;\n",
              "    display: none;\n",
              "    fill: #1967D2;\n",
              "    height: 32px;\n",
              "    padding: 0 0 0 0;\n",
              "    width: 32px;\n",
              "  }\n",
              "\n",
              "  .colab-df-quickchart:hover {\n",
              "    background-color: #E2EBFA;\n",
              "    box-shadow: 0px 1px 2px rgba(60, 64, 67, 0.3), 0px 1px 3px 1px rgba(60, 64, 67, 0.15);\n",
              "    fill: #174EA6;\n",
              "  }\n",
              "\n",
              "  [theme=dark] .colab-df-quickchart {\n",
              "    background-color: #3B4455;\n",
              "    fill: #D2E3FC;\n",
              "  }\n",
              "\n",
              "  [theme=dark] .colab-df-quickchart:hover {\n",
              "    background-color: #434B5C;\n",
              "    box-shadow: 0px 1px 3px 1px rgba(0, 0, 0, 0.15);\n",
              "    filter: drop-shadow(0px 1px 2px rgba(0, 0, 0, 0.3));\n",
              "    fill: #FFFFFF;\n",
              "  }\n",
              "</style>\n",
              "\n",
              "    <script>\n",
              "      async function quickchart(key) {\n",
              "        const containerElement = document.querySelector('#' + key);\n",
              "        const charts = await google.colab.kernel.invokeFunction(\n",
              "            'suggestCharts', [key], {});\n",
              "      }\n",
              "    </script>\n",
              "\n",
              "      <script>\n",
              "\n",
              "function displayQuickchartButton(domScope) {\n",
              "  let quickchartButtonEl =\n",
              "    domScope.querySelector('#df-82c46f5c-b72d-41fc-b01a-cd101e1fae1b button.colab-df-quickchart');\n",
              "  quickchartButtonEl.style.display =\n",
              "    google.colab.kernel.accessAllowed ? 'block' : 'none';\n",
              "}\n",
              "\n",
              "        displayQuickchartButton(document);\n",
              "      </script>\n",
              "      <style>\n",
              "    .colab-df-container {\n",
              "      display:flex;\n",
              "      flex-wrap:wrap;\n",
              "      gap: 12px;\n",
              "    }\n",
              "\n",
              "    .colab-df-convert {\n",
              "      background-color: #E8F0FE;\n",
              "      border: none;\n",
              "      border-radius: 50%;\n",
              "      cursor: pointer;\n",
              "      display: none;\n",
              "      fill: #1967D2;\n",
              "      height: 32px;\n",
              "      padding: 0 0 0 0;\n",
              "      width: 32px;\n",
              "    }\n",
              "\n",
              "    .colab-df-convert:hover {\n",
              "      background-color: #E2EBFA;\n",
              "      box-shadow: 0px 1px 2px rgba(60, 64, 67, 0.3), 0px 1px 3px 1px rgba(60, 64, 67, 0.15);\n",
              "      fill: #174EA6;\n",
              "    }\n",
              "\n",
              "    [theme=dark] .colab-df-convert {\n",
              "      background-color: #3B4455;\n",
              "      fill: #D2E3FC;\n",
              "    }\n",
              "\n",
              "    [theme=dark] .colab-df-convert:hover {\n",
              "      background-color: #434B5C;\n",
              "      box-shadow: 0px 1px 3px 1px rgba(0, 0, 0, 0.15);\n",
              "      filter: drop-shadow(0px 1px 2px rgba(0, 0, 0, 0.3));\n",
              "      fill: #FFFFFF;\n",
              "    }\n",
              "  </style>\n",
              "\n",
              "      <script>\n",
              "        const buttonEl =\n",
              "          document.querySelector('#df-20278662-d92f-4275-bde1-236d629af099 button.colab-df-convert');\n",
              "        buttonEl.style.display =\n",
              "          google.colab.kernel.accessAllowed ? 'block' : 'none';\n",
              "\n",
              "        async function convertToInteractive(key) {\n",
              "          const element = document.querySelector('#df-20278662-d92f-4275-bde1-236d629af099');\n",
              "          const dataTable =\n",
              "            await google.colab.kernel.invokeFunction('convertToInteractive',\n",
              "                                                     [key], {});\n",
              "          if (!dataTable) return;\n",
              "\n",
              "          const docLinkHtml = 'Like what you see? Visit the ' +\n",
              "            '<a target=\"_blank\" href=https://colab.research.google.com/notebooks/data_table.ipynb>data table notebook</a>'\n",
              "            + ' to learn more about interactive tables.';\n",
              "          element.innerHTML = '';\n",
              "          dataTable['output_type'] = 'display_data';\n",
              "          await google.colab.output.renderOutput(dataTable, element);\n",
              "          const docLink = document.createElement('div');\n",
              "          docLink.innerHTML = docLinkHtml;\n",
              "          element.appendChild(docLink);\n",
              "        }\n",
              "      </script>\n",
              "    </div>\n",
              "  </div>\n"
            ]
          },
          "metadata": {},
          "execution_count": 50
        }
      ],
      "source": [
        "df1.describe()"
      ]
    },
    {
      "cell_type": "code",
      "execution_count": 51,
      "metadata": {
        "colab": {
          "base_uri": "https://localhost:8080/"
        },
        "id": "xhOS3-jurRW5",
        "outputId": "174bdf69-e24b-43c9-e08d-bb95f3bfe87c"
      },
      "outputs": [
        {
          "output_type": "stream",
          "name": "stdout",
          "text": [
            "<class 'pandas.core.frame.DataFrame'>\n",
            "RangeIndex: 250306 entries, 0 to 250305\n",
            "Data columns (total 6 columns):\n",
            " #   Column           Non-Null Count   Dtype  \n",
            "---  ------           --------------   -----  \n",
            " 0   disposition      250306 non-null  object \n",
            " 1   fine_amount      250305 non-null  float64\n",
            " 2   late_fee         250306 non-null  float64\n",
            " 3   discount_amount  250306 non-null  float64\n",
            " 4   judgment_amount  250306 non-null  float64\n",
            " 5   compliance       159880 non-null  float64\n",
            "dtypes: float64(5), object(1)\n",
            "memory usage: 11.5+ MB\n"
          ]
        }
      ],
      "source": [
        "df1.info()"
      ]
    },
    {
      "cell_type": "code",
      "execution_count": 52,
      "metadata": {
        "colab": {
          "base_uri": "https://localhost:8080/"
        },
        "id": "1C8KA9jQryO3",
        "outputId": "399fba27-fc7f-4dd4-aaf2-bd92208b38e7"
      },
      "outputs": [
        {
          "output_type": "execute_result",
          "data": {
            "text/plain": [
              "disposition            0\n",
              "fine_amount            1\n",
              "late_fee               0\n",
              "discount_amount        0\n",
              "judgment_amount        0\n",
              "compliance         90426\n",
              "dtype: int64"
            ]
          },
          "metadata": {},
          "execution_count": 52
        }
      ],
      "source": [
        "df1.isnull().sum()"
      ]
    },
    {
      "cell_type": "code",
      "source": [
        "df1.head()"
      ],
      "metadata": {
        "colab": {
          "base_uri": "https://localhost:8080/",
          "height": 206
        },
        "id": "7aaUmbqRjNZQ",
        "outputId": "64ae343c-ad65-480e-a81f-666f1e0783a9"
      },
      "execution_count": 53,
      "outputs": [
        {
          "output_type": "execute_result",
          "data": {
            "text/plain": [
              "                         disposition  fine_amount  late_fee  discount_amount  \\\n",
              "0             Responsible by Default        250.0      25.0              0.0   \n",
              "1       Responsible by Determination        750.0      75.0              0.0   \n",
              "2       Not responsible by Dismissal        250.0       0.0              0.0   \n",
              "3  Not responsible by City Dismissal        250.0       0.0              0.0   \n",
              "4       Not responsible by Dismissal        250.0       0.0              0.0   \n",
              "\n",
              "   judgment_amount  compliance  \n",
              "0            305.0         0.0  \n",
              "1            855.0         1.0  \n",
              "2              0.0         NaN  \n",
              "3              0.0         NaN  \n",
              "4              0.0         NaN  "
            ],
            "text/html": [
              "\n",
              "\n",
              "  <div id=\"df-c39a69e6-2f31-4446-9e49-8af0c40ee24b\">\n",
              "    <div class=\"colab-df-container\">\n",
              "      <div>\n",
              "<style scoped>\n",
              "    .dataframe tbody tr th:only-of-type {\n",
              "        vertical-align: middle;\n",
              "    }\n",
              "\n",
              "    .dataframe tbody tr th {\n",
              "        vertical-align: top;\n",
              "    }\n",
              "\n",
              "    .dataframe thead th {\n",
              "        text-align: right;\n",
              "    }\n",
              "</style>\n",
              "<table border=\"1\" class=\"dataframe\">\n",
              "  <thead>\n",
              "    <tr style=\"text-align: right;\">\n",
              "      <th></th>\n",
              "      <th>disposition</th>\n",
              "      <th>fine_amount</th>\n",
              "      <th>late_fee</th>\n",
              "      <th>discount_amount</th>\n",
              "      <th>judgment_amount</th>\n",
              "      <th>compliance</th>\n",
              "    </tr>\n",
              "  </thead>\n",
              "  <tbody>\n",
              "    <tr>\n",
              "      <th>0</th>\n",
              "      <td>Responsible by Default</td>\n",
              "      <td>250.0</td>\n",
              "      <td>25.0</td>\n",
              "      <td>0.0</td>\n",
              "      <td>305.0</td>\n",
              "      <td>0.0</td>\n",
              "    </tr>\n",
              "    <tr>\n",
              "      <th>1</th>\n",
              "      <td>Responsible by Determination</td>\n",
              "      <td>750.0</td>\n",
              "      <td>75.0</td>\n",
              "      <td>0.0</td>\n",
              "      <td>855.0</td>\n",
              "      <td>1.0</td>\n",
              "    </tr>\n",
              "    <tr>\n",
              "      <th>2</th>\n",
              "      <td>Not responsible by Dismissal</td>\n",
              "      <td>250.0</td>\n",
              "      <td>0.0</td>\n",
              "      <td>0.0</td>\n",
              "      <td>0.0</td>\n",
              "      <td>NaN</td>\n",
              "    </tr>\n",
              "    <tr>\n",
              "      <th>3</th>\n",
              "      <td>Not responsible by City Dismissal</td>\n",
              "      <td>250.0</td>\n",
              "      <td>0.0</td>\n",
              "      <td>0.0</td>\n",
              "      <td>0.0</td>\n",
              "      <td>NaN</td>\n",
              "    </tr>\n",
              "    <tr>\n",
              "      <th>4</th>\n",
              "      <td>Not responsible by Dismissal</td>\n",
              "      <td>250.0</td>\n",
              "      <td>0.0</td>\n",
              "      <td>0.0</td>\n",
              "      <td>0.0</td>\n",
              "      <td>NaN</td>\n",
              "    </tr>\n",
              "  </tbody>\n",
              "</table>\n",
              "</div>\n",
              "      <button class=\"colab-df-convert\" onclick=\"convertToInteractive('df-c39a69e6-2f31-4446-9e49-8af0c40ee24b')\"\n",
              "              title=\"Convert this dataframe to an interactive table.\"\n",
              "              style=\"display:none;\">\n",
              "\n",
              "  <svg xmlns=\"http://www.w3.org/2000/svg\" height=\"24px\"viewBox=\"0 0 24 24\"\n",
              "       width=\"24px\">\n",
              "    <path d=\"M0 0h24v24H0V0z\" fill=\"none\"/>\n",
              "    <path d=\"M18.56 5.44l.94 2.06.94-2.06 2.06-.94-2.06-.94-.94-2.06-.94 2.06-2.06.94zm-11 1L8.5 8.5l.94-2.06 2.06-.94-2.06-.94L8.5 2.5l-.94 2.06-2.06.94zm10 10l.94 2.06.94-2.06 2.06-.94-2.06-.94-.94-2.06-.94 2.06-2.06.94z\"/><path d=\"M17.41 7.96l-1.37-1.37c-.4-.4-.92-.59-1.43-.59-.52 0-1.04.2-1.43.59L10.3 9.45l-7.72 7.72c-.78.78-.78 2.05 0 2.83L4 21.41c.39.39.9.59 1.41.59.51 0 1.02-.2 1.41-.59l7.78-7.78 2.81-2.81c.8-.78.8-2.07 0-2.86zM5.41 20L4 18.59l7.72-7.72 1.47 1.35L5.41 20z\"/>\n",
              "  </svg>\n",
              "      </button>\n",
              "\n",
              "\n",
              "\n",
              "    <div id=\"df-b9a9c4fa-a035-4440-9270-7617e89aa210\">\n",
              "      <button class=\"colab-df-quickchart\" onclick=\"quickchart('df-b9a9c4fa-a035-4440-9270-7617e89aa210')\"\n",
              "              title=\"Suggest charts.\"\n",
              "              style=\"display:none;\">\n",
              "\n",
              "<svg xmlns=\"http://www.w3.org/2000/svg\" height=\"24px\"viewBox=\"0 0 24 24\"\n",
              "     width=\"24px\">\n",
              "    <g>\n",
              "        <path d=\"M19 3H5c-1.1 0-2 .9-2 2v14c0 1.1.9 2 2 2h14c1.1 0 2-.9 2-2V5c0-1.1-.9-2-2-2zM9 17H7v-7h2v7zm4 0h-2V7h2v10zm4 0h-2v-4h2v4z\"/>\n",
              "    </g>\n",
              "</svg>\n",
              "      </button>\n",
              "    </div>\n",
              "\n",
              "<style>\n",
              "  .colab-df-quickchart {\n",
              "    background-color: #E8F0FE;\n",
              "    border: none;\n",
              "    border-radius: 50%;\n",
              "    cursor: pointer;\n",
              "    display: none;\n",
              "    fill: #1967D2;\n",
              "    height: 32px;\n",
              "    padding: 0 0 0 0;\n",
              "    width: 32px;\n",
              "  }\n",
              "\n",
              "  .colab-df-quickchart:hover {\n",
              "    background-color: #E2EBFA;\n",
              "    box-shadow: 0px 1px 2px rgba(60, 64, 67, 0.3), 0px 1px 3px 1px rgba(60, 64, 67, 0.15);\n",
              "    fill: #174EA6;\n",
              "  }\n",
              "\n",
              "  [theme=dark] .colab-df-quickchart {\n",
              "    background-color: #3B4455;\n",
              "    fill: #D2E3FC;\n",
              "  }\n",
              "\n",
              "  [theme=dark] .colab-df-quickchart:hover {\n",
              "    background-color: #434B5C;\n",
              "    box-shadow: 0px 1px 3px 1px rgba(0, 0, 0, 0.15);\n",
              "    filter: drop-shadow(0px 1px 2px rgba(0, 0, 0, 0.3));\n",
              "    fill: #FFFFFF;\n",
              "  }\n",
              "</style>\n",
              "\n",
              "    <script>\n",
              "      async function quickchart(key) {\n",
              "        const containerElement = document.querySelector('#' + key);\n",
              "        const charts = await google.colab.kernel.invokeFunction(\n",
              "            'suggestCharts', [key], {});\n",
              "      }\n",
              "    </script>\n",
              "\n",
              "      <script>\n",
              "\n",
              "function displayQuickchartButton(domScope) {\n",
              "  let quickchartButtonEl =\n",
              "    domScope.querySelector('#df-b9a9c4fa-a035-4440-9270-7617e89aa210 button.colab-df-quickchart');\n",
              "  quickchartButtonEl.style.display =\n",
              "    google.colab.kernel.accessAllowed ? 'block' : 'none';\n",
              "}\n",
              "\n",
              "        displayQuickchartButton(document);\n",
              "      </script>\n",
              "      <style>\n",
              "    .colab-df-container {\n",
              "      display:flex;\n",
              "      flex-wrap:wrap;\n",
              "      gap: 12px;\n",
              "    }\n",
              "\n",
              "    .colab-df-convert {\n",
              "      background-color: #E8F0FE;\n",
              "      border: none;\n",
              "      border-radius: 50%;\n",
              "      cursor: pointer;\n",
              "      display: none;\n",
              "      fill: #1967D2;\n",
              "      height: 32px;\n",
              "      padding: 0 0 0 0;\n",
              "      width: 32px;\n",
              "    }\n",
              "\n",
              "    .colab-df-convert:hover {\n",
              "      background-color: #E2EBFA;\n",
              "      box-shadow: 0px 1px 2px rgba(60, 64, 67, 0.3), 0px 1px 3px 1px rgba(60, 64, 67, 0.15);\n",
              "      fill: #174EA6;\n",
              "    }\n",
              "\n",
              "    [theme=dark] .colab-df-convert {\n",
              "      background-color: #3B4455;\n",
              "      fill: #D2E3FC;\n",
              "    }\n",
              "\n",
              "    [theme=dark] .colab-df-convert:hover {\n",
              "      background-color: #434B5C;\n",
              "      box-shadow: 0px 1px 3px 1px rgba(0, 0, 0, 0.15);\n",
              "      filter: drop-shadow(0px 1px 2px rgba(0, 0, 0, 0.3));\n",
              "      fill: #FFFFFF;\n",
              "    }\n",
              "  </style>\n",
              "\n",
              "      <script>\n",
              "        const buttonEl =\n",
              "          document.querySelector('#df-c39a69e6-2f31-4446-9e49-8af0c40ee24b button.colab-df-convert');\n",
              "        buttonEl.style.display =\n",
              "          google.colab.kernel.accessAllowed ? 'block' : 'none';\n",
              "\n",
              "        async function convertToInteractive(key) {\n",
              "          const element = document.querySelector('#df-c39a69e6-2f31-4446-9e49-8af0c40ee24b');\n",
              "          const dataTable =\n",
              "            await google.colab.kernel.invokeFunction('convertToInteractive',\n",
              "                                                     [key], {});\n",
              "          if (!dataTable) return;\n",
              "\n",
              "          const docLinkHtml = 'Like what you see? Visit the ' +\n",
              "            '<a target=\"_blank\" href=https://colab.research.google.com/notebooks/data_table.ipynb>data table notebook</a>'\n",
              "            + ' to learn more about interactive tables.';\n",
              "          element.innerHTML = '';\n",
              "          dataTable['output_type'] = 'display_data';\n",
              "          await google.colab.output.renderOutput(dataTable, element);\n",
              "          const docLink = document.createElement('div');\n",
              "          docLink.innerHTML = docLinkHtml;\n",
              "          element.appendChild(docLink);\n",
              "        }\n",
              "      </script>\n",
              "    </div>\n",
              "  </div>\n"
            ]
          },
          "metadata": {},
          "execution_count": 53
        }
      ]
    },
    {
      "cell_type": "code",
      "source": [
        "mean_values = df1.mean()\n",
        "\n",
        "# Replace null values with the respective column mean\n",
        "df1.fillna(mean_values, inplace=True)"
      ],
      "metadata": {
        "id": "l--lAHhikAEl"
      },
      "execution_count": 54,
      "outputs": []
    },
    {
      "cell_type": "code",
      "source": [
        "df1.isnull().sum()"
      ],
      "metadata": {
        "colab": {
          "base_uri": "https://localhost:8080/"
        },
        "id": "6MuyfhGvknWI",
        "outputId": "64554724-7d0b-4e33-d64b-a3950852a3d2"
      },
      "execution_count": 55,
      "outputs": [
        {
          "output_type": "execute_result",
          "data": {
            "text/plain": [
              "disposition        0\n",
              "fine_amount        0\n",
              "late_fee           0\n",
              "discount_amount    0\n",
              "judgment_amount    0\n",
              "compliance         0\n",
              "dtype: int64"
            ]
          },
          "metadata": {},
          "execution_count": 55
        }
      ]
    },
    {
      "cell_type": "markdown",
      "metadata": {
        "id": "go-m0jKpnxzf"
      },
      "source": [
        "Q. Are there any columns with null values?"
      ]
    },
    {
      "cell_type": "code",
      "execution_count": 56,
      "metadata": {
        "colab": {
          "base_uri": "https://localhost:8080/"
        },
        "id": "V5Jm6Cdvsi0J",
        "outputId": "a7037dca-4ffd-42a4-c717-1a938e508436"
      },
      "outputs": [
        {
          "output_type": "stream",
          "name": "stdout",
          "text": [
            "disposition        False\n",
            "fine_amount         True\n",
            "late_fee           False\n",
            "discount_amount    False\n",
            "clean_up_cost      False\n",
            "judgment_amount    False\n",
            "grafitti_status     True\n",
            "compliance          True\n",
            "dtype: bool\n"
          ]
        }
      ],
      "source": [
        "#yes there are\n",
        "print(df.isnull().any(axis=0))"
      ]
    },
    {
      "cell_type": "markdown",
      "metadata": {
        "id": "1B1CNLnznxzg"
      },
      "source": [
        "Q. Which columns are categorical vs continuous? What is our target variable?"
      ]
    },
    {
      "cell_type": "code",
      "execution_count": 57,
      "metadata": {
        "colab": {
          "base_uri": "https://localhost:8080/"
        },
        "id": "x0SZIKiystQD",
        "outputId": "df541bde-fa6c-4d49-8ad0-cdc734871f98"
      },
      "outputs": [
        {
          "output_type": "stream",
          "name": "stdout",
          "text": [
            "<class 'pandas.core.frame.DataFrame'>\n",
            "RangeIndex: 250306 entries, 0 to 250305\n",
            "Data columns (total 8 columns):\n",
            " #   Column           Non-Null Count   Dtype  \n",
            "---  ------           --------------   -----  \n",
            " 0   disposition      250306 non-null  object \n",
            " 1   fine_amount      250305 non-null  float64\n",
            " 2   late_fee         250306 non-null  float64\n",
            " 3   discount_amount  250306 non-null  float64\n",
            " 4   clean_up_cost    250306 non-null  float64\n",
            " 5   judgment_amount  250306 non-null  float64\n",
            " 6   grafitti_status  1 non-null       object \n",
            " 7   compliance       159880 non-null  float64\n",
            "dtypes: float64(6), object(2)\n",
            "memory usage: 15.3+ MB\n"
          ]
        }
      ],
      "source": [
        "df.info()\n",
        "#categorical = disposition\n",
        "#target = compliance\n",
        "#continuous ="
      ]
    },
    {
      "cell_type": "markdown",
      "metadata": {
        "id": "eA2SKAwVnxzg"
      },
      "source": [
        "Q. There are two columns that needs to be dropped before building the models. What are those and why it needs to be dropped?"
      ]
    },
    {
      "cell_type": "code",
      "execution_count": 58,
      "metadata": {
        "id": "ZCnqRQUDs_mD"
      },
      "outputs": [],
      "source": [
        "#clean up cost and grafitti_status\n",
        "#graffiti_status column contains NaN values for all the rows\n",
        "#clean_up_cost column contains all 0.0 values for all the rows"
      ]
    },
    {
      "cell_type": "markdown",
      "metadata": {
        "id": "Yms1nNqFnxzh"
      },
      "source": [
        "Q. Write a code to drop rows in df with null values. What percentage of rows have null values?"
      ]
    },
    {
      "cell_type": "code",
      "execution_count": 59,
      "metadata": {
        "colab": {
          "base_uri": "https://localhost:8080/"
        },
        "id": "ebLt66vfuex1",
        "outputId": "d4eb1205-7a6b-4f16-9453-b893beef4557"
      },
      "outputs": [
        {
          "output_type": "stream",
          "name": "stdout",
          "text": [
            "disposition         0.00000\n",
            "fine_amount         0.00040\n",
            "late_fee            0.00000\n",
            "discount_amount     0.00000\n",
            "clean_up_cost       0.00000\n",
            "judgment_amount     0.00000\n",
            "grafitti_status    99.99960\n",
            "compliance         36.12618\n",
            "dtype: float64\n"
          ]
        }
      ],
      "source": [
        "percentage_null_values = (df.isnull().mean() * 100).round(5)\n",
        "\n",
        "print(percentage_null_values)"
      ]
    },
    {
      "cell_type": "code",
      "execution_count": 60,
      "metadata": {
        "id": "RZ6qpny28vtM"
      },
      "outputs": [],
      "source": [
        "mean_values = df1.mean()\n",
        "\n",
        "# Replace null values with the respective column mean\n",
        "df1.fillna(mean_values, inplace=True)"
      ]
    },
    {
      "cell_type": "code",
      "source": [
        "df1.isnull().sum()"
      ],
      "metadata": {
        "colab": {
          "base_uri": "https://localhost:8080/"
        },
        "id": "EU0I8WY8k8t2",
        "outputId": "99e0e108-b3ad-49f8-9a85-5a3175b14d77"
      },
      "execution_count": 61,
      "outputs": [
        {
          "output_type": "execute_result",
          "data": {
            "text/plain": [
              "disposition        0\n",
              "fine_amount        0\n",
              "late_fee           0\n",
              "discount_amount    0\n",
              "judgment_amount    0\n",
              "compliance         0\n",
              "dtype: int64"
            ]
          },
          "metadata": {},
          "execution_count": 61
        }
      ]
    },
    {
      "cell_type": "markdown",
      "metadata": {
        "id": "3v_lVcrdnxzi"
      },
      "source": [
        "Q. Convert categorical variables into dummy variables, and then apply *train_test_split* to split the data into training and test set. Use *random_state = 0* keeping other arguments at default."
      ]
    },
    {
      "cell_type": "code",
      "execution_count": 62,
      "metadata": {
        "colab": {
          "base_uri": "https://localhost:8080/"
        },
        "id": "FrtDtjqk6ykB",
        "outputId": "0f0a399b-8717-4137-846f-bd64ba10de32"
      },
      "outputs": [
        {
          "output_type": "stream",
          "name": "stdout",
          "text": [
            "   fine_amount  late_fee  discount_amount  judgment_amount  compliance  \\\n",
            "0        250.0      25.0              0.0            305.0    0.000000   \n",
            "1        750.0      75.0              0.0            855.0    1.000000   \n",
            "2        250.0       0.0              0.0              0.0    0.072536   \n",
            "3        250.0       0.0              0.0              0.0    0.072536   \n",
            "4        250.0       0.0              0.0              0.0    0.072536   \n",
            "\n",
            "   disposition_Not responsible by City Dismissal  \\\n",
            "0                                              0   \n",
            "1                                              0   \n",
            "2                                              0   \n",
            "3                                              1   \n",
            "4                                              0   \n",
            "\n",
            "   disposition_Not responsible by Determination  \\\n",
            "0                                             0   \n",
            "1                                             0   \n",
            "2                                             0   \n",
            "3                                             0   \n",
            "4                                             0   \n",
            "\n",
            "   disposition_Not responsible by Dismissal  disposition_PENDING JUDGMENT  \\\n",
            "0                                         0                             0   \n",
            "1                                         0                             0   \n",
            "2                                         1                             0   \n",
            "3                                         0                             0   \n",
            "4                                         1                             0   \n",
            "\n",
            "   disposition_Responsible (Fine Waived) by Deter  \\\n",
            "0                                               0   \n",
            "1                                               0   \n",
            "2                                               0   \n",
            "3                                               0   \n",
            "4                                               0   \n",
            "\n",
            "   disposition_Responsible by Admission  disposition_Responsible by Default  \\\n",
            "0                                     0                                   1   \n",
            "1                                     0                                   0   \n",
            "2                                     0                                   0   \n",
            "3                                     0                                   0   \n",
            "4                                     0                                   0   \n",
            "\n",
            "   disposition_Responsible by Determination  \\\n",
            "0                                         0   \n",
            "1                                         1   \n",
            "2                                         0   \n",
            "3                                         0   \n",
            "4                                         0   \n",
            "\n",
            "   disposition_SET-ASIDE (PENDING JUDGMENT)  \n",
            "0                                         0  \n",
            "1                                         0  \n",
            "2                                         0  \n",
            "3                                         0  \n",
            "4                                         0  \n"
          ]
        }
      ],
      "source": [
        "df2 = pd.get_dummies(df1)\n",
        "print(df2.head())"
      ]
    },
    {
      "cell_type": "code",
      "execution_count": 63,
      "metadata": {
        "id": "2pzBdaS3JGiF",
        "colab": {
          "base_uri": "https://localhost:8080/"
        },
        "outputId": "4851049d-3a30-4961-b14f-ef377c86b43c"
      },
      "outputs": [
        {
          "output_type": "stream",
          "name": "stdout",
          "text": [
            "<class 'pandas.core.frame.DataFrame'>\n",
            "RangeIndex: 250306 entries, 0 to 250305\n",
            "Data columns (total 14 columns):\n",
            " #   Column                                          Non-Null Count   Dtype  \n",
            "---  ------                                          --------------   -----  \n",
            " 0   fine_amount                                     250306 non-null  float64\n",
            " 1   late_fee                                        250306 non-null  float64\n",
            " 2   discount_amount                                 250306 non-null  float64\n",
            " 3   judgment_amount                                 250306 non-null  float64\n",
            " 4   compliance                                      250306 non-null  float64\n",
            " 5   disposition_Not responsible by City Dismissal   250306 non-null  uint8  \n",
            " 6   disposition_Not responsible by Determination    250306 non-null  uint8  \n",
            " 7   disposition_Not responsible by Dismissal        250306 non-null  uint8  \n",
            " 8   disposition_PENDING JUDGMENT                    250306 non-null  uint8  \n",
            " 9   disposition_Responsible (Fine Waived) by Deter  250306 non-null  uint8  \n",
            " 10  disposition_Responsible by Admission            250306 non-null  uint8  \n",
            " 11  disposition_Responsible by Default              250306 non-null  uint8  \n",
            " 12  disposition_Responsible by Determination        250306 non-null  uint8  \n",
            " 13  disposition_SET-ASIDE (PENDING JUDGMENT)        250306 non-null  uint8  \n",
            "dtypes: float64(5), uint8(9)\n",
            "memory usage: 11.7 MB\n"
          ]
        }
      ],
      "source": [
        "df2.info()"
      ]
    },
    {
      "cell_type": "code",
      "source": [
        "df2 = df2.astype('int64')\n",
        "df2.dtypes"
      ],
      "metadata": {
        "colab": {
          "base_uri": "https://localhost:8080/"
        },
        "id": "BbOi97Rop8vC",
        "outputId": "a60246e8-4fe6-4885-f809-ea4320413b0f"
      },
      "execution_count": 64,
      "outputs": [
        {
          "output_type": "execute_result",
          "data": {
            "text/plain": [
              "fine_amount                                       int64\n",
              "late_fee                                          int64\n",
              "discount_amount                                   int64\n",
              "judgment_amount                                   int64\n",
              "compliance                                        int64\n",
              "disposition_Not responsible by City Dismissal     int64\n",
              "disposition_Not responsible by Determination      int64\n",
              "disposition_Not responsible by Dismissal          int64\n",
              "disposition_PENDING JUDGMENT                      int64\n",
              "disposition_Responsible (Fine Waived) by Deter    int64\n",
              "disposition_Responsible by Admission              int64\n",
              "disposition_Responsible by Default                int64\n",
              "disposition_Responsible by Determination          int64\n",
              "disposition_SET-ASIDE (PENDING JUDGMENT)          int64\n",
              "dtype: object"
            ]
          },
          "metadata": {},
          "execution_count": 64
        }
      ]
    },
    {
      "cell_type": "code",
      "source": [
        "df2.shape"
      ],
      "metadata": {
        "colab": {
          "base_uri": "https://localhost:8080/"
        },
        "id": "xOSE4qCz_5L0",
        "outputId": "67be1f31-3b9f-46ab-863f-40dc857c0219"
      },
      "execution_count": 65,
      "outputs": [
        {
          "output_type": "execute_result",
          "data": {
            "text/plain": [
              "(250306, 14)"
            ]
          },
          "metadata": {},
          "execution_count": 65
        }
      ]
    },
    {
      "cell_type": "code",
      "execution_count": 66,
      "metadata": {
        "id": "KaxFOG_eGlTY"
      },
      "outputs": [],
      "source": [
        "import pandas as pd\n",
        "from sklearn.model_selection import train_test_split\n",
        "X = df2.drop(['compliance'],axis = 1)\n",
        "y = df2['compliance']\n",
        "X_train, X_test, y_train, y_test = train_test_split(X, y, test_size=0.3, random_state=0)"
      ]
    },
    {
      "cell_type": "markdown",
      "metadata": {
        "id": "e7Il8742nxzi"
      },
      "source": [
        "Q. Use the training set to train a dummy classifier (*from sklearn.dummy import DummyClassifier*) that classifies everything as the majority class (most_frequent strategy) of the training data. What is the accuracy and roc auc score of this classifier?\n",
        "\n",
        "Note: For calculating roc auc score, you need to pass predicted probability by using *predict_proba* method. For example, for a classifier with name *'clf'*, predicted probability can be calculated by:\n",
        "\n",
        "*y_clf_proba = clf.predict_proba(X_test)[:,1]*"
      ]
    },
    {
      "cell_type": "code",
      "execution_count": 68,
      "metadata": {
        "id": "lLYooVBw-5fM",
        "colab": {
          "base_uri": "https://localhost:8080/"
        },
        "outputId": "edf15cbe-769a-4c47-ac5c-5b4d0daa0871"
      },
      "outputs": [
        {
          "output_type": "stream",
          "name": "stdout",
          "text": [
            "Accuracy: 0.9526847067597081\n",
            "ROC AUC Score: 0.5\n"
          ]
        }
      ],
      "source": [
        "from sklearn.dummy import DummyClassifier\n",
        "from sklearn.metrics import accuracy_score, roc_auc_score\n",
        "\n",
        "\n",
        "dummy_classifier = DummyClassifier(strategy='most_frequent')\n",
        "dummy_classifier.fit(X_train, y_train)\n",
        "\n",
        "# Make predictions using the dummy classifier\n",
        "y_pred = dummy_classifier.predict(X_test)\n",
        "\n",
        "# Calculate accuracy\n",
        "accuracy = accuracy_score(y_test, y_pred)\n",
        "print(\"Accuracy:\", accuracy)\n",
        "\n",
        "# Calculate predicted probabilities using predict_proba method\n",
        "y_dummy_proba = dummy_classifier.predict_proba(X_test)[:, 1]\n",
        "\n",
        "# Calculating ROC AUC score\n",
        "roc_auc = roc_auc_score(y_test, y_dummy_proba)\n",
        "print(\"ROC AUC Score:\", roc_auc)"
      ]
    },
    {
      "cell_type": "markdown",
      "metadata": {
        "id": "3vqsukr0nxzj"
      },
      "source": [
        "### Logistic Regression"
      ]
    },
    {
      "cell_type": "markdown",
      "metadata": {
        "id": "T1uiZsSVnxzj"
      },
      "source": [
        "Q. Use X_train to train two logistic regression model with fit_intercept= True and fit_intercept=False. Calculate the accuracy, confusion matrix, TPR and FPR. Also report the metrics if the probability threshold is changed to 0.3 and 0.7 ."
      ]
    },
    {
      "cell_type": "code",
      "execution_count": 69,
      "metadata": {
        "id": "Qo2X-m4GFhhw",
        "colab": {
          "base_uri": "https://localhost:8080/"
        },
        "outputId": "82e48494-36a9-479a-e081-9ec2e642877d"
      },
      "outputs": [
        {
          "output_type": "stream",
          "name": "stdout",
          "text": [
            "Threshold: 0.3\n",
            "Model with fit_intercept=True:\n",
            "Accuracy: 0.949248921323177\n",
            "Confusion Matrix:\n",
            " [[70197  1342]\n",
            " [ 2469  1084]]\n",
            "TPR: [0.         0.00337743 0.00365888 0.00478469 0.0059105  0.00816212\n",
            " 0.00872502 0.01210245 0.05347594 0.05403884 0.06107515 0.0619195\n",
            " 0.06839291 0.06923726 0.07064453 0.08387278 0.08443569 0.08471714\n",
            " 0.0861244  0.08865747 0.08893892 0.09231635 0.0925978  0.10019702\n",
            " 0.11398818 0.11455108 0.11483254 0.14466648 0.16633831 0.16690121\n",
            " 0.18885449 0.20968196 0.21080777 0.21165212 0.21193358 0.21249648\n",
            " 0.22094005 0.23050943 0.23276105 0.24767802 0.24767802 0.24795947\n",
            " 0.24964818 0.26203209 0.26259499 0.30509429 0.3062201  0.3073459\n",
            " 0.30762736 0.30762736 0.30847171 0.43850267 0.43878413 0.45088657\n",
            " 0.45144948 0.49000844 0.52068674 0.52575288 0.52969322 0.53025612\n",
            " 0.53110048 0.53110048 0.53194484 0.53278919 0.53278919 0.53729243\n",
            " 0.53729243 0.53729243 0.54095131 0.54264002 0.54264002 0.54264002\n",
            " 0.54292147 0.54320293 0.54461019 0.54489164 0.54489164 0.54545455\n",
            " 0.56009006 0.56431185 0.56431185 0.56487475 0.5705038  0.5764143\n",
            " 0.57894737 0.65944272 0.72136223 0.72305094 0.76949057 0.97438784\n",
            " 0.97860963 0.97860963 0.97860963 0.98029834 0.98930481 0.98930481\n",
            " 0.98958627 0.98958627 0.98958627 0.99577822 0.99577822 0.99577822\n",
            " 0.99634112 0.99634112 0.99662257 0.99662257 0.99662257 0.99662257\n",
            " 0.99662257 0.99662257 0.99746693 0.99746693 0.99746693 0.99746693\n",
            " 1.         1.         1.         1.         1.         1.\n",
            " 1.         1.         1.         1.         1.         1.\n",
            " 1.         1.         1.         1.         1.         1.\n",
            " 1.         1.         1.         1.         1.         1.\n",
            " 1.         1.         1.         1.         1.         1.\n",
            " 1.         1.         1.         1.         1.         1.\n",
            " 1.         1.         1.         1.         1.         1.\n",
            " 1.         1.         1.         1.         1.         1.\n",
            " 1.         1.         1.         1.         1.         1.\n",
            " 1.         1.         1.         1.         1.         1.\n",
            " 1.         1.         1.         1.         1.         1.\n",
            " 1.        ]\n",
            "FPR: [0.00000000e+00 0.00000000e+00 0.00000000e+00 0.00000000e+00\n",
            " 0.00000000e+00 0.00000000e+00 1.39783894e-05 1.39783894e-05\n",
            " 8.38703365e-05 8.38703365e-05 9.78487259e-05 9.78487259e-05\n",
            " 9.78487259e-05 1.25805505e-04 1.39783894e-04 1.67740673e-04\n",
            " 3.77416514e-04 3.77416514e-04 3.77416514e-04 3.77416514e-04\n",
            " 4.61286851e-04 4.89243629e-04 4.89243629e-04 5.31178798e-04\n",
            " 5.87092355e-04 5.87092355e-04 5.87092355e-04 6.98919470e-04\n",
            " 8.24724975e-04 8.24724975e-04 9.64508869e-04 9.78487259e-04\n",
            " 9.92465648e-04 9.92465648e-04 9.92465648e-04 1.48170928e-03\n",
            " 3.10320245e-03 5.96877228e-03 5.96877228e-03 5.96877228e-03\n",
            " 5.98275067e-03 5.98275067e-03 6.36016718e-03 9.05799634e-03\n",
            " 9.08595312e-03 1.87589986e-02 1.89407177e-02 1.97933994e-02\n",
            " 1.97933994e-02 1.98213562e-02 2.00170536e-02 3.86642251e-02\n",
            " 3.86642251e-02 4.17814059e-02 4.19910818e-02 5.03641370e-02\n",
            " 5.84855813e-02 5.97436363e-02 6.00371825e-02 6.00930961e-02\n",
            " 6.02608367e-02 6.02887935e-02 6.04425558e-02 6.04425558e-02\n",
            " 6.05963181e-02 6.10576049e-02 6.10855617e-02 6.10995401e-02\n",
            " 6.22597464e-02 6.23995303e-02 6.24135087e-02 6.25532926e-02\n",
            " 6.25532926e-02 6.26231846e-02 6.27070549e-02 6.27070549e-02\n",
            " 6.27210333e-02 6.27350117e-02 6.28887740e-02 6.29167307e-02\n",
            " 6.29446875e-02 6.29586659e-02 6.30145795e-02 6.30984498e-02\n",
            " 6.77252967e-02 1.35562420e-01 1.81607235e-01 1.84528719e-01\n",
            " 2.25792924e-01 5.40083032e-01 5.55137757e-01 5.55543130e-01\n",
            " 5.55710871e-01 5.56074309e-01 5.82325724e-01 5.82339703e-01\n",
            " 5.83136471e-01 5.83178406e-01 5.83499909e-01 6.02189016e-01\n",
            " 6.03097611e-01 6.03153525e-01 6.04383623e-01 6.06927690e-01\n",
            " 6.07920155e-01 6.07976069e-01 6.08031983e-01 6.08115853e-01\n",
            " 6.09262081e-01 6.18599645e-01 6.24274871e-01 6.46835992e-01\n",
            " 6.46877927e-01 6.46905884e-01 6.61611149e-01 6.61639106e-01\n",
            " 6.61820825e-01 6.64504676e-01 6.70599254e-01 6.71004627e-01\n",
            " 6.86227093e-01 6.86730315e-01 6.87359342e-01 6.87429234e-01\n",
            " 6.87457191e-01 6.87471170e-01 6.87513105e-01 6.87610953e-01\n",
            " 6.91329205e-01 6.97689372e-01 6.98304421e-01 7.13582801e-01\n",
            " 7.14547310e-01 7.15567732e-01 7.29392359e-01 8.26626036e-01\n",
            " 9.39711206e-01 9.39767120e-01 9.40018731e-01 9.45763849e-01\n",
            " 9.51536924e-01 9.51550902e-01 9.51746600e-01 9.51788535e-01\n",
            " 9.51816492e-01 9.51886384e-01 9.51984232e-01 9.53605726e-01\n",
            " 9.60441158e-01 9.69583025e-01 9.69610981e-01 9.69638938e-01\n",
            " 9.69736787e-01 9.70142160e-01 9.70589469e-01 9.70617425e-01\n",
            " 9.70687317e-01 9.72420638e-01 9.75845343e-01 9.82359273e-01\n",
            " 9.82415186e-01 9.82568948e-01 9.83170019e-01 9.84260334e-01\n",
            " 9.84288290e-01 9.84330225e-01 9.84344204e-01 9.85085058e-01\n",
            " 9.86608703e-01 9.88971051e-01 9.88999008e-01 9.89110835e-01\n",
            " 9.89152770e-01 9.90564587e-01 9.93793595e-01 9.98364528e-01\n",
            " 9.98560226e-01 9.99217210e-01 9.99301081e-01 9.99524735e-01\n",
            " 1.00000000e+00]\n",
            "AUC: 0.8663554574124603\n",
            "\n",
            "Model with fit_intercept=False:\n",
            "Accuracy: 0.9564534171416396\n",
            "Confusion Matrix:\n",
            " [[70889   650]\n",
            " [ 2620   933]]\n",
            "TPR: [0.         0.00337743 0.00365888 0.00478469 0.0059105  0.00816212\n",
            " 0.00872502 0.01210245 0.05347594 0.05403884 0.06107515 0.0619195\n",
            " 0.06839291 0.06895581 0.07036307 0.07120743 0.0737405  0.07402195\n",
            " 0.07430341 0.08753166 0.08893892 0.08922038 0.10413735 0.10751478\n",
            " 0.10864059 0.1162398  0.13003096 0.13059386 0.13087532 0.16070926\n",
            " 0.18238109 0.18294399 0.18322544 0.20517872 0.20686744 0.22769491\n",
            " 0.22853926 0.22882071 0.22938362 0.23782719 0.24739657 0.24795947\n",
            " 0.24795947 0.25021109 0.26259499 0.26259499 0.30509429 0.3062201\n",
            " 0.30706445 0.30819026 0.30819026 0.30847171 0.30847171 0.30931607\n",
            " 0.43934703 0.43962848 0.45173093 0.45679707 0.45735998 0.49591894\n",
            " 0.52659724 0.53053757 0.53110048 0.53194484 0.53194484 0.53194484\n",
            " 0.53194484 0.53278919 0.53729243 0.53729243 0.54095131 0.54095131\n",
            " 0.54264002 0.54264002 0.54264002 0.54264002 0.54292147 0.54320293\n",
            " 0.54348438 0.54404728 0.54545455 0.56009006 0.56431185 0.56487475\n",
            " 0.56487475 0.5705038  0.5764143  0.57894737 0.65944272 0.72136223\n",
            " 0.72305094 0.72305094 0.76949057 0.97438784 0.97860963 0.97860963\n",
            " 0.97860963 0.9876161  0.9876161  0.98930481 0.98930481 0.98930481\n",
            " 0.98930481 0.98958627 0.99577822 0.99577822 0.99577822 0.99605967\n",
            " 0.99662257 0.99662257 0.99662257 0.99662257 0.99662257 0.99746693\n",
            " 0.99746693 0.99746693 0.99746693 1.         1.         1.\n",
            " 1.         1.         1.         1.         1.         1.\n",
            " 1.         1.         1.         1.         1.         1.\n",
            " 1.         1.         1.         1.         1.         1.\n",
            " 1.         1.         1.         1.         1.         1.\n",
            " 1.         1.         1.         1.         1.         1.\n",
            " 1.         1.         1.         1.         1.         1.\n",
            " 1.         1.         1.         1.         1.         1.\n",
            " 1.         1.         1.         1.         1.         1.\n",
            " 1.         1.         1.         1.         1.         1.\n",
            " 1.         1.         1.         1.         1.         1.\n",
            " 1.         1.         1.        ]\n",
            "FPR: [0.00000000e+00 0.00000000e+00 0.00000000e+00 0.00000000e+00\n",
            " 0.00000000e+00 0.00000000e+00 1.39783894e-05 1.39783894e-05\n",
            " 8.38703365e-05 8.38703365e-05 9.78487259e-05 1.25805505e-04\n",
            " 1.25805505e-04 3.35481346e-04 3.49459735e-04 3.49459735e-04\n",
            " 3.49459735e-04 3.49459735e-04 4.33330072e-04 4.61286851e-04\n",
            " 4.61286851e-04 4.61286851e-04 4.61286851e-04 4.89243629e-04\n",
            " 5.03222019e-04 5.45157187e-04 6.01070745e-04 6.01070745e-04\n",
            " 6.01070745e-04 7.12897860e-04 8.38703365e-04 8.38703365e-04\n",
            " 8.38703365e-04 9.78487259e-04 1.35590377e-03 1.36988216e-03\n",
            " 1.36988216e-03 1.36988216e-03 1.85912579e-03 3.48061896e-03\n",
            " 6.34618879e-03 6.37414557e-03 6.38812396e-03 6.38812396e-03\n",
            " 9.08595312e-03 9.09993151e-03 1.87729770e-02 1.96256587e-02\n",
            " 1.96256587e-02 1.98073778e-02 1.98213562e-02 1.98213562e-02\n",
            " 1.98353346e-02 2.00310320e-02 3.86782035e-02 3.86782035e-02\n",
            " 4.17953843e-02 4.30534394e-02 4.32631152e-02 5.16361705e-02\n",
            " 5.97576147e-02 6.00511609e-02 6.01070745e-02 6.02748151e-02\n",
            " 6.02887935e-02 6.04425558e-02 6.04565342e-02 6.06102965e-02\n",
            " 6.10715833e-02 6.10995401e-02 6.22597464e-02 6.22737248e-02\n",
            " 6.24135087e-02 6.24554439e-02 6.25952278e-02 6.29167307e-02\n",
            " 6.29167307e-02 6.29866227e-02 6.29866227e-02 6.30006011e-02\n",
            " 6.30844714e-02 6.32382337e-02 6.32661905e-02 6.32801689e-02\n",
            " 6.32941472e-02 6.33500608e-02 6.34339311e-02 6.80607780e-02\n",
            " 1.35897902e-01 1.81942717e-01 1.84864200e-01 1.84892157e-01\n",
            " 2.26156362e-01 5.40446470e-01 5.55501195e-01 5.55906568e-01\n",
            " 5.56074309e-01 5.82325724e-01 5.83234320e-01 5.83597758e-01\n",
            " 5.83611736e-01 5.83667650e-01 5.83751520e-01 5.84548288e-01\n",
            " 6.03237395e-01 6.04383623e-01 6.04439536e-01 6.05432002e-01\n",
            " 6.06662100e-01 6.09206167e-01 6.09234124e-01 6.18571688e-01\n",
            " 6.18599645e-01 6.24274871e-01 6.24302828e-01 6.24344763e-01\n",
            " 6.46905884e-01 6.61611149e-01 6.61639106e-01 6.61820825e-01\n",
            " 6.64504676e-01 6.64910049e-01 6.71004627e-01 6.86227093e-01\n",
            " 6.86730315e-01 6.86800207e-01 6.87429234e-01 6.87443213e-01\n",
            " 6.87471170e-01 6.87513105e-01 6.87610953e-01 6.88226003e-01\n",
            " 6.91944254e-01 6.98304421e-01 7.13582801e-01 7.14547310e-01\n",
            " 7.15567732e-01 7.29392359e-01 8.26626036e-01 9.39711206e-01\n",
            " 9.39767120e-01 9.40018731e-01 9.45763849e-01 9.51536924e-01\n",
            " 9.51550902e-01 9.51746600e-01 9.51788535e-01 9.51816492e-01\n",
            " 9.51886384e-01 9.51984232e-01 9.53605726e-01 9.60441158e-01\n",
            " 9.69583025e-01 9.69610981e-01 9.69638938e-01 9.69736787e-01\n",
            " 9.70142160e-01 9.70589469e-01 9.70617425e-01 9.70687317e-01\n",
            " 9.72420638e-01 9.75845343e-01 9.82359273e-01 9.82401208e-01\n",
            " 9.82554970e-01 9.82568948e-01 9.83170019e-01 9.84260334e-01\n",
            " 9.84288290e-01 9.84330225e-01 9.84344204e-01 9.85085058e-01\n",
            " 9.86608703e-01 9.88971051e-01 9.88999008e-01 9.89110835e-01\n",
            " 9.89152770e-01 9.90564587e-01 9.93793595e-01 9.98364528e-01\n",
            " 9.98560226e-01 9.99217210e-01 1.00000000e+00]\n",
            "AUC: 0.8662456997125562\n",
            "\n",
            "Threshold: 0.7\n",
            "Model with fit_intercept=True:\n",
            "Accuracy: 0.9558408352421031\n",
            "Confusion Matrix:\n",
            " [[71530     9]\n",
            " [ 3307   246]]\n",
            "TPR: [0.         0.00337743 0.00365888 0.00478469 0.0059105  0.00816212\n",
            " 0.00872502 0.01210245 0.05347594 0.05403884 0.06107515 0.0619195\n",
            " 0.06839291 0.06923726 0.07064453 0.08387278 0.08443569 0.08471714\n",
            " 0.0861244  0.08865747 0.08893892 0.09231635 0.0925978  0.10019702\n",
            " 0.11398818 0.11455108 0.11483254 0.14466648 0.16633831 0.16690121\n",
            " 0.18885449 0.20968196 0.21080777 0.21165212 0.21193358 0.21249648\n",
            " 0.22094005 0.23050943 0.23276105 0.24767802 0.24767802 0.24795947\n",
            " 0.24964818 0.26203209 0.26259499 0.30509429 0.3062201  0.3073459\n",
            " 0.30762736 0.30762736 0.30847171 0.43850267 0.43878413 0.45088657\n",
            " 0.45144948 0.49000844 0.52068674 0.52575288 0.52969322 0.53025612\n",
            " 0.53110048 0.53110048 0.53194484 0.53278919 0.53278919 0.53729243\n",
            " 0.53729243 0.53729243 0.54095131 0.54264002 0.54264002 0.54264002\n",
            " 0.54292147 0.54320293 0.54461019 0.54489164 0.54489164 0.54545455\n",
            " 0.56009006 0.56431185 0.56431185 0.56487475 0.5705038  0.5764143\n",
            " 0.57894737 0.65944272 0.72136223 0.72305094 0.76949057 0.97438784\n",
            " 0.97860963 0.97860963 0.97860963 0.98029834 0.98930481 0.98930481\n",
            " 0.98958627 0.98958627 0.98958627 0.99577822 0.99577822 0.99577822\n",
            " 0.99634112 0.99634112 0.99662257 0.99662257 0.99662257 0.99662257\n",
            " 0.99662257 0.99662257 0.99746693 0.99746693 0.99746693 0.99746693\n",
            " 1.         1.         1.         1.         1.         1.\n",
            " 1.         1.         1.         1.         1.         1.\n",
            " 1.         1.         1.         1.         1.         1.\n",
            " 1.         1.         1.         1.         1.         1.\n",
            " 1.         1.         1.         1.         1.         1.\n",
            " 1.         1.         1.         1.         1.         1.\n",
            " 1.         1.         1.         1.         1.         1.\n",
            " 1.         1.         1.         1.         1.         1.\n",
            " 1.         1.         1.         1.         1.         1.\n",
            " 1.         1.         1.         1.         1.         1.\n",
            " 1.         1.         1.         1.         1.         1.\n",
            " 1.        ]\n",
            "FPR: [0.00000000e+00 0.00000000e+00 0.00000000e+00 0.00000000e+00\n",
            " 0.00000000e+00 0.00000000e+00 1.39783894e-05 1.39783894e-05\n",
            " 8.38703365e-05 8.38703365e-05 9.78487259e-05 9.78487259e-05\n",
            " 9.78487259e-05 1.25805505e-04 1.39783894e-04 1.67740673e-04\n",
            " 3.77416514e-04 3.77416514e-04 3.77416514e-04 3.77416514e-04\n",
            " 4.61286851e-04 4.89243629e-04 4.89243629e-04 5.31178798e-04\n",
            " 5.87092355e-04 5.87092355e-04 5.87092355e-04 6.98919470e-04\n",
            " 8.24724975e-04 8.24724975e-04 9.64508869e-04 9.78487259e-04\n",
            " 9.92465648e-04 9.92465648e-04 9.92465648e-04 1.48170928e-03\n",
            " 3.10320245e-03 5.96877228e-03 5.96877228e-03 5.96877228e-03\n",
            " 5.98275067e-03 5.98275067e-03 6.36016718e-03 9.05799634e-03\n",
            " 9.08595312e-03 1.87589986e-02 1.89407177e-02 1.97933994e-02\n",
            " 1.97933994e-02 1.98213562e-02 2.00170536e-02 3.86642251e-02\n",
            " 3.86642251e-02 4.17814059e-02 4.19910818e-02 5.03641370e-02\n",
            " 5.84855813e-02 5.97436363e-02 6.00371825e-02 6.00930961e-02\n",
            " 6.02608367e-02 6.02887935e-02 6.04425558e-02 6.04425558e-02\n",
            " 6.05963181e-02 6.10576049e-02 6.10855617e-02 6.10995401e-02\n",
            " 6.22597464e-02 6.23995303e-02 6.24135087e-02 6.25532926e-02\n",
            " 6.25532926e-02 6.26231846e-02 6.27070549e-02 6.27070549e-02\n",
            " 6.27210333e-02 6.27350117e-02 6.28887740e-02 6.29167307e-02\n",
            " 6.29446875e-02 6.29586659e-02 6.30145795e-02 6.30984498e-02\n",
            " 6.77252967e-02 1.35562420e-01 1.81607235e-01 1.84528719e-01\n",
            " 2.25792924e-01 5.40083032e-01 5.55137757e-01 5.55543130e-01\n",
            " 5.55710871e-01 5.56074309e-01 5.82325724e-01 5.82339703e-01\n",
            " 5.83136471e-01 5.83178406e-01 5.83499909e-01 6.02189016e-01\n",
            " 6.03097611e-01 6.03153525e-01 6.04383623e-01 6.06927690e-01\n",
            " 6.07920155e-01 6.07976069e-01 6.08031983e-01 6.08115853e-01\n",
            " 6.09262081e-01 6.18599645e-01 6.24274871e-01 6.46835992e-01\n",
            " 6.46877927e-01 6.46905884e-01 6.61611149e-01 6.61639106e-01\n",
            " 6.61820825e-01 6.64504676e-01 6.70599254e-01 6.71004627e-01\n",
            " 6.86227093e-01 6.86730315e-01 6.87359342e-01 6.87429234e-01\n",
            " 6.87457191e-01 6.87471170e-01 6.87513105e-01 6.87610953e-01\n",
            " 6.91329205e-01 6.97689372e-01 6.98304421e-01 7.13582801e-01\n",
            " 7.14547310e-01 7.15567732e-01 7.29392359e-01 8.26626036e-01\n",
            " 9.39711206e-01 9.39767120e-01 9.40018731e-01 9.45763849e-01\n",
            " 9.51536924e-01 9.51550902e-01 9.51746600e-01 9.51788535e-01\n",
            " 9.51816492e-01 9.51886384e-01 9.51984232e-01 9.53605726e-01\n",
            " 9.60441158e-01 9.69583025e-01 9.69610981e-01 9.69638938e-01\n",
            " 9.69736787e-01 9.70142160e-01 9.70589469e-01 9.70617425e-01\n",
            " 9.70687317e-01 9.72420638e-01 9.75845343e-01 9.82359273e-01\n",
            " 9.82415186e-01 9.82568948e-01 9.83170019e-01 9.84260334e-01\n",
            " 9.84288290e-01 9.84330225e-01 9.84344204e-01 9.85085058e-01\n",
            " 9.86608703e-01 9.88971051e-01 9.88999008e-01 9.89110835e-01\n",
            " 9.89152770e-01 9.90564587e-01 9.93793595e-01 9.98364528e-01\n",
            " 9.98560226e-01 9.99217210e-01 9.99301081e-01 9.99524735e-01\n",
            " 1.00000000e+00]\n",
            "AUC: 0.8663554574124603\n",
            "\n",
            "Model with fit_intercept=False:\n",
            "Accuracy: 0.955854152239919\n",
            "Confusion Matrix:\n",
            " [[71514    25]\n",
            " [ 3290   263]]\n",
            "TPR: [0.         0.00337743 0.00365888 0.00478469 0.0059105  0.00816212\n",
            " 0.00872502 0.01210245 0.05347594 0.05403884 0.06107515 0.0619195\n",
            " 0.06839291 0.06895581 0.07036307 0.07120743 0.0737405  0.07402195\n",
            " 0.07430341 0.08753166 0.08893892 0.08922038 0.10413735 0.10751478\n",
            " 0.10864059 0.1162398  0.13003096 0.13059386 0.13087532 0.16070926\n",
            " 0.18238109 0.18294399 0.18322544 0.20517872 0.20686744 0.22769491\n",
            " 0.22853926 0.22882071 0.22938362 0.23782719 0.24739657 0.24795947\n",
            " 0.24795947 0.25021109 0.26259499 0.26259499 0.30509429 0.3062201\n",
            " 0.30706445 0.30819026 0.30819026 0.30847171 0.30847171 0.30931607\n",
            " 0.43934703 0.43962848 0.45173093 0.45679707 0.45735998 0.49591894\n",
            " 0.52659724 0.53053757 0.53110048 0.53194484 0.53194484 0.53194484\n",
            " 0.53194484 0.53278919 0.53729243 0.53729243 0.54095131 0.54095131\n",
            " 0.54264002 0.54264002 0.54264002 0.54264002 0.54292147 0.54320293\n",
            " 0.54348438 0.54404728 0.54545455 0.56009006 0.56431185 0.56487475\n",
            " 0.56487475 0.5705038  0.5764143  0.57894737 0.65944272 0.72136223\n",
            " 0.72305094 0.72305094 0.76949057 0.97438784 0.97860963 0.97860963\n",
            " 0.97860963 0.9876161  0.9876161  0.98930481 0.98930481 0.98930481\n",
            " 0.98930481 0.98958627 0.99577822 0.99577822 0.99577822 0.99605967\n",
            " 0.99662257 0.99662257 0.99662257 0.99662257 0.99662257 0.99746693\n",
            " 0.99746693 0.99746693 0.99746693 1.         1.         1.\n",
            " 1.         1.         1.         1.         1.         1.\n",
            " 1.         1.         1.         1.         1.         1.\n",
            " 1.         1.         1.         1.         1.         1.\n",
            " 1.         1.         1.         1.         1.         1.\n",
            " 1.         1.         1.         1.         1.         1.\n",
            " 1.         1.         1.         1.         1.         1.\n",
            " 1.         1.         1.         1.         1.         1.\n",
            " 1.         1.         1.         1.         1.         1.\n",
            " 1.         1.         1.         1.         1.         1.\n",
            " 1.         1.         1.         1.         1.         1.\n",
            " 1.         1.         1.        ]\n",
            "FPR: [0.00000000e+00 0.00000000e+00 0.00000000e+00 0.00000000e+00\n",
            " 0.00000000e+00 0.00000000e+00 1.39783894e-05 1.39783894e-05\n",
            " 8.38703365e-05 8.38703365e-05 9.78487259e-05 1.25805505e-04\n",
            " 1.25805505e-04 3.35481346e-04 3.49459735e-04 3.49459735e-04\n",
            " 3.49459735e-04 3.49459735e-04 4.33330072e-04 4.61286851e-04\n",
            " 4.61286851e-04 4.61286851e-04 4.61286851e-04 4.89243629e-04\n",
            " 5.03222019e-04 5.45157187e-04 6.01070745e-04 6.01070745e-04\n",
            " 6.01070745e-04 7.12897860e-04 8.38703365e-04 8.38703365e-04\n",
            " 8.38703365e-04 9.78487259e-04 1.35590377e-03 1.36988216e-03\n",
            " 1.36988216e-03 1.36988216e-03 1.85912579e-03 3.48061896e-03\n",
            " 6.34618879e-03 6.37414557e-03 6.38812396e-03 6.38812396e-03\n",
            " 9.08595312e-03 9.09993151e-03 1.87729770e-02 1.96256587e-02\n",
            " 1.96256587e-02 1.98073778e-02 1.98213562e-02 1.98213562e-02\n",
            " 1.98353346e-02 2.00310320e-02 3.86782035e-02 3.86782035e-02\n",
            " 4.17953843e-02 4.30534394e-02 4.32631152e-02 5.16361705e-02\n",
            " 5.97576147e-02 6.00511609e-02 6.01070745e-02 6.02748151e-02\n",
            " 6.02887935e-02 6.04425558e-02 6.04565342e-02 6.06102965e-02\n",
            " 6.10715833e-02 6.10995401e-02 6.22597464e-02 6.22737248e-02\n",
            " 6.24135087e-02 6.24554439e-02 6.25952278e-02 6.29167307e-02\n",
            " 6.29167307e-02 6.29866227e-02 6.29866227e-02 6.30006011e-02\n",
            " 6.30844714e-02 6.32382337e-02 6.32661905e-02 6.32801689e-02\n",
            " 6.32941472e-02 6.33500608e-02 6.34339311e-02 6.80607780e-02\n",
            " 1.35897902e-01 1.81942717e-01 1.84864200e-01 1.84892157e-01\n",
            " 2.26156362e-01 5.40446470e-01 5.55501195e-01 5.55906568e-01\n",
            " 5.56074309e-01 5.82325724e-01 5.83234320e-01 5.83597758e-01\n",
            " 5.83611736e-01 5.83667650e-01 5.83751520e-01 5.84548288e-01\n",
            " 6.03237395e-01 6.04383623e-01 6.04439536e-01 6.05432002e-01\n",
            " 6.06662100e-01 6.09206167e-01 6.09234124e-01 6.18571688e-01\n",
            " 6.18599645e-01 6.24274871e-01 6.24302828e-01 6.24344763e-01\n",
            " 6.46905884e-01 6.61611149e-01 6.61639106e-01 6.61820825e-01\n",
            " 6.64504676e-01 6.64910049e-01 6.71004627e-01 6.86227093e-01\n",
            " 6.86730315e-01 6.86800207e-01 6.87429234e-01 6.87443213e-01\n",
            " 6.87471170e-01 6.87513105e-01 6.87610953e-01 6.88226003e-01\n",
            " 6.91944254e-01 6.98304421e-01 7.13582801e-01 7.14547310e-01\n",
            " 7.15567732e-01 7.29392359e-01 8.26626036e-01 9.39711206e-01\n",
            " 9.39767120e-01 9.40018731e-01 9.45763849e-01 9.51536924e-01\n",
            " 9.51550902e-01 9.51746600e-01 9.51788535e-01 9.51816492e-01\n",
            " 9.51886384e-01 9.51984232e-01 9.53605726e-01 9.60441158e-01\n",
            " 9.69583025e-01 9.69610981e-01 9.69638938e-01 9.69736787e-01\n",
            " 9.70142160e-01 9.70589469e-01 9.70617425e-01 9.70687317e-01\n",
            " 9.72420638e-01 9.75845343e-01 9.82359273e-01 9.82401208e-01\n",
            " 9.82554970e-01 9.82568948e-01 9.83170019e-01 9.84260334e-01\n",
            " 9.84288290e-01 9.84330225e-01 9.84344204e-01 9.85085058e-01\n",
            " 9.86608703e-01 9.88971051e-01 9.88999008e-01 9.89110835e-01\n",
            " 9.89152770e-01 9.90564587e-01 9.93793595e-01 9.98364528e-01\n",
            " 9.98560226e-01 9.99217210e-01 1.00000000e+00]\n",
            "AUC: 0.8662456997125562\n",
            "\n"
          ]
        }
      ],
      "source": [
        "from sklearn.linear_model import LogisticRegression\n",
        "from sklearn.metrics import accuracy_score, confusion_matrix, roc_curve, auc\n",
        "\n",
        "logreg_intercept_true = LogisticRegression(fit_intercept=True)\n",
        "logreg_intercept_true.fit(X_train, y_train)\n",
        "y_prob_intercept_true = logreg_intercept_true.predict_proba(X_test)[:, 1]\n",
        "\n",
        "\n",
        "\n",
        "logreg_intercept_false = LogisticRegression(fit_intercept=False)\n",
        "logreg_intercept_false.fit(X_train, y_train)\n",
        "y_prob_intercept_false = logreg_intercept_false.predict_proba(X_test)[:, 1]\n",
        "\n",
        "thresholds = [0.3, 0.7]\n",
        "\n",
        "for threshold in thresholds:\n",
        "    y_pred_intercept_true = (y_prob_intercept_true >= threshold).astype(int)\n",
        "    y_pred_intercept_false = (y_prob_intercept_false >= threshold).astype(int)\n",
        "\n",
        "    # Calculate metrics for each model and threshold\n",
        "    accuracy_intercept_true = accuracy_score(y_test, y_pred_intercept_true)\n",
        "    accuracy_intercept_false = accuracy_score(y_test, y_pred_intercept_false)\n",
        "\n",
        "    confusion_matrix_intercept_true = confusion_matrix(y_test, y_pred_intercept_true)\n",
        "    confusion_matrix_intercept_false = confusion_matrix(y_test, y_pred_intercept_false)\n",
        "\n",
        "    fpr_intercept_true, tpr_intercept_true, _ = roc_curve(y_test, y_prob_intercept_true)\n",
        "    fpr_intercept_false, tpr_intercept_false, _ = roc_curve(y_test, y_prob_intercept_false)\n",
        "\n",
        "    auc_intercept_true = auc(fpr_intercept_true, tpr_intercept_true)\n",
        "    auc_intercept_false = auc(fpr_intercept_false, tpr_intercept_false)\n",
        "\n",
        "    print(f\"Threshold: {threshold}\")\n",
        "    print(\"Model with fit_intercept=True:\")\n",
        "    print(\"Accuracy:\", accuracy_intercept_true)\n",
        "    print(\"Confusion Matrix:\\n\", confusion_matrix_intercept_true)\n",
        "    print(\"TPR:\", tpr_intercept_true)\n",
        "    print(\"FPR:\", fpr_intercept_true)\n",
        "    print(\"AUC:\", auc_intercept_true)\n",
        "    print(\"\")\n",
        "\n",
        "    print(\"Model with fit_intercept=False:\")\n",
        "    print(\"Accuracy:\", accuracy_intercept_false)\n",
        "    print(\"Confusion Matrix:\\n\", confusion_matrix_intercept_false)\n",
        "    print(\"TPR:\", tpr_intercept_false)\n",
        "    print(\"FPR:\", fpr_intercept_false)\n",
        "    print(\"AUC:\", auc_intercept_false)\n",
        "    print(\"\")\n",
        "\n",
        "\n",
        "\n",
        "\n",
        "\n"
      ]
    },
    {
      "cell_type": "code",
      "source": [
        "from sklearn.preprocessing import StandardScaler\n",
        "from sklearn.pipeline import Pipeline,make_pipeline\n",
        "\n",
        "model = make_pipeline(StandardScaler(),LogisticRegression())\n",
        "\n",
        "model.fit(X_train,y_train)"
      ],
      "metadata": {
        "colab": {
          "base_uri": "https://localhost:8080/",
          "height": 125
        },
        "id": "Qm0bRMc_wUyH",
        "outputId": "b758a145-3cbb-4012-a3c5-d0a7803e17c5"
      },
      "execution_count": 70,
      "outputs": [
        {
          "output_type": "execute_result",
          "data": {
            "text/plain": [
              "Pipeline(steps=[('standardscaler', StandardScaler()),\n",
              "                ('logisticregression', LogisticRegression())])"
            ],
            "text/html": [
              "<style>#sk-container-id-1 {color: black;background-color: white;}#sk-container-id-1 pre{padding: 0;}#sk-container-id-1 div.sk-toggleable {background-color: white;}#sk-container-id-1 label.sk-toggleable__label {cursor: pointer;display: block;width: 100%;margin-bottom: 0;padding: 0.3em;box-sizing: border-box;text-align: center;}#sk-container-id-1 label.sk-toggleable__label-arrow:before {content: \"▸\";float: left;margin-right: 0.25em;color: #696969;}#sk-container-id-1 label.sk-toggleable__label-arrow:hover:before {color: black;}#sk-container-id-1 div.sk-estimator:hover label.sk-toggleable__label-arrow:before {color: black;}#sk-container-id-1 div.sk-toggleable__content {max-height: 0;max-width: 0;overflow: hidden;text-align: left;background-color: #f0f8ff;}#sk-container-id-1 div.sk-toggleable__content pre {margin: 0.2em;color: black;border-radius: 0.25em;background-color: #f0f8ff;}#sk-container-id-1 input.sk-toggleable__control:checked~div.sk-toggleable__content {max-height: 200px;max-width: 100%;overflow: auto;}#sk-container-id-1 input.sk-toggleable__control:checked~label.sk-toggleable__label-arrow:before {content: \"▾\";}#sk-container-id-1 div.sk-estimator input.sk-toggleable__control:checked~label.sk-toggleable__label {background-color: #d4ebff;}#sk-container-id-1 div.sk-label input.sk-toggleable__control:checked~label.sk-toggleable__label {background-color: #d4ebff;}#sk-container-id-1 input.sk-hidden--visually {border: 0;clip: rect(1px 1px 1px 1px);clip: rect(1px, 1px, 1px, 1px);height: 1px;margin: -1px;overflow: hidden;padding: 0;position: absolute;width: 1px;}#sk-container-id-1 div.sk-estimator {font-family: monospace;background-color: #f0f8ff;border: 1px dotted black;border-radius: 0.25em;box-sizing: border-box;margin-bottom: 0.5em;}#sk-container-id-1 div.sk-estimator:hover {background-color: #d4ebff;}#sk-container-id-1 div.sk-parallel-item::after {content: \"\";width: 100%;border-bottom: 1px solid gray;flex-grow: 1;}#sk-container-id-1 div.sk-label:hover label.sk-toggleable__label {background-color: #d4ebff;}#sk-container-id-1 div.sk-serial::before {content: \"\";position: absolute;border-left: 1px solid gray;box-sizing: border-box;top: 0;bottom: 0;left: 50%;z-index: 0;}#sk-container-id-1 div.sk-serial {display: flex;flex-direction: column;align-items: center;background-color: white;padding-right: 0.2em;padding-left: 0.2em;position: relative;}#sk-container-id-1 div.sk-item {position: relative;z-index: 1;}#sk-container-id-1 div.sk-parallel {display: flex;align-items: stretch;justify-content: center;background-color: white;position: relative;}#sk-container-id-1 div.sk-item::before, #sk-container-id-1 div.sk-parallel-item::before {content: \"\";position: absolute;border-left: 1px solid gray;box-sizing: border-box;top: 0;bottom: 0;left: 50%;z-index: -1;}#sk-container-id-1 div.sk-parallel-item {display: flex;flex-direction: column;z-index: 1;position: relative;background-color: white;}#sk-container-id-1 div.sk-parallel-item:first-child::after {align-self: flex-end;width: 50%;}#sk-container-id-1 div.sk-parallel-item:last-child::after {align-self: flex-start;width: 50%;}#sk-container-id-1 div.sk-parallel-item:only-child::after {width: 0;}#sk-container-id-1 div.sk-dashed-wrapped {border: 1px dashed gray;margin: 0 0.4em 0.5em 0.4em;box-sizing: border-box;padding-bottom: 0.4em;background-color: white;}#sk-container-id-1 div.sk-label label {font-family: monospace;font-weight: bold;display: inline-block;line-height: 1.2em;}#sk-container-id-1 div.sk-label-container {text-align: center;}#sk-container-id-1 div.sk-container {/* jupyter's `normalize.less` sets `[hidden] { display: none; }` but bootstrap.min.css set `[hidden] { display: none !important; }` so we also need the `!important` here to be able to override the default hidden behavior on the sphinx rendered scikit-learn.org. See: https://github.com/scikit-learn/scikit-learn/issues/21755 */display: inline-block !important;position: relative;}#sk-container-id-1 div.sk-text-repr-fallback {display: none;}</style><div id=\"sk-container-id-1\" class=\"sk-top-container\"><div class=\"sk-text-repr-fallback\"><pre>Pipeline(steps=[(&#x27;standardscaler&#x27;, StandardScaler()),\n",
              "                (&#x27;logisticregression&#x27;, LogisticRegression())])</pre><b>In a Jupyter environment, please rerun this cell to show the HTML representation or trust the notebook. <br />On GitHub, the HTML representation is unable to render, please try loading this page with nbviewer.org.</b></div><div class=\"sk-container\" hidden><div class=\"sk-item sk-dashed-wrapped\"><div class=\"sk-label-container\"><div class=\"sk-label sk-toggleable\"><input class=\"sk-toggleable__control sk-hidden--visually\" id=\"sk-estimator-id-1\" type=\"checkbox\" ><label for=\"sk-estimator-id-1\" class=\"sk-toggleable__label sk-toggleable__label-arrow\">Pipeline</label><div class=\"sk-toggleable__content\"><pre>Pipeline(steps=[(&#x27;standardscaler&#x27;, StandardScaler()),\n",
              "                (&#x27;logisticregression&#x27;, LogisticRegression())])</pre></div></div></div><div class=\"sk-serial\"><div class=\"sk-item\"><div class=\"sk-estimator sk-toggleable\"><input class=\"sk-toggleable__control sk-hidden--visually\" id=\"sk-estimator-id-2\" type=\"checkbox\" ><label for=\"sk-estimator-id-2\" class=\"sk-toggleable__label sk-toggleable__label-arrow\">StandardScaler</label><div class=\"sk-toggleable__content\"><pre>StandardScaler()</pre></div></div></div><div class=\"sk-item\"><div class=\"sk-estimator sk-toggleable\"><input class=\"sk-toggleable__control sk-hidden--visually\" id=\"sk-estimator-id-3\" type=\"checkbox\" ><label for=\"sk-estimator-id-3\" class=\"sk-toggleable__label sk-toggleable__label-arrow\">LogisticRegression</label><div class=\"sk-toggleable__content\"><pre>LogisticRegression()</pre></div></div></div></div></div></div></div>"
            ]
          },
          "metadata": {},
          "execution_count": 70
        }
      ]
    },
    {
      "cell_type": "markdown",
      "metadata": {
        "id": "B5TX3RT_nxzj"
      },
      "source": [
        "Q. In the above question, according to you which is a better threshold for the problem statement."
      ]
    },
    {
      "cell_type": "code",
      "source": [
        "#0.7 is better because accuracy  = 0.9558\n"
      ],
      "metadata": {
        "id": "NmGm_ubX05kU"
      },
      "execution_count": 71,
      "outputs": []
    },
    {
      "cell_type": "markdown",
      "metadata": {
        "id": "lSFEkV7Ynxzj"
      },
      "source": [
        "Q. Report the Coefficients corresponding to eaach of the feaatures. How do these values explain the effect on the final classificaation outcome?"
      ]
    },
    {
      "cell_type": "code",
      "source": [
        "l = LogisticRegression()\n",
        "l.fit(X_train, y_train)\n",
        "# Get the coefficients\n",
        "coefficients = l.coef_[0]\n",
        "\n",
        "# Print the coefficients for each feature\n",
        "for i, feature_name in enumerate(X.columns):\n",
        "    print(f\"Coefficient for {feature_name}: {coefficients[i]}\")"
      ],
      "metadata": {
        "colab": {
          "base_uri": "https://localhost:8080/"
        },
        "id": "ANl3HFag1oXd",
        "outputId": "69720ad7-295a-4299-b546-0ae3b289a6b4"
      },
      "execution_count": 72,
      "outputs": [
        {
          "output_type": "stream",
          "name": "stdout",
          "text": [
            "Coefficient for fine_amount: -0.059916259792364646\n",
            "Coefficient for late_fee: -0.07656331926408687\n",
            "Coefficient for discount_amount: 0.1595150645220319\n",
            "Coefficient for judgment_amount: 0.06033857353652188\n",
            "Coefficient for disposition_Not responsible by City Dismissal: -0.3998384250710174\n",
            "Coefficient for disposition_Not responsible by Determination: -0.08409107025482894\n",
            "Coefficient for disposition_Not responsible by Dismissal: -0.8479290093468088\n",
            "Coefficient for disposition_PENDING JUDGMENT: -0.007715495012320801\n",
            "Coefficient for disposition_Responsible (Fine Waived) by Deter: 1.777346110992723\n",
            "Coefficient for disposition_Responsible by Admission: -0.5164774451993732\n",
            "Coefficient for disposition_Responsible by Default: -2.3958544639098447\n",
            "Coefficient for disposition_Responsible by Determination: 0.09856909601860828\n",
            "Coefficient for disposition_SET-ASIDE (PENDING JUDGMENT): -0.0034372092850151153\n"
          ]
        }
      ]
    },
    {
      "cell_type": "code",
      "source": [
        "\n",
        "#A positive coefficient indicates that as the value of the independent variable increases, the mean of the dependent variable also tends to increase.\n",
        "#A negative coefficient suggests that as the independent variable increases, the dependent variable tends to decrease."
      ],
      "metadata": {
        "id": "h5FuOLkC2VI3"
      },
      "execution_count": 73,
      "outputs": []
    },
    {
      "cell_type": "markdown",
      "metadata": {
        "id": "liZI4xnPnxzk"
      },
      "source": [
        "Q. Plot the ROC curve"
      ]
    },
    {
      "cell_type": "code",
      "source": [
        "# Get predicted probabilities for the positive class (class 1)\n",
        "y_pred_proba = l.predict_proba(X_test)[:, 1]\n",
        "\n",
        "# Calculate ROC curve\n",
        "fpr, tpr, thresholds = roc_curve(y_test, y_pred_proba)\n",
        "\n",
        "# Calculate the area under the ROC curve (AUC)\n",
        "roc_auc = auc(fpr, tpr)\n",
        "\n",
        "# Plot ROC curve\n",
        "plt.figure()\n",
        "plt.plot(fpr, tpr, color='darkorange', lw=2, label='ROC curve (area = %0.2f)' % roc_auc)\n",
        "plt.plot([0, 1], [0, 1], color='navy', lw=2, linestyle='--')\n",
        "plt.xlim([0.0, 1.0])\n",
        "plt.ylim([0.0, 1.05])\n",
        "plt.xlabel('False Positive Rate')\n",
        "plt.ylabel('True Positive Rate')\n",
        "plt.title('Receiver Operating Characteristic (ROC)')\n",
        "plt.legend(loc=\"lower right\")\n",
        "plt.show()"
      ],
      "metadata": {
        "colab": {
          "base_uri": "https://localhost:8080/",
          "height": 472
        },
        "id": "7LrdKszR2k6U",
        "outputId": "6e4e9c42-d499-4214-8222-28c587d59205"
      },
      "execution_count": 74,
      "outputs": [
        {
          "output_type": "display_data",
          "data": {
            "text/plain": [
              "<Figure size 640x480 with 1 Axes>"
            ],
            "image/png": "[encoded data removed]"
          },
          "metadata": {}
        }
      ]
    },
    {
      "cell_type": "markdown",
      "metadata": {
        "id": "dTcno9ZHnxzk"
      },
      "source": [
        "### Decision Trees"
      ]
    },
    {
      "cell_type": "markdown",
      "metadata": {
        "id": "zamCXPLsnxzk"
      },
      "source": [
        "Q. Use X_train to train a decision tree model using *DecisionTreeClassifier*, with max_depth = 3. Calculate the accuracy and roc auc score on X_test for this model."
      ]
    },
    {
      "cell_type": "code",
      "source": [
        "\n",
        "from sklearn.tree import DecisionTreeClassifier\n",
        "\n",
        "\n",
        "# Train a Decision Tree model with max_depth = 3\n",
        "max_depth = 3\n",
        "decision_tree = DecisionTreeClassifier(max_depth=max_depth)\n",
        "decision_tree.fit(X_train, y_train)\n",
        "\n",
        "# Make predictions on X_test\n",
        "y_pred = decision_tree.predict(X_test)\n",
        "\n",
        "# Calculate accuracy\n",
        "accuracy = accuracy_score(y_test, y_pred)\n",
        "print(\"Accuracy:\", accuracy)\n",
        "\n",
        "# Calculate predicted probabilities using predict_proba method\n",
        "y_pred_proba = decision_tree.predict_proba(X_test)[:, 1]\n",
        "\n",
        "# Calculate ROC AUC score\n",
        "roc_auc = roc_auc_score(y_test, y_pred_proba)\n",
        "print(\"ROC AUC Score:\", roc_auc)\n"
      ],
      "metadata": {
        "colab": {
          "base_uri": "https://localhost:8080/"
        },
        "id": "6VsrZHgG24QR",
        "outputId": "6e209b15-3346-4f64-8a36-4affe122c73b"
      },
      "execution_count": 75,
      "outputs": [
        {
          "output_type": "stream",
          "name": "stdout",
          "text": [
            "Accuracy: 0.9621131412134448\n",
            "ROC AUC Score: 0.7413516977450301\n"
          ]
        }
      ]
    },
    {
      "cell_type": "markdown",
      "metadata": {
        "id": "KKc5um1Xnxzl"
      },
      "source": [
        "Q. Rank the feature importances of this classifier. Which is the most important feature used in the model?"
      ]
    },
    {
      "cell_type": "code",
      "source": [
        "feature_importances = decision_tree.feature_importances_\n",
        "# Create a DataFrame to display feature importances\n",
        "importance_df = pd.DataFrame({'Feature': X.columns, 'Importance': feature_importances})\n",
        "\n",
        "# Sort the DataFrame by importance in descending order\n",
        "importance_df = importance_df.sort_values(by='Importance', ascending=False)\n",
        "\n",
        "# Print the ranked feature importances\n",
        "print(\"Ranked Feature Importances:\")\n",
        "print(importance_df)\n",
        "\n",
        "# Print the most important feature\n",
        "most_important_feature = importance_df.iloc[0]['Feature']\n",
        "print(\"\\nMost Important Feature:\", most_important_feature)"
      ],
      "metadata": {
        "colab": {
          "base_uri": "https://localhost:8080/"
        },
        "id": "2EBwejWK3Pmo",
        "outputId": "a856671c-a891-4768-a6bb-2241f844b3bd"
      },
      "execution_count": 77,
      "outputs": [
        {
          "output_type": "stream",
          "name": "stdout",
          "text": [
            "Ranked Feature Importances:\n",
            "                                           Feature  Importance\n",
            "2                                  discount_amount    0.365009\n",
            "1                                         late_fee    0.239582\n",
            "11        disposition_Responsible by Determination    0.207046\n",
            "9             disposition_Responsible by Admission    0.188332\n",
            "3                                  judgment_amount    0.000031\n",
            "0                                      fine_amount    0.000000\n",
            "4    disposition_Not responsible by City Dismissal    0.000000\n",
            "5     disposition_Not responsible by Determination    0.000000\n",
            "6         disposition_Not responsible by Dismissal    0.000000\n",
            "7                     disposition_PENDING JUDGMENT    0.000000\n",
            "8   disposition_Responsible (Fine Waived) by Deter    0.000000\n",
            "10              disposition_Responsible by Default    0.000000\n",
            "12        disposition_SET-ASIDE (PENDING JUDGMENT)    0.000000\n",
            "\n",
            "Most Important Feature: discount_amount\n"
          ]
        }
      ]
    },
    {
      "cell_type": "markdown",
      "metadata": {
        "id": "H5IDzSPKnxzl"
      },
      "source": [
        "Q. Fit 5 different Decision Tree classifier by varying the 'max_depth' parameter from 1 to 5. Plot the accuracy as a function of 'max_depth' parameter using the test dataset. At what 'max_depth' value does the classifier achieves maximum accuracy?"
      ]
    },
    {
      "cell_type": "code",
      "source": [
        "max_depth_values = range(1, 6)\n",
        "accuracies = []\n",
        "\n",
        "for i in max_depth_values:\n",
        "    decision_tree = DecisionTreeClassifier(max_depth=i)\n",
        "    decision_tree.fit(X_train, y_train)\n",
        "    y_pred = decision_tree.predict(X_test)\n",
        "    accuracy = accuracy_score(y_test, y_pred)\n",
        "    accuracies.append(accuracy)\n",
        "\n",
        "# Plotting accuracy as a function of max_depth\n",
        "plt.plot(max_depth_values, accuracies, marker='o')\n",
        "plt.xlabel('max_depth')\n",
        "plt.ylabel('Accuracy')\n",
        "plt.title('Accuracy vs. max_depth for Decision Tree')\n",
        "plt.xticks(max_depth_values)\n",
        "plt.grid(True)\n",
        "plt.show()\n",
        "\n",
        "# Finding the max accuracy and corresponding max_depth\n",
        "max_accuracy = max(accuracies)\n",
        "best_max_depth = max_depth_values[accuracies.index(max_accuracy)]\n",
        "\n",
        "print(\"Max Accuracy:\", max_accuracy)\n",
        "print(\"Best max_depth:\", best_max_depth)\n",
        "\n"
      ],
      "metadata": {
        "colab": {
          "base_uri": "https://localhost:8080/",
          "height": 507
        },
        "id": "YPLO1Zwz3p3r",
        "outputId": "18f2c514-4108-4f5d-ef51-197b53a708ae"
      },
      "execution_count": 78,
      "outputs": [
        {
          "output_type": "display_data",
          "data": {
            "text/plain": [
              "<Figure size 640x480 with 1 Axes>"
            ],
            "image/png": "[encoded data removed]"
          },
          "metadata": {}
        },
        {
          "output_type": "stream",
          "name": "stdout",
          "text": [
            "Max Accuracy: 0.9627656741064294\n",
            "Best max_depth: 4\n"
          ]
        }
      ]
    },
    {
      "cell_type": "code",
      "source": [],
      "metadata": {
        "id": "28FE0jR13e0d"
      },
      "execution_count": null,
      "outputs": []
    },
    {
      "cell_type": "markdown",
      "metadata": {
        "id": "-DOAAmvmnxzl"
      },
      "source": [
        "Q. What is 'max_depth' in decision tree model?"
      ]
    },
    {
      "cell_type": "code",
      "source": [
        "\n",
        "#max_depth is hyperparameter suggested the maximum depth that we allow the tree to grow to.\n",
        "#The deeper is the tree, the more complex model will become\n",
        "# Best max_depth: 4"
      ],
      "metadata": {
        "id": "IaqM-QrfpO02"
      },
      "execution_count": 79,
      "outputs": []
    },
    {
      "cell_type": "markdown",
      "metadata": {
        "id": "po7_VEO5nxzl"
      },
      "source": [
        "Q. How does a decision tree algorithm decide where to split?"
      ]
    },
    {
      "cell_type": "code",
      "source": [
        "\n",
        "#Decision Tree algorithm selects the best attribute to split the data based on a metric such\n",
        "#as entropy or Gini impurity, which measures the level of impurity or randomness.\n"
      ],
      "metadata": {
        "id": "UtAcCQ4ipDiK"
      },
      "execution_count": 80,
      "outputs": []
    },
    {
      "cell_type": "markdown",
      "metadata": {
        "id": "cFWms1kanxzl"
      },
      "source": [
        "Q. List one advantage and disadvatage of using decison tree model."
      ]
    },
    {
      "cell_type": "code",
      "source": [
        "#ADVANTAGES OF DECISION TREE\n",
        "\n",
        "'''\n",
        "Can handle both categorical and numerical data\n",
        "Can handle missing values and outliers\n",
        "Can be used for classification and regression problems\n",
        "'''\n",
        "\n",
        "#DISADVANTAGES\n",
        "'''\n",
        "Overfitting can occur\n",
        "Large decision trees can be hard to interpret\n",
        "Decision trees can be sensitive to small changes in the data\n",
        "'''\n"
      ],
      "metadata": {
        "id": "EL9tU6EwoVwQ",
        "colab": {
          "base_uri": "https://localhost:8080/",
          "height": 36
        },
        "outputId": "1dc64048-cf29-4c97-c6aa-b5ef16c20b4e"
      },
      "execution_count": 81,
      "outputs": [
        {
          "output_type": "execute_result",
          "data": {
            "text/plain": [
              "'\\nOverfitting can occur\\nLarge decision trees can be hard to interpret\\nDecision trees can be sensitive to small changes in the data\\n'"
            ],
            "application/vnd.google.colaboratory.intrinsic+json": {
              "type": "string"
            }
          },
          "metadata": {},
          "execution_count": 81
        }
      ]
    },
    {
      "cell_type": "markdown",
      "metadata": {
        "id": "1TeANRJNnxzm"
      },
      "source": [
        "### Random Forests"
      ]
    },
    {
      "cell_type": "markdown",
      "metadata": {
        "id": "ZoabpTXMnxzm"
      },
      "source": [
        "Q. What is bagging? How is bagging used in Random Forests?"
      ]
    },
    {
      "cell_type": "code",
      "source": [
        "'''\n",
        "Bagging is a technique to improve the stability and accuracy of machine learning algorithms.\n",
        "It decreases the variance and helps to avoid overfitting\n",
        "It helps improve machine learning results by combining several models.\n",
        "'''"
      ],
      "metadata": {
        "id": "33g8_TB9qDH9",
        "colab": {
          "base_uri": "https://localhost:8080/",
          "height": 53
        },
        "outputId": "a379329b-f16d-4912-e3ea-f715cab36d43"
      },
      "execution_count": 82,
      "outputs": [
        {
          "output_type": "execute_result",
          "data": {
            "text/plain": [
              "'\\nBagging is a technique to improve the stability and accuracy of machine learning algorithms.\\nIt decreases the variance and helps to avoid overfitting\\nIt helps improve machine learning results by combining several models.\\n'"
            ],
            "application/vnd.google.colaboratory.intrinsic+json": {
              "type": "string"
            }
          },
          "metadata": {},
          "execution_count": 82
        }
      ]
    },
    {
      "cell_type": "markdown",
      "metadata": {
        "id": "itFs02Dznxzm"
      },
      "source": [
        "Q. Build a random forest classifier using X_train. Experiment with different values of parameters such as *n_estimators*, *max_features* and *max_depth* to come up with a model such that roc auc score is maximized on X_test. Set *random_state = 0*."
      ]
    },
    {
      "cell_type": "code",
      "source": [
        "from sklearn.ensemble import RandomForestClassifier\n",
        "# Experimenting with different parameter values\n",
        "best_roc_auc = 0\n",
        "best_params = {}\n",
        "\n",
        "for n_estimators in [50, 100, 150]:\n",
        "    for max_features in ['auto', 'sqrt', 'log2']:\n",
        "        for max_depth in [None, 5, 10]:\n",
        "            # Build the Random Forest model\n",
        "            rf_classifier = RandomForestClassifier(n_estimators=n_estimators, max_features=max_features, max_depth=max_depth, random_state=0)\n",
        "            rf_classifier.fit(X_train, y_train)\n",
        "\n",
        "            # Predict probabilities for positive class\n",
        "            y_pred_proba = rf_classifier.predict_proba(X_test)[:, 1]\n",
        "\n",
        "            # Calculate ROC AUC score\n",
        "            roc_auc = roc_auc_score(y_test, y_pred_proba)\n",
        "\n",
        "            # Update best parameters if ROC AUC score is improved\n",
        "            if roc_auc > best_roc_auc:\n",
        "                best_roc_auc = roc_auc\n",
        "                best_params = {'n_estimators': n_estimators, 'max_features': max_features, 'max_depth': max_depth}\n",
        "\n",
        "print(\"Best ROC AUC Score:\", best_roc_auc)\n",
        "print(\"Best Parameters:\", best_params)\n"
      ],
      "metadata": {
        "colab": {
          "base_uri": "https://localhost:8080/"
        },
        "id": "heM0yWCh4Kh6",
        "outputId": "c83781a0-d79d-4d33-95df-732b288d6b5e"
      },
      "execution_count": 83,
      "outputs": [
        {
          "output_type": "stream",
          "name": "stdout",
          "text": [
            "Best ROC AUC Score: 0.8717228461730334\n",
            "Best Parameters: {'n_estimators': 150, 'max_features': 'auto', 'max_depth': 10}\n"
          ]
        }
      ]
    },
    {
      "cell_type": "markdown",
      "metadata": {
        "id": "Cepm6r-dnxzm"
      },
      "source": [
        "Q. What is the accuracy and roc auc score that you achieved on the test dataset? At what parameter values did you achieved this score?"
      ]
    },
    {
      "cell_type": "code",
      "source": [
        "# Build the final Random Forest model using the best parameters\n",
        "final_rf_classifier = RandomForestClassifier(n_estimators=best_params['n_estimators'],\n",
        "                                              max_features=best_params['max_features'],\n",
        "                                              max_depth=best_params['max_depth'],\n",
        "                                              random_state=0)\n",
        "final_rf_classifier.fit(X_train, y_train)\n",
        "\n",
        "# Predict on the test set and calculate accuracy\n",
        "y_pred = final_rf_classifier.predict(X_test)\n",
        "accuracy = accuracy_score(y_test, y_pred)\n",
        "print(\"Accuracy:\", accuracy)\n",
        "\n",
        "\n",
        "# Plot the ROC curve for the final Random Forest model\n",
        "y_pred_proba_final = final_rf_classifier.predict_proba(X_test)[:, 1]\n",
        "fpr, tpr, _ = roc_curve(y_test, y_pred_proba_final)\n",
        "roc_auc = auc(fpr, tpr)\n",
        "print(\"ROC AUC Score:\", roc_auc)\n",
        "\n",
        "plt.figure()\n",
        "plt.plot(fpr, tpr, color='darkorange', lw=2, label='ROC curve (area = %0.2f)' % roc_auc)\n",
        "plt.plot([0, 1], [0, 1], color='navy', lw=2, linestyle='--')\n",
        "plt.xlim([0.0, 1.0])\n",
        "plt.ylim([0.0, 1.05])\n",
        "plt.xlabel('False Positive Rate')\n",
        "plt.ylabel('True Positive Rate')\n",
        "plt.title('Receiver Operating Characteristic (ROC)')\n",
        "plt.legend(loc=\"lower right\")\n",
        "plt.show()"
      ],
      "metadata": {
        "colab": {
          "base_uri": "https://localhost:8080/",
          "height": 507
        },
        "id": "VMe3TFF96A6z",
        "outputId": "05c7eceb-d46e-4759-80c7-baefdab50602"
      },
      "execution_count": 84,
      "outputs": [
        {
          "output_type": "stream",
          "name": "stdout",
          "text": [
            "Accuracy: 0.9638976189207905\n",
            "ROC AUC Score: 0.8717228461730334\n"
          ]
        },
        {
          "output_type": "display_data",
          "data": {
            "text/plain": [
              "<Figure size 640x480 with 1 Axes>"
            ],
            "image/png": "[encoded data removed]"
          },
          "metadata": {}
        }
      ]
    },
    {
      "cell_type": "markdown",
      "metadata": {
        "id": "WcAdKadunxzm"
      },
      "source": [
        "Q. How are predictions made by a random forest regression and classification on a new data point?"
      ]
    },
    {
      "cell_type": "code",
      "source": [
        "#A random forest is a collection of Decision Trees, Each Tree independently makes a prediction,\n",
        "# the values are then averaged (Regression) / Max voted (Classification) to arrive at the final value.\n",
        "#At prediction time, the random forest algorithm averages each tree's prediction to compute the outcome for a given test instance."
      ],
      "metadata": {
        "id": "q4iSI4qjJQ1I"
      },
      "execution_count": 93,
      "outputs": []
    },
    {
      "cell_type": "markdown",
      "metadata": {
        "id": "Iri9ji7gnxzm"
      },
      "source": [
        "Q. List one advantage and disadvatage of using a random forest model."
      ]
    },
    {
      "cell_type": "code",
      "source": [
        "#Advantages\n",
        "#It reduces overfitting in decision trees and helps to improve the accuracy\n",
        "#It is flexible to both classification and regression problems\n",
        "#It works well with both categorical and continuous values\n",
        "#It automates missing values present in the data\n",
        "\n",
        "#Disadvantages\n",
        "#It requires much computational power as well as resources as it builds numerous trees to combine their outputs.\n",
        "#It also requires much time for training as it combines a lot of decision trees to determine the class.\n"
      ],
      "metadata": {
        "id": "1c8FVt80Jy_J"
      },
      "execution_count": 94,
      "outputs": []
    },
    {
      "cell_type": "markdown",
      "metadata": {
        "id": "3NbQmUoxnxzm"
      },
      "source": [
        "### K-Nearest Neighbors (KNN)"
      ]
    },
    {
      "cell_type": "markdown",
      "metadata": {
        "id": "CeWpuGc_nxzn"
      },
      "source": [
        "Q. Use *KNeighborsClassifier* in *sklearn.neighbors* to fit a model using training data set. Set n_neighbors = 5 keeping other parameters as default."
      ]
    },
    {
      "cell_type": "code",
      "source": [
        "from sklearn.neighbors import KNeighborsClassifier\n",
        "# Create a KNeighborsClassifier model with n_neighbors = 5\n",
        "knn_classifier = KNeighborsClassifier(n_neighbors=5)\n",
        "\n",
        "# Fit the model on the training data\n",
        "knn_classifier.fit(X_train, y_train)\n",
        "\n",
        "# Predict on the test set\n",
        "y_pred = knn_classifier.predict(X_test)\n",
        "\n",
        "# Print the predictions\n",
        "print(\"Predictions:\", y_pred)"
      ],
      "metadata": {
        "colab": {
          "base_uri": "https://localhost:8080/"
        },
        "id": "Mu6ZqWdZ7uoL",
        "outputId": "255478a1-42de-4893-d827-ab410fd98a1b"
      },
      "execution_count": 85,
      "outputs": [
        {
          "output_type": "stream",
          "name": "stdout",
          "text": [
            "Predictions: [0 0 0 ... 0 0 0]\n"
          ]
        }
      ]
    },
    {
      "cell_type": "markdown",
      "metadata": {
        "id": "l-4bEIPJnxzn"
      },
      "source": [
        "Q. Use the testing dataset to calculate the accuracy, precision and recall of this classifier?"
      ]
    },
    {
      "cell_type": "code",
      "source": [
        "from sklearn.metrics import accuracy_score, precision_score, recall_score\n",
        "\n",
        "# Calculate accuracy, precision, and recall\n",
        "accuracy = accuracy_score(y_test, y_pred)\n",
        "precision = precision_score(y_test, y_pred)\n",
        "recall = recall_score(y_test, y_pred)\n",
        "\n",
        "# Print the evaluation metrics\n",
        "print(\"Accuracy:\", accuracy)\n",
        "print(\"Precision:\", precision)\n",
        "print(\"Recall:\", recall)\n",
        "\n",
        "\n",
        "\n"
      ],
      "metadata": {
        "colab": {
          "base_uri": "https://localhost:8080/"
        },
        "id": "3daff8Gm8XPr",
        "outputId": "6e03c067-29a6-4e99-9354-2cb98c403962"
      },
      "execution_count": 86,
      "outputs": [
        {
          "output_type": "stream",
          "name": "stdout",
          "text": [
            "Accuracy: 0.9630586480583817\n",
            "Precision: 0.8537693006357856\n",
            "Recall: 0.26456515620602306\n"
          ]
        }
      ]
    },
    {
      "cell_type": "markdown",
      "metadata": {
        "id": "HzcMXbrInxzn"
      },
      "source": [
        "Q. Fit 20 different KNN classification model by varying the 'k' parameter from 1 to 20. Plot the accuracy as a function of 'k'\n",
        "parameter using the test dataset. At what 'k' value does the classifier achieves maximum accuracy?"
      ]
    },
    {
      "cell_type": "code",
      "source": [
        "# Varying k and calculating accuracy\n",
        "k_values = range(1, 21)\n",
        "accuracies = []\n",
        "\n",
        "\n",
        "for k in k_values:\n",
        "    knn_classifier = KNeighborsClassifier(n_neighbors=k)\n",
        "    knn_classifier.fit(X_train, y_train)\n",
        "    y_pred = knn_classifier.predict(X_test)\n",
        "    accuracy = accuracy_score(y_test, y_pred)\n",
        "    accuracies.append(accuracy)\n",
        "\n",
        "# Plotting accuracy as a function of k\n",
        "plt.plot(k_values, accuracies, marker='o')\n",
        "plt.xlabel('k')\n",
        "plt.ylabel('Accuracy')\n",
        "plt.title('Accuracy vs. k for KNN Classifier')\n",
        "plt.xticks(k_values)\n",
        "plt.grid(True)\n",
        "plt.show()\n",
        "\n",
        "# Finding the max accuracy and corresponding k value\n",
        "max_accuracy = max(accuracies)\n",
        "best_k = k_values[accuracies.index(max_accuracy)]\n",
        "\n",
        "print(\"Max Accuracy:\", max_accuracy)\n",
        "print(\"Best k:\", best_k)"
      ],
      "metadata": {
        "id": "5fDvwZ6pRon8",
        "colab": {
          "base_uri": "https://localhost:8080/",
          "height": 507
        },
        "outputId": "2fed2ad1-c05a-41da-c420-e8af4a028e47"
      },
      "execution_count": 87,
      "outputs": [
        {
          "output_type": "display_data",
          "data": {
            "text/plain": [
              "<Figure size 640x480 with 1 Axes>"
            ],
            "image/png": "[encoded data removed]"
          },
          "metadata": {}
        },
        {
          "output_type": "stream",
          "name": "stdout",
          "text": [
            "Max Accuracy: 0.9638843019229745\n",
            "Best k: 11\n"
          ]
        }
      ]
    },
    {
      "cell_type": "markdown",
      "metadata": {
        "id": "ENCD3tKSnxzn"
      },
      "source": [
        "Q. Fit the KNN model using the best 'k' value found. Calculate the accuracy, precision and recall for this new model? Comment if this model is better than the Dummy Classifier and why."
      ]
    },
    {
      "cell_type": "code",
      "source": [
        "\n",
        "# Best k value found from previous step\n",
        "best_k = 11\n",
        "\n",
        "# Fit the KNN model using the best k value\n",
        "knn_classifier = KNeighborsClassifier(n_neighbors=best_k)\n",
        "knn_classifier.fit(X_train, y_train)\n",
        "\n",
        "# Predict on the test set\n",
        "y_pred = knn_classifier.predict(X_test)\n",
        "\n",
        "# Calculate accuracy, precision, and recall\n",
        "accuracy = accuracy_score(y_test, y_pred)\n",
        "precision = precision_score(y_test, y_pred)\n",
        "recall = recall_score(y_test, y_pred)\n",
        "\n",
        "# Print the evaluation metrics for the KNN model\n",
        "print(\"KNN Model Metrics:\")\n",
        "print(\"Accuracy:\", accuracy)\n",
        "print(\"Precision:\", precision)\n",
        "print(\"Recall:\", recall)\n",
        "\n",
        "# Create a Dummy Classifier (most frequent strategy) for comparison\n",
        "dummy_classifier = DummyClassifier(strategy=\"most_frequent\")\n",
        "dummy_classifier.fit(X_train, y_train)\n",
        "y_pred_dummy = dummy_classifier.predict(X_test)\n",
        "\n",
        "# Calculate accuracy for the Dummy Classifier\n",
        "accuracy_dummy = accuracy_score(y_test, y_pred_dummy)\n",
        "\n",
        "# Print the accuracy of the Dummy Classifier\n",
        "print(\"\\nDummy Classifier Accuracy:\", accuracy_dummy)\n",
        "\n",
        "# Compare the KNN model's accuracy with the Dummy Classifier\n",
        "if accuracy > accuracy_dummy:\n",
        "    print(\"\\nThe KNN model is better than the Dummy Classifier.\")\n",
        "else:\n",
        "    print(\"\\nThe KNN model is not better than the Dummy Classifier.\")"
      ],
      "metadata": {
        "id": "0FbTFSvZK2zf",
        "colab": {
          "base_uri": "https://localhost:8080/"
        },
        "outputId": "f5966d85-124e-45b7-deff-def9b8891a5e"
      },
      "execution_count": 88,
      "outputs": [
        {
          "output_type": "stream",
          "name": "stdout",
          "text": [
            "KNN Model Metrics:\n",
            "Accuracy: 0.9638843019229745\n",
            "Precision: 0.9260385005065856\n",
            "Recall: 0.25724739656628204\n",
            "\n",
            "Dummy Classifier Accuracy: 0.9526847067597081\n",
            "\n",
            "The KNN model is better than the Dummy Classifier.\n"
          ]
        }
      ]
    },
    {
      "cell_type": "markdown",
      "metadata": {
        "id": "nInpLgoknxzn"
      },
      "source": [
        "Q. Briefly describe how KNN regression and classification predict on a new data point after a model is built?"
      ]
    },
    {
      "cell_type": "code",
      "source": [
        "#KNN works by finding the distances between a query and all the examples in the data, selecting the specified number examples (K) closest\n",
        "# to the query, then votes for the most frequent label4\n",
        "# (in the case of classification) or averages the labels (in the case of regression)."
      ],
      "metadata": {
        "id": "UHxcWfUXO3lJ"
      },
      "execution_count": 89,
      "outputs": []
    },
    {
      "cell_type": "markdown",
      "metadata": {
        "id": "l0FxrFlrnxzn"
      },
      "source": [
        "Q. What is one of the major drawback of using KNN?"
      ]
    },
    {
      "cell_type": "code",
      "source": [
        "#Does not work well with large dataset\n",
        "#Does not work well with high dimensionality\n",
        "#Sensitive to noisy and missing data"
      ],
      "metadata": {
        "id": "rgUHhCitLB-E"
      },
      "execution_count": 95,
      "outputs": []
    },
    {
      "cell_type": "markdown",
      "metadata": {
        "id": "_B3YTxTjnxzo"
      },
      "source": [
        "###  Support Vector Machines (SVM)"
      ]
    },
    {
      "cell_type": "markdown",
      "metadata": {
        "id": "4D62zOkinxzo"
      },
      "source": [
        "Q. Use SVC (Support Vector Classifier) to fit a model using training dataset. Use default model parameters."
      ]
    },
    {
      "cell_type": "code",
      "source": [
        "from sklearn.svm import SVC\n",
        "\n",
        "# Create an SVC model with default parameters\n",
        "svc_classifier = SVC()\n",
        "\n",
        "# Fit the model on the training data\n",
        "svc_classifier.fit(X_train, y_train)\n",
        "\n",
        "# Predict on the test set\n",
        "y_pred = svc_classifier.predict(X_test)\n",
        "\n",
        "# Print the predictions\n",
        "print(\"Predictions:\", y_pred)\n"
      ],
      "metadata": {
        "colab": {
          "base_uri": "https://localhost:8080/"
        },
        "id": "-OrDU4J81F08",
        "outputId": "5e5520b9-cf3b-466d-e0b6-8771816086ad"
      },
      "execution_count": 90,
      "outputs": [
        {
          "output_type": "stream",
          "name": "stdout",
          "text": [
            "Predictions: [0 0 0 ... 0 0 0]\n"
          ]
        }
      ]
    },
    {
      "cell_type": "markdown",
      "metadata": {
        "id": "d5MVOH4nnxzo"
      },
      "source": [
        "Q. Use the testing data set to calculate the accuracy, precision and recall of this SVM classifier?"
      ]
    },
    {
      "cell_type": "code",
      "source": [
        "accuracy = accuracy_score(y_test, y_pred)\n",
        "precision = precision_score(y_test, y_pred)\n",
        "recall = recall_score(y_test, y_pred)\n",
        "\n",
        "# Print the evaluation metrics for the SVM classifier\n",
        "print(\"SVM Classifier Metrics:\")\n",
        "print(\"Accuracy:\", accuracy)\n",
        "print(\"Precision:\", precision)\n",
        "print(\"Recall:\", recall)"
      ],
      "metadata": {
        "colab": {
          "base_uri": "https://localhost:8080/"
        },
        "id": "czuu-rRs1WnU",
        "outputId": "1b58d6de-ac1e-48f4-acc8-b1c0a263468c"
      },
      "execution_count": 91,
      "outputs": [
        {
          "output_type": "stream",
          "name": "stdout",
          "text": [
            "SVM Classifier Metrics:\n",
            "Accuracy: 0.9530309487029244\n",
            "Precision: 0.9642857142857143\n",
            "Recall: 0.007599211933577259\n"
          ]
        }
      ]
    },
    {
      "cell_type": "markdown",
      "metadata": {
        "id": "6VB23Kyznxzo"
      },
      "source": [
        "Q. Use *kernel = 'rbf', gamma = 1e-07, C = 1e9* to train a SVM classifier model. Calculate the accuracy, precision and recall for this new model? Comment if this model is better than the Dummy Classifier and why."
      ]
    },
    {
      "cell_type": "code",
      "source": [
        "\n",
        "# Create an SVM classifier model with specified parameters\n",
        "svm_classifier = SVC(kernel='rbf', gamma=1e-07, C=1e9)\n",
        "\n",
        "# Fit the model on the training data\n",
        "svm_classifier.fit(X_train, y_train)\n",
        "\n",
        "# Predict on the test set\n",
        "y_pred = svm_classifier.predict(X_test)\n",
        "\n",
        "# Calculate accuracy, precision, and recall\n",
        "accuracy = accuracy_score(y_test, y_pred)\n",
        "precision = precision_score(y_test, y_pred)\n",
        "recall = recall_score(y_test, y_pred)\n",
        "\n",
        "# Print the evaluation metrics for the SVM classifier\n",
        "print(\"SVM Classifier Metrics:\")\n",
        "print(\"Accuracy:\", accuracy)\n",
        "print(\"Precision:\", precision)\n",
        "print(\"Recall:\", recall)\n",
        "\n",
        "# Create a Dummy Classifier (most frequent strategy) for comparison\n",
        "dummy_classifier = DummyClassifier(strategy=\"most_frequent\")\n",
        "dummy_classifier.fit(X_train, y_train)\n",
        "y_pred_dummy = dummy_classifier.predict(X_test)\n",
        "\n",
        "# Calculate accuracy for the Dummy Classifier\n",
        "accuracy_dummy = accuracy_score(y_test, y_pred_dummy)\n",
        "\n",
        "# Print the accuracy of the Dummy Classifier\n",
        "print(\"\\nDummy Classifier Accuracy:\", accuracy_dummy)\n",
        "\n",
        "# Compare the SVM model's accuracy with the Dummy Classifier\n",
        "if accuracy > accuracy_dummy:\n",
        "    print(\"\\nThe SVM model is better than the Dummy Classifier.\")\n",
        "else:\n",
        "    print(\"\\nThe SVM model is not better than the Dummy Classifier.\")\n"
      ],
      "metadata": {
        "colab": {
          "base_uri": "https://localhost:8080/"
        },
        "id": "Xt-5fnNi4xAd",
        "outputId": "5e517b14-05c8-4e33-b160-52c045db508a"
      },
      "execution_count": 92,
      "outputs": [
        {
          "output_type": "stream",
          "name": "stdout",
          "text": [
            "SVM Classifier Metrics:\n",
            "Accuracy: 0.943988707185852\n",
            "Precision: 0.4013893083660526\n",
            "Recall: 0.37405009850830284\n",
            "\n",
            "Dummy Classifier Accuracy: 0.9526847067597081\n",
            "\n",
            "The SVM model is not better than the Dummy Classifier.\n"
          ]
        }
      ]
    },
    {
      "cell_type": "code",
      "source": [
        "'''# Calculate accuracy, precision, and recall\n",
        "accuracy = accuracy_score(y_test, y_pred)\n",
        "precision = precision_score(y_test, y_pred)\n",
        "recall = recall_score(y_test, y_pred)\n",
        "\n",
        "# Print the evaluation metrics for the SVM classifier\n",
        "print(\"SVM Classifier Metrics:\")\n",
        "print(\"Accuracy:\", accuracy)\n",
        "print(\"Precision:\", precision)\n",
        "print(\"Recall:\", recall)\n",
        "\n",
        "# Create a Dummy Classifier (most frequent strategy) for comparison\n",
        "dummy_classifier = DummyClassifier(strategy=\"most_frequent\")\n",
        "dummy_classifier.fit(X_train, y_train)\n",
        "y_pred_dummy = dummy_classifier.predict(X_test)\n",
        "\n",
        "# Calculate accuracy for the Dummy Classifier\n",
        "accuracy_dummy = accuracy_score(y_test, y_pred_dummy)\n",
        "\n",
        "# Print the accuracy of the Dummy Classifier\n",
        "print(\"\\nDummy Classifier Accuracy:\", accuracy_dummy)\n",
        "\n",
        "# Compare the SVM model's accuracy with the Dummy Classifier\n",
        "if accuracy > accuracy_dummy:\n",
        "    print(\"\\nThe SVM model is better than the Dummy Classifier.\")\n",
        "else:\n",
        "    print(\"\\nThe SVM model is not better than the Dummy Classifier.\")\n",
        "\n",
        "'''\n",
        "\n"
      ],
      "metadata": {
        "colab": {
          "base_uri": "https://localhost:8080/"
        },
        "id": "dobXbXcq1or3",
        "outputId": "2b6170d7-41cd-428f-cd23-0d00e7851eca"
      },
      "execution_count": null,
      "outputs": [
        {
          "output_type": "stream",
          "name": "stdout",
          "text": [
            "SVM Classifier Metrics:\n",
            "Accuracy: 0.9457960253330422\n",
            "Precision: 0.0\n",
            "Recall: 0.0\n",
            "\n",
            "Dummy Classifier Accuracy: 0.9457960253330422\n",
            "\n",
            "The SVM model is not better than the Dummy Classifier.\n"
          ]
        }
      ]
    },
    {
      "cell_type": "markdown",
      "metadata": {
        "id": "njkrisbunxzv"
      },
      "source": [
        "Q. What is a kernel in SVM?"
      ]
    },
    {
      "cell_type": "code",
      "source": [
        "#In a Support Vector Machine (SVM), a kernel is a mathematical function that allows the algorithm to transform input data from its original space\n",
        "# into a higher-dimensional space. Kernels play a crucial role in SVM by enabling the algorithm to find complex, nonlinear decision boundaries\n",
        "# in the transformed space, even if the original data might not be linearly separable."
      ],
      "metadata": {
        "id": "vPPv4y_FFY6_"
      },
      "execution_count": null,
      "outputs": []
    },
    {
      "cell_type": "markdown",
      "metadata": {
        "id": "6-POnBn3nxzv"
      },
      "source": [
        "Q. What does 'gamma' value in *rbf* kernel control?"
      ]
    },
    {
      "cell_type": "code",
      "source": [
        "#In the Radial Basis Function (RBF) kernel of a Support Vector Machine (SVM), the 'gamma' parameter controls the \"flexibility\" or \"reach\" of the decision boundary.\n",
        "# It determines how much influence each individual data point has on shaping the boundary.\n",
        "#Low 'gamma': Wider influence, smoother boundary, less prone to overfitting.\n",
        "#High 'gamma': Narrower influence, more complex boundary, potential overfitting."
      ],
      "metadata": {
        "id": "tdbn8lQcF5d6"
      },
      "execution_count": null,
      "outputs": []
    },
    {
      "cell_type": "markdown",
      "metadata": {
        "id": "DXb36Jhpnxzv"
      },
      "source": [
        "Q. What is the significance of 'C' parameter in SVM?"
      ]
    },
    {
      "cell_type": "code",
      "source": [
        "#The 'C' parameter in a Support Vector Machine (SVM) is a regularization parameter that controls the trade-off between maximizing\n",
        "#the margin (distance between the decision boundary and the closest data points) and minimizing the classification error on the training data.\n",
        "#It influences the balance between achieving a simple model and fitting the training data accurately."
      ],
      "metadata": {
        "id": "vY3L9vIHGVwY"
      },
      "execution_count": null,
      "outputs": []
    },
    {
      "cell_type": "markdown",
      "metadata": {
        "id": "YiUOF5zGnxzw"
      },
      "source": [
        "Q. Briefly describe how SVM algorithm works?"
      ]
    },
    {
      "cell_type": "code",
      "source": [
        "#Choosing the Best Line\n",
        "#Support Vectors\n",
        "#Getting Creative with the Line\n",
        "#Kernels\n",
        "#Making Predictions"
      ],
      "metadata": {
        "id": "UbygLRtzGzh6"
      },
      "execution_count": null,
      "outputs": []
    },
    {
      "cell_type": "markdown",
      "metadata": {
        "id": "tcpC6qsnnxzw"
      },
      "source": [
        "Q. For fraud detection, which model would you choose among the three models built (Dummy, KNN, SVM) and why? What things would you consider while choosing the best model for your purpose?"
      ]
    },
    {
      "cell_type": "code",
      "source": [
        "'''\n",
        "\n",
        "Given these considerations, let's evaluate the three models:\n",
        "\n",
        "1. **Dummy Classifier:** The Dummy Classifier simply predicts the majority class. It's unlikely to perform well for fraud detection due to its simplicity and\n",
        "inability to capture complex patterns.\n",
        "\n",
        "2. **KNN:** KNN can be effective if feature engineering is done well and the dataset isn't too large. However, it might struggle with high-dimensional data\n",
        " and imbalanced classes. Proper tuning of 'k' and handling of class imbalance are critical.\n",
        "\n",
        "3. **SVM:** SVMs are powerful and can handle high-dimensional data. With proper parameter tuning and feature scaling, SVMs can be effective for fraud detection.\n",
        " The choice of the right kernel and regularization parameters is crucial.\n",
        "\n",
        "Considering these factors, an SVM with an appropriate kernel and well-tuned hyperparameters might be a better choice for fraud detection.\n",
        " However, it's essential to evaluate each model's performance using cross-validation and thoroughly analyze precision-recall trade-offs to make an informed decision.\n",
        " Additionally, experimenting with ensemble methods (e.g., Random Forest, Gradient Boosting) and anomaly detection algorithms\n",
        " (e.g., Isolation Forest, One-Class SVM) might also be beneficial. Ultimately, the choice should be based on a balance between performance, interpretability, scalability,\n",
        " and the specific requirements of the fraud detection problem."
      ],
      "metadata": {
        "id": "8-dnhkTx19or"
      },
      "execution_count": null,
      "outputs": []
    }
  ],
  "metadata": {
    "colab": {
      "provenance": [],
      "include_colab_link": true
    },
    "kernelspec": {
      "display_name": "Python 3 (ipykernel)",
      "language": "python",
      "name": "python3"
    },
    "language_info": {
      "codemirror_mode": {
        "name": "ipython",
        "version": 3
      },
      "file_extension": ".py",
      "mimetype": "text/x-python",
      "name": "python",
      "nbconvert_exporter": "python",
      "pygments_lexer": "ipython3",
      "version": "3.7.11"
    }
  },
  "nbformat": 4,
  "nbformat_minor": 0
}