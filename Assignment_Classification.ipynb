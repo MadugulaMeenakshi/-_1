{
  "cells": [
    {
      "cell_type": "markdown",
      "metadata": {
        "id": "view-in-github",
        "colab_type": "text"
      },
      "source": [
        "<a href=\"https://colab.research.google.com/github/MadugulaMeenakshi/-_1/blob/main/Assignment_Classification.ipynb\" target=\"_parent\"><img src=\"https://colab.research.google.com/assets/colab-badge.svg\" alt=\"Open In Colab\"/></a>"
      ]
    },
    {
      "cell_type": "markdown",
      "metadata": {
        "id": "C7C39r91nxzR"
      },
      "source": [
        "### Problem Statement: Build a blight model using Decision Trees and Random Forests"
      ]
    },
    {
      "cell_type": "markdown",
      "metadata": {
        "id": "MDeN9nt6nxza"
      },
      "source": [
        "This assignment is based on a data challenge from the Michigan Data Science Team ([MDST](http://midas.umich.edu/mdst/)).\n",
        "\n",
        "Blight violations are issued by the city to individuals who allow their properties to remain in a deteriorated condition. Every year, the city of Detroit issues millions of dollars in fines to residents and every year, many of these fines remain unpaid. Enforcing unpaid blight fines is a costly and tedious process, so the city wants to know: how can we increase blight ticket compliance?\n",
        "\n",
        "The first step in answering this question is understanding when and why a resident might fail to comply with a blight ticket. This is where predictive modeling comes in. For this assignment, your task is to predict whether a given blight ticket will be paid on time.\n",
        "\n",
        "We provide you with a data file for use in training and validating your models: blight_data.csv. Each row in the file corresponds to a single blight ticket, and includes information about when, why, and to whom each ticket was issued. The target variable is compliance, which is True if the ticket was paid early, on time, or within one month of the hearing data, False if the ticket was paid after the hearing date or not at all, and Null if the violator was found not responsible.\n",
        "\n",
        "\n",
        "**Data fields**\n",
        "\n",
        "\n",
        "    ticket_id - unique identifier for tickets\n",
        "    agency_name - Agency that issued the ticket\n",
        "    inspector_name - Name of inspector that issued the ticket\n",
        "    violator_name - Name of the person/organization that the ticket was issued to\n",
        "    violation_street_number, violation_street_name, violation_zip_code - Address where the violation occurred\n",
        "    mailing_address_str_number, mailing_address_str_name, city, state, zip_code, non_us_str_code, country - Mailing address of the violator\n",
        "    ticket_issued_date - Date and time the ticket was issued\n",
        "    hearing_date - Date and time the violator's hearing was scheduled\n",
        "    violation_code, violation_description - Type of violation\n",
        "    disposition - Judgment and judgement type\n",
        "    fine_amount - Violation fine amount, excluding fees\n",
        "    admin_fee - $20 fee assigned to responsible judgments\n",
        "state_fee - $10 fee assigned to responsible judgments\n",
        "    late_fee - 10% fee assigned to responsible judgments\n",
        "    discount_amount - discount applied, if any\n",
        "    clean_up_cost - DPW clean-up or graffiti removal cost\n",
        "    judgment_amount - Sum of all fines and fees\n",
        "    grafitti_status - Flag for graffiti violations\n",
        "    payment_amount - Amount paid, if any\n",
        "    payment_date - Date payment was made, if it was received\n",
        "    payment_status - Current payment status as of Feb 1 2017\n",
        "    balance_due - Fines and fees still owed\n",
        "    collection_status - Flag for payments in collections\n",
        "    compliance [target variable for prediction]\n",
        "     Null = Not responsible\n",
        "     0 = Responsible, non-compliant\n",
        "     1 = Responsible, compliant\n",
        "    compliance_detail - More information on why each ticket was marked compliant or non-compliant\n",
        "\n",
        "\n",
        "___\n",
        "\n",
        "## Evaluation\n",
        "\n",
        "Your predictions will be given as the probability that the corresponding blight ticket will be paid on time.\n",
        "\n",
        "The evaluation metric for this assignment is the Area Under the ROC Curve (AUC)."
      ]
    },
    {
      "cell_type": "code",
      "execution_count": 20,
      "metadata": {
        "id": "5Hib6rd9nxzd"
      },
      "outputs": [],
      "source": [
        "import pandas as pd\n",
        "import numpy as np\n",
        "import matplotlib.pyplot as plt\n",
        "\n",
        "import warnings\n",
        "warnings.filterwarnings('ignore')"
      ]
    },
    {
      "cell_type": "code",
      "execution_count": 21,
      "metadata": {
        "colab": {
          "base_uri": "https://localhost:8080/",
          "height": 206
        },
        "id": "--8gFwELnxzf",
        "outputId": "096be391-b4b1-4023-b3d6-eeac3e49ee82"
      },
      "outputs": [
        {
          "output_type": "execute_result",
          "data": {
            "text/plain": [
              "                         disposition  fine_amount  late_fee  discount_amount  \\\n",
              "0             Responsible by Default        250.0      25.0              0.0   \n",
              "1       Responsible by Determination        750.0      75.0              0.0   \n",
              "2       Not responsible by Dismissal        250.0       0.0              0.0   \n",
              "3  Not responsible by City Dismissal        250.0       0.0              0.0   \n",
              "4       Not responsible by Dismissal        250.0       0.0              0.0   \n",
              "\n",
              "   clean_up_cost  judgment_amount grafitti_status  compliance  \n",
              "0            0.0            305.0             NaN         0.0  \n",
              "1            0.0            855.0             NaN         1.0  \n",
              "2            0.0              0.0             NaN         NaN  \n",
              "3            0.0              0.0             NaN         NaN  \n",
              "4            0.0              0.0             NaN         NaN  "
            ],
            "text/html": [
              "\n",
              "\n",
              "  <div id=\"df-71299d62-b0f3-4236-aeee-f7e7cea041d3\">\n",
              "    <div class=\"colab-df-container\">\n",
              "      <div>\n",
              "<style scoped>\n",
              "    .dataframe tbody tr th:only-of-type {\n",
              "        vertical-align: middle;\n",
              "    }\n",
              "\n",
              "    .dataframe tbody tr th {\n",
              "        vertical-align: top;\n",
              "    }\n",
              "\n",
              "    .dataframe thead th {\n",
              "        text-align: right;\n",
              "    }\n",
              "</style>\n",
              "<table border=\"1\" class=\"dataframe\">\n",
              "  <thead>\n",
              "    <tr style=\"text-align: right;\">\n",
              "      <th></th>\n",
              "      <th>disposition</th>\n",
              "      <th>fine_amount</th>\n",
              "      <th>late_fee</th>\n",
              "      <th>discount_amount</th>\n",
              "      <th>clean_up_cost</th>\n",
              "      <th>judgment_amount</th>\n",
              "      <th>grafitti_status</th>\n",
              "      <th>compliance</th>\n",
              "    </tr>\n",
              "  </thead>\n",
              "  <tbody>\n",
              "    <tr>\n",
              "      <th>0</th>\n",
              "      <td>Responsible by Default</td>\n",
              "      <td>250.0</td>\n",
              "      <td>25.0</td>\n",
              "      <td>0.0</td>\n",
              "      <td>0.0</td>\n",
              "      <td>305.0</td>\n",
              "      <td>NaN</td>\n",
              "      <td>0.0</td>\n",
              "    </tr>\n",
              "    <tr>\n",
              "      <th>1</th>\n",
              "      <td>Responsible by Determination</td>\n",
              "      <td>750.0</td>\n",
              "      <td>75.0</td>\n",
              "      <td>0.0</td>\n",
              "      <td>0.0</td>\n",
              "      <td>855.0</td>\n",
              "      <td>NaN</td>\n",
              "      <td>1.0</td>\n",
              "    </tr>\n",
              "    <tr>\n",
              "      <th>2</th>\n",
              "      <td>Not responsible by Dismissal</td>\n",
              "      <td>250.0</td>\n",
              "      <td>0.0</td>\n",
              "      <td>0.0</td>\n",
              "      <td>0.0</td>\n",
              "      <td>0.0</td>\n",
              "      <td>NaN</td>\n",
              "      <td>NaN</td>\n",
              "    </tr>\n",
              "    <tr>\n",
              "      <th>3</th>\n",
              "      <td>Not responsible by City Dismissal</td>\n",
              "      <td>250.0</td>\n",
              "      <td>0.0</td>\n",
              "      <td>0.0</td>\n",
              "      <td>0.0</td>\n",
              "      <td>0.0</td>\n",
              "      <td>NaN</td>\n",
              "      <td>NaN</td>\n",
              "    </tr>\n",
              "    <tr>\n",
              "      <th>4</th>\n",
              "      <td>Not responsible by Dismissal</td>\n",
              "      <td>250.0</td>\n",
              "      <td>0.0</td>\n",
              "      <td>0.0</td>\n",
              "      <td>0.0</td>\n",
              "      <td>0.0</td>\n",
              "      <td>NaN</td>\n",
              "      <td>NaN</td>\n",
              "    </tr>\n",
              "  </tbody>\n",
              "</table>\n",
              "</div>\n",
              "      <button class=\"colab-df-convert\" onclick=\"convertToInteractive('df-71299d62-b0f3-4236-aeee-f7e7cea041d3')\"\n",
              "              title=\"Convert this dataframe to an interactive table.\"\n",
              "              style=\"display:none;\">\n",
              "\n",
              "  <svg xmlns=\"http://www.w3.org/2000/svg\" height=\"24px\"viewBox=\"0 0 24 24\"\n",
              "       width=\"24px\">\n",
              "    <path d=\"M0 0h24v24H0V0z\" fill=\"none\"/>\n",
              "    <path d=\"M18.56 5.44l.94 2.06.94-2.06 2.06-.94-2.06-.94-.94-2.06-.94 2.06-2.06.94zm-11 1L8.5 8.5l.94-2.06 2.06-.94-2.06-.94L8.5 2.5l-.94 2.06-2.06.94zm10 10l.94 2.06.94-2.06 2.06-.94-2.06-.94-.94-2.06-.94 2.06-2.06.94z\"/><path d=\"M17.41 7.96l-1.37-1.37c-.4-.4-.92-.59-1.43-.59-.52 0-1.04.2-1.43.59L10.3 9.45l-7.72 7.72c-.78.78-.78 2.05 0 2.83L4 21.41c.39.39.9.59 1.41.59.51 0 1.02-.2 1.41-.59l7.78-7.78 2.81-2.81c.8-.78.8-2.07 0-2.86zM5.41 20L4 18.59l7.72-7.72 1.47 1.35L5.41 20z\"/>\n",
              "  </svg>\n",
              "      </button>\n",
              "\n",
              "\n",
              "\n",
              "    <div id=\"df-0284ffeb-05ff-465d-9245-15652b1ae851\">\n",
              "      <button class=\"colab-df-quickchart\" onclick=\"quickchart('df-0284ffeb-05ff-465d-9245-15652b1ae851')\"\n",
              "              title=\"Suggest charts.\"\n",
              "              style=\"display:none;\">\n",
              "\n",
              "<svg xmlns=\"http://www.w3.org/2000/svg\" height=\"24px\"viewBox=\"0 0 24 24\"\n",
              "     width=\"24px\">\n",
              "    <g>\n",
              "        <path d=\"M19 3H5c-1.1 0-2 .9-2 2v14c0 1.1.9 2 2 2h14c1.1 0 2-.9 2-2V5c0-1.1-.9-2-2-2zM9 17H7v-7h2v7zm4 0h-2V7h2v10zm4 0h-2v-4h2v4z\"/>\n",
              "    </g>\n",
              "</svg>\n",
              "      </button>\n",
              "    </div>\n",
              "\n",
              "<style>\n",
              "  .colab-df-quickchart {\n",
              "    background-color: #E8F0FE;\n",
              "    border: none;\n",
              "    border-radius: 50%;\n",
              "    cursor: pointer;\n",
              "    display: none;\n",
              "    fill: #1967D2;\n",
              "    height: 32px;\n",
              "    padding: 0 0 0 0;\n",
              "    width: 32px;\n",
              "  }\n",
              "\n",
              "  .colab-df-quickchart:hover {\n",
              "    background-color: #E2EBFA;\n",
              "    box-shadow: 0px 1px 2px rgba(60, 64, 67, 0.3), 0px 1px 3px 1px rgba(60, 64, 67, 0.15);\n",
              "    fill: #174EA6;\n",
              "  }\n",
              "\n",
              "  [theme=dark] .colab-df-quickchart {\n",
              "    background-color: #3B4455;\n",
              "    fill: #D2E3FC;\n",
              "  }\n",
              "\n",
              "  [theme=dark] .colab-df-quickchart:hover {\n",
              "    background-color: #434B5C;\n",
              "    box-shadow: 0px 1px 3px 1px rgba(0, 0, 0, 0.15);\n",
              "    filter: drop-shadow(0px 1px 2px rgba(0, 0, 0, 0.3));\n",
              "    fill: #FFFFFF;\n",
              "  }\n",
              "</style>\n",
              "\n",
              "    <script>\n",
              "      async function quickchart(key) {\n",
              "        const containerElement = document.querySelector('#' + key);\n",
              "        const charts = await google.colab.kernel.invokeFunction(\n",
              "            'suggestCharts', [key], {});\n",
              "      }\n",
              "    </script>\n",
              "\n",
              "      <script>\n",
              "\n",
              "function displayQuickchartButton(domScope) {\n",
              "  let quickchartButtonEl =\n",
              "    domScope.querySelector('#df-0284ffeb-05ff-465d-9245-15652b1ae851 button.colab-df-quickchart');\n",
              "  quickchartButtonEl.style.display =\n",
              "    google.colab.kernel.accessAllowed ? 'block' : 'none';\n",
              "}\n",
              "\n",
              "        displayQuickchartButton(document);\n",
              "      </script>\n",
              "      <style>\n",
              "    .colab-df-container {\n",
              "      display:flex;\n",
              "      flex-wrap:wrap;\n",
              "      gap: 12px;\n",
              "    }\n",
              "\n",
              "    .colab-df-convert {\n",
              "      background-color: #E8F0FE;\n",
              "      border: none;\n",
              "      border-radius: 50%;\n",
              "      cursor: pointer;\n",
              "      display: none;\n",
              "      fill: #1967D2;\n",
              "      height: 32px;\n",
              "      padding: 0 0 0 0;\n",
              "      width: 32px;\n",
              "    }\n",
              "\n",
              "    .colab-df-convert:hover {\n",
              "      background-color: #E2EBFA;\n",
              "      box-shadow: 0px 1px 2px rgba(60, 64, 67, 0.3), 0px 1px 3px 1px rgba(60, 64, 67, 0.15);\n",
              "      fill: #174EA6;\n",
              "    }\n",
              "\n",
              "    [theme=dark] .colab-df-convert {\n",
              "      background-color: #3B4455;\n",
              "      fill: #D2E3FC;\n",
              "    }\n",
              "\n",
              "    [theme=dark] .colab-df-convert:hover {\n",
              "      background-color: #434B5C;\n",
              "      box-shadow: 0px 1px 3px 1px rgba(0, 0, 0, 0.15);\n",
              "      filter: drop-shadow(0px 1px 2px rgba(0, 0, 0, 0.3));\n",
              "      fill: #FFFFFF;\n",
              "    }\n",
              "  </style>\n",
              "\n",
              "      <script>\n",
              "        const buttonEl =\n",
              "          document.querySelector('#df-71299d62-b0f3-4236-aeee-f7e7cea041d3 button.colab-df-convert');\n",
              "        buttonEl.style.display =\n",
              "          google.colab.kernel.accessAllowed ? 'block' : 'none';\n",
              "\n",
              "        async function convertToInteractive(key) {\n",
              "          const element = document.querySelector('#df-71299d62-b0f3-4236-aeee-f7e7cea041d3');\n",
              "          const dataTable =\n",
              "            await google.colab.kernel.invokeFunction('convertToInteractive',\n",
              "                                                     [key], {});\n",
              "          if (!dataTable) return;\n",
              "\n",
              "          const docLinkHtml = 'Like what you see? Visit the ' +\n",
              "            '<a target=\"_blank\" href=https://colab.research.google.com/notebooks/data_table.ipynb>data table notebook</a>'\n",
              "            + ' to learn more about interactive tables.';\n",
              "          element.innerHTML = '';\n",
              "          dataTable['output_type'] = 'display_data';\n",
              "          await google.colab.output.renderOutput(dataTable, element);\n",
              "          const docLink = document.createElement('div');\n",
              "          docLink.innerHTML = docLinkHtml;\n",
              "          element.appendChild(docLink);\n",
              "        }\n",
              "      </script>\n",
              "    </div>\n",
              "  </div>\n"
            ]
          },
          "metadata": {},
          "execution_count": 21
        }
      ],
      "source": [
        "df = pd.read_csv('blight_data_train.csv', encoding = 'ISO-8859-1')\n",
        "df = df[['disposition', 'fine_amount',\n",
        "        'late_fee', 'discount_amount',\n",
        "        'clean_up_cost', 'judgment_amount', 'grafitti_status','compliance']]\n",
        "df.head()"
      ]
    },
    {
      "cell_type": "code",
      "execution_count": 22,
      "metadata": {
        "colab": {
          "base_uri": "https://localhost:8080/"
        },
        "id": "oNEyJgAbtWK5",
        "outputId": "4313853d-67e7-4e71-b26d-eedfb9364a67"
      },
      "outputs": [
        {
          "output_type": "execute_result",
          "data": {
            "text/plain": [
              "disposition             0\n",
              "fine_amount             1\n",
              "late_fee                0\n",
              "discount_amount         0\n",
              "clean_up_cost           0\n",
              "judgment_amount         0\n",
              "grafitti_status    250305\n",
              "compliance          90426\n",
              "dtype: int64"
            ]
          },
          "metadata": {},
          "execution_count": 22
        }
      ],
      "source": [
        "df.isnull().sum()"
      ]
    },
    {
      "cell_type": "code",
      "source": [
        "df1 = df.drop(['grafitti_status','clean_up_cost'], axis = 1)\n",
        "df1.head()"
      ],
      "metadata": {
        "colab": {
          "base_uri": "https://localhost:8080/",
          "height": 206
        },
        "id": "XqP_ttLwWBcv",
        "outputId": "25f1bdd1-ba9e-491e-e7fd-36280f3f365c"
      },
      "execution_count": 25,
      "outputs": [
        {
          "output_type": "execute_result",
          "data": {
            "text/plain": [
              "                         disposition  fine_amount  late_fee  discount_amount  \\\n",
              "0             Responsible by Default        250.0      25.0              0.0   \n",
              "1       Responsible by Determination        750.0      75.0              0.0   \n",
              "2       Not responsible by Dismissal        250.0       0.0              0.0   \n",
              "3  Not responsible by City Dismissal        250.0       0.0              0.0   \n",
              "4       Not responsible by Dismissal        250.0       0.0              0.0   \n",
              "\n",
              "   judgment_amount  compliance  \n",
              "0            305.0         0.0  \n",
              "1            855.0         1.0  \n",
              "2              0.0         NaN  \n",
              "3              0.0         NaN  \n",
              "4              0.0         NaN  "
            ],
            "text/html": [
              "\n",
              "\n",
              "  <div id=\"df-8fbef301-6c7d-4570-a187-13dd0097bbac\">\n",
              "    <div class=\"colab-df-container\">\n",
              "      <div>\n",
              "<style scoped>\n",
              "    .dataframe tbody tr th:only-of-type {\n",
              "        vertical-align: middle;\n",
              "    }\n",
              "\n",
              "    .dataframe tbody tr th {\n",
              "        vertical-align: top;\n",
              "    }\n",
              "\n",
              "    .dataframe thead th {\n",
              "        text-align: right;\n",
              "    }\n",
              "</style>\n",
              "<table border=\"1\" class=\"dataframe\">\n",
              "  <thead>\n",
              "    <tr style=\"text-align: right;\">\n",
              "      <th></th>\n",
              "      <th>disposition</th>\n",
              "      <th>fine_amount</th>\n",
              "      <th>late_fee</th>\n",
              "      <th>discount_amount</th>\n",
              "      <th>judgment_amount</th>\n",
              "      <th>compliance</th>\n",
              "    </tr>\n",
              "  </thead>\n",
              "  <tbody>\n",
              "    <tr>\n",
              "      <th>0</th>\n",
              "      <td>Responsible by Default</td>\n",
              "      <td>250.0</td>\n",
              "      <td>25.0</td>\n",
              "      <td>0.0</td>\n",
              "      <td>305.0</td>\n",
              "      <td>0.0</td>\n",
              "    </tr>\n",
              "    <tr>\n",
              "      <th>1</th>\n",
              "      <td>Responsible by Determination</td>\n",
              "      <td>750.0</td>\n",
              "      <td>75.0</td>\n",
              "      <td>0.0</td>\n",
              "      <td>855.0</td>\n",
              "      <td>1.0</td>\n",
              "    </tr>\n",
              "    <tr>\n",
              "      <th>2</th>\n",
              "      <td>Not responsible by Dismissal</td>\n",
              "      <td>250.0</td>\n",
              "      <td>0.0</td>\n",
              "      <td>0.0</td>\n",
              "      <td>0.0</td>\n",
              "      <td>NaN</td>\n",
              "    </tr>\n",
              "    <tr>\n",
              "      <th>3</th>\n",
              "      <td>Not responsible by City Dismissal</td>\n",
              "      <td>250.0</td>\n",
              "      <td>0.0</td>\n",
              "      <td>0.0</td>\n",
              "      <td>0.0</td>\n",
              "      <td>NaN</td>\n",
              "    </tr>\n",
              "    <tr>\n",
              "      <th>4</th>\n",
              "      <td>Not responsible by Dismissal</td>\n",
              "      <td>250.0</td>\n",
              "      <td>0.0</td>\n",
              "      <td>0.0</td>\n",
              "      <td>0.0</td>\n",
              "      <td>NaN</td>\n",
              "    </tr>\n",
              "  </tbody>\n",
              "</table>\n",
              "</div>\n",
              "      <button class=\"colab-df-convert\" onclick=\"convertToInteractive('df-8fbef301-6c7d-4570-a187-13dd0097bbac')\"\n",
              "              title=\"Convert this dataframe to an interactive table.\"\n",
              "              style=\"display:none;\">\n",
              "\n",
              "  <svg xmlns=\"http://www.w3.org/2000/svg\" height=\"24px\"viewBox=\"0 0 24 24\"\n",
              "       width=\"24px\">\n",
              "    <path d=\"M0 0h24v24H0V0z\" fill=\"none\"/>\n",
              "    <path d=\"M18.56 5.44l.94 2.06.94-2.06 2.06-.94-2.06-.94-.94-2.06-.94 2.06-2.06.94zm-11 1L8.5 8.5l.94-2.06 2.06-.94-2.06-.94L8.5 2.5l-.94 2.06-2.06.94zm10 10l.94 2.06.94-2.06 2.06-.94-2.06-.94-.94-2.06-.94 2.06-2.06.94z\"/><path d=\"M17.41 7.96l-1.37-1.37c-.4-.4-.92-.59-1.43-.59-.52 0-1.04.2-1.43.59L10.3 9.45l-7.72 7.72c-.78.78-.78 2.05 0 2.83L4 21.41c.39.39.9.59 1.41.59.51 0 1.02-.2 1.41-.59l7.78-7.78 2.81-2.81c.8-.78.8-2.07 0-2.86zM5.41 20L4 18.59l7.72-7.72 1.47 1.35L5.41 20z\"/>\n",
              "  </svg>\n",
              "      </button>\n",
              "\n",
              "\n",
              "\n",
              "    <div id=\"df-2eeadfda-7056-4b0a-8a19-949a5e9ec8f3\">\n",
              "      <button class=\"colab-df-quickchart\" onclick=\"quickchart('df-2eeadfda-7056-4b0a-8a19-949a5e9ec8f3')\"\n",
              "              title=\"Suggest charts.\"\n",
              "              style=\"display:none;\">\n",
              "\n",
              "<svg xmlns=\"http://www.w3.org/2000/svg\" height=\"24px\"viewBox=\"0 0 24 24\"\n",
              "     width=\"24px\">\n",
              "    <g>\n",
              "        <path d=\"M19 3H5c-1.1 0-2 .9-2 2v14c0 1.1.9 2 2 2h14c1.1 0 2-.9 2-2V5c0-1.1-.9-2-2-2zM9 17H7v-7h2v7zm4 0h-2V7h2v10zm4 0h-2v-4h2v4z\"/>\n",
              "    </g>\n",
              "</svg>\n",
              "      </button>\n",
              "    </div>\n",
              "\n",
              "<style>\n",
              "  .colab-df-quickchart {\n",
              "    background-color: #E8F0FE;\n",
              "    border: none;\n",
              "    border-radius: 50%;\n",
              "    cursor: pointer;\n",
              "    display: none;\n",
              "    fill: #1967D2;\n",
              "    height: 32px;\n",
              "    padding: 0 0 0 0;\n",
              "    width: 32px;\n",
              "  }\n",
              "\n",
              "  .colab-df-quickchart:hover {\n",
              "    background-color: #E2EBFA;\n",
              "    box-shadow: 0px 1px 2px rgba(60, 64, 67, 0.3), 0px 1px 3px 1px rgba(60, 64, 67, 0.15);\n",
              "    fill: #174EA6;\n",
              "  }\n",
              "\n",
              "  [theme=dark] .colab-df-quickchart {\n",
              "    background-color: #3B4455;\n",
              "    fill: #D2E3FC;\n",
              "  }\n",
              "\n",
              "  [theme=dark] .colab-df-quickchart:hover {\n",
              "    background-color: #434B5C;\n",
              "    box-shadow: 0px 1px 3px 1px rgba(0, 0, 0, 0.15);\n",
              "    filter: drop-shadow(0px 1px 2px rgba(0, 0, 0, 0.3));\n",
              "    fill: #FFFFFF;\n",
              "  }\n",
              "</style>\n",
              "\n",
              "    <script>\n",
              "      async function quickchart(key) {\n",
              "        const containerElement = document.querySelector('#' + key);\n",
              "        const charts = await google.colab.kernel.invokeFunction(\n",
              "            'suggestCharts', [key], {});\n",
              "      }\n",
              "    </script>\n",
              "\n",
              "      <script>\n",
              "\n",
              "function displayQuickchartButton(domScope) {\n",
              "  let quickchartButtonEl =\n",
              "    domScope.querySelector('#df-2eeadfda-7056-4b0a-8a19-949a5e9ec8f3 button.colab-df-quickchart');\n",
              "  quickchartButtonEl.style.display =\n",
              "    google.colab.kernel.accessAllowed ? 'block' : 'none';\n",
              "}\n",
              "\n",
              "        displayQuickchartButton(document);\n",
              "      </script>\n",
              "      <style>\n",
              "    .colab-df-container {\n",
              "      display:flex;\n",
              "      flex-wrap:wrap;\n",
              "      gap: 12px;\n",
              "    }\n",
              "\n",
              "    .colab-df-convert {\n",
              "      background-color: #E8F0FE;\n",
              "      border: none;\n",
              "      border-radius: 50%;\n",
              "      cursor: pointer;\n",
              "      display: none;\n",
              "      fill: #1967D2;\n",
              "      height: 32px;\n",
              "      padding: 0 0 0 0;\n",
              "      width: 32px;\n",
              "    }\n",
              "\n",
              "    .colab-df-convert:hover {\n",
              "      background-color: #E2EBFA;\n",
              "      box-shadow: 0px 1px 2px rgba(60, 64, 67, 0.3), 0px 1px 3px 1px rgba(60, 64, 67, 0.15);\n",
              "      fill: #174EA6;\n",
              "    }\n",
              "\n",
              "    [theme=dark] .colab-df-convert {\n",
              "      background-color: #3B4455;\n",
              "      fill: #D2E3FC;\n",
              "    }\n",
              "\n",
              "    [theme=dark] .colab-df-convert:hover {\n",
              "      background-color: #434B5C;\n",
              "      box-shadow: 0px 1px 3px 1px rgba(0, 0, 0, 0.15);\n",
              "      filter: drop-shadow(0px 1px 2px rgba(0, 0, 0, 0.3));\n",
              "      fill: #FFFFFF;\n",
              "    }\n",
              "  </style>\n",
              "\n",
              "      <script>\n",
              "        const buttonEl =\n",
              "          document.querySelector('#df-8fbef301-6c7d-4570-a187-13dd0097bbac button.colab-df-convert');\n",
              "        buttonEl.style.display =\n",
              "          google.colab.kernel.accessAllowed ? 'block' : 'none';\n",
              "\n",
              "        async function convertToInteractive(key) {\n",
              "          const element = document.querySelector('#df-8fbef301-6c7d-4570-a187-13dd0097bbac');\n",
              "          const dataTable =\n",
              "            await google.colab.kernel.invokeFunction('convertToInteractive',\n",
              "                                                     [key], {});\n",
              "          if (!dataTable) return;\n",
              "\n",
              "          const docLinkHtml = 'Like what you see? Visit the ' +\n",
              "            '<a target=\"_blank\" href=https://colab.research.google.com/notebooks/data_table.ipynb>data table notebook</a>'\n",
              "            + ' to learn more about interactive tables.';\n",
              "          element.innerHTML = '';\n",
              "          dataTable['output_type'] = 'display_data';\n",
              "          await google.colab.output.renderOutput(dataTable, element);\n",
              "          const docLink = document.createElement('div');\n",
              "          docLink.innerHTML = docLinkHtml;\n",
              "          element.appendChild(docLink);\n",
              "        }\n",
              "      </script>\n",
              "    </div>\n",
              "  </div>\n"
            ]
          },
          "metadata": {},
          "execution_count": 25
        }
      ]
    },
    {
      "cell_type": "code",
      "execution_count": null,
      "metadata": {
        "id": "yzAs3J4jrJBl"
      },
      "outputs": [],
      "source": [
        "df1.describe()"
      ]
    },
    {
      "cell_type": "code",
      "execution_count": null,
      "metadata": {
        "id": "xhOS3-jurRW5"
      },
      "outputs": [],
      "source": [
        "df1.info()"
      ]
    },
    {
      "cell_type": "code",
      "execution_count": 37,
      "metadata": {
        "colab": {
          "base_uri": "https://localhost:8080/"
        },
        "id": "1C8KA9jQryO3",
        "outputId": "02e7f816-5e53-4e99-ef73-04bceb7e3414"
      },
      "outputs": [
        {
          "output_type": "execute_result",
          "data": {
            "text/plain": [
              "disposition        0\n",
              "fine_amount        0\n",
              "late_fee           0\n",
              "discount_amount    0\n",
              "judgment_amount    0\n",
              "compliance         0\n",
              "dtype: int64"
            ]
          },
          "metadata": {},
          "execution_count": 37
        }
      ],
      "source": [
        "df1.isnull().sum()"
      ]
    },
    {
      "cell_type": "code",
      "source": [
        "df1.head()"
      ],
      "metadata": {
        "colab": {
          "base_uri": "https://localhost:8080/",
          "height": 206
        },
        "id": "7aaUmbqRjNZQ",
        "outputId": "17a3c02f-336a-4f90-b24c-66e5170aa349"
      },
      "execution_count": 39,
      "outputs": [
        {
          "output_type": "execute_result",
          "data": {
            "text/plain": [
              "                         disposition  fine_amount  late_fee  discount_amount  \\\n",
              "0             Responsible by Default        250.0      25.0              0.0   \n",
              "1       Responsible by Determination        750.0      75.0              0.0   \n",
              "2       Not responsible by Dismissal        250.0       0.0              0.0   \n",
              "3  Not responsible by City Dismissal        250.0       0.0              0.0   \n",
              "4       Not responsible by Dismissal        250.0       0.0              0.0   \n",
              "\n",
              "   judgment_amount  compliance  \n",
              "0            305.0    0.000000  \n",
              "1            855.0    1.000000  \n",
              "2              0.0    0.072536  \n",
              "3              0.0    0.072536  \n",
              "4              0.0    0.072536  "
            ],
            "text/html": [
              "\n",
              "\n",
              "  <div id=\"df-50f4f12e-40a4-4af4-9f51-170bb2930963\">\n",
              "    <div class=\"colab-df-container\">\n",
              "      <div>\n",
              "<style scoped>\n",
              "    .dataframe tbody tr th:only-of-type {\n",
              "        vertical-align: middle;\n",
              "    }\n",
              "\n",
              "    .dataframe tbody tr th {\n",
              "        vertical-align: top;\n",
              "    }\n",
              "\n",
              "    .dataframe thead th {\n",
              "        text-align: right;\n",
              "    }\n",
              "</style>\n",
              "<table border=\"1\" class=\"dataframe\">\n",
              "  <thead>\n",
              "    <tr style=\"text-align: right;\">\n",
              "      <th></th>\n",
              "      <th>disposition</th>\n",
              "      <th>fine_amount</th>\n",
              "      <th>late_fee</th>\n",
              "      <th>discount_amount</th>\n",
              "      <th>judgment_amount</th>\n",
              "      <th>compliance</th>\n",
              "    </tr>\n",
              "  </thead>\n",
              "  <tbody>\n",
              "    <tr>\n",
              "      <th>0</th>\n",
              "      <td>Responsible by Default</td>\n",
              "      <td>250.0</td>\n",
              "      <td>25.0</td>\n",
              "      <td>0.0</td>\n",
              "      <td>305.0</td>\n",
              "      <td>0.000000</td>\n",
              "    </tr>\n",
              "    <tr>\n",
              "      <th>1</th>\n",
              "      <td>Responsible by Determination</td>\n",
              "      <td>750.0</td>\n",
              "      <td>75.0</td>\n",
              "      <td>0.0</td>\n",
              "      <td>855.0</td>\n",
              "      <td>1.000000</td>\n",
              "    </tr>\n",
              "    <tr>\n",
              "      <th>2</th>\n",
              "      <td>Not responsible by Dismissal</td>\n",
              "      <td>250.0</td>\n",
              "      <td>0.0</td>\n",
              "      <td>0.0</td>\n",
              "      <td>0.0</td>\n",
              "      <td>0.072536</td>\n",
              "    </tr>\n",
              "    <tr>\n",
              "      <th>3</th>\n",
              "      <td>Not responsible by City Dismissal</td>\n",
              "      <td>250.0</td>\n",
              "      <td>0.0</td>\n",
              "      <td>0.0</td>\n",
              "      <td>0.0</td>\n",
              "      <td>0.072536</td>\n",
              "    </tr>\n",
              "    <tr>\n",
              "      <th>4</th>\n",
              "      <td>Not responsible by Dismissal</td>\n",
              "      <td>250.0</td>\n",
              "      <td>0.0</td>\n",
              "      <td>0.0</td>\n",
              "      <td>0.0</td>\n",
              "      <td>0.072536</td>\n",
              "    </tr>\n",
              "  </tbody>\n",
              "</table>\n",
              "</div>\n",
              "      <button class=\"colab-df-convert\" onclick=\"convertToInteractive('df-50f4f12e-40a4-4af4-9f51-170bb2930963')\"\n",
              "              title=\"Convert this dataframe to an interactive table.\"\n",
              "              style=\"display:none;\">\n",
              "\n",
              "  <svg xmlns=\"http://www.w3.org/2000/svg\" height=\"24px\"viewBox=\"0 0 24 24\"\n",
              "       width=\"24px\">\n",
              "    <path d=\"M0 0h24v24H0V0z\" fill=\"none\"/>\n",
              "    <path d=\"M18.56 5.44l.94 2.06.94-2.06 2.06-.94-2.06-.94-.94-2.06-.94 2.06-2.06.94zm-11 1L8.5 8.5l.94-2.06 2.06-.94-2.06-.94L8.5 2.5l-.94 2.06-2.06.94zm10 10l.94 2.06.94-2.06 2.06-.94-2.06-.94-.94-2.06-.94 2.06-2.06.94z\"/><path d=\"M17.41 7.96l-1.37-1.37c-.4-.4-.92-.59-1.43-.59-.52 0-1.04.2-1.43.59L10.3 9.45l-7.72 7.72c-.78.78-.78 2.05 0 2.83L4 21.41c.39.39.9.59 1.41.59.51 0 1.02-.2 1.41-.59l7.78-7.78 2.81-2.81c.8-.78.8-2.07 0-2.86zM5.41 20L4 18.59l7.72-7.72 1.47 1.35L5.41 20z\"/>\n",
              "  </svg>\n",
              "      </button>\n",
              "\n",
              "\n",
              "\n",
              "    <div id=\"df-fb11f72b-096a-44ee-b07e-38a7eec18747\">\n",
              "      <button class=\"colab-df-quickchart\" onclick=\"quickchart('df-fb11f72b-096a-44ee-b07e-38a7eec18747')\"\n",
              "              title=\"Suggest charts.\"\n",
              "              style=\"display:none;\">\n",
              "\n",
              "<svg xmlns=\"http://www.w3.org/2000/svg\" height=\"24px\"viewBox=\"0 0 24 24\"\n",
              "     width=\"24px\">\n",
              "    <g>\n",
              "        <path d=\"M19 3H5c-1.1 0-2 .9-2 2v14c0 1.1.9 2 2 2h14c1.1 0 2-.9 2-2V5c0-1.1-.9-2-2-2zM9 17H7v-7h2v7zm4 0h-2V7h2v10zm4 0h-2v-4h2v4z\"/>\n",
              "    </g>\n",
              "</svg>\n",
              "      </button>\n",
              "    </div>\n",
              "\n",
              "<style>\n",
              "  .colab-df-quickchart {\n",
              "    background-color: #E8F0FE;\n",
              "    border: none;\n",
              "    border-radius: 50%;\n",
              "    cursor: pointer;\n",
              "    display: none;\n",
              "    fill: #1967D2;\n",
              "    height: 32px;\n",
              "    padding: 0 0 0 0;\n",
              "    width: 32px;\n",
              "  }\n",
              "\n",
              "  .colab-df-quickchart:hover {\n",
              "    background-color: #E2EBFA;\n",
              "    box-shadow: 0px 1px 2px rgba(60, 64, 67, 0.3), 0px 1px 3px 1px rgba(60, 64, 67, 0.15);\n",
              "    fill: #174EA6;\n",
              "  }\n",
              "\n",
              "  [theme=dark] .colab-df-quickchart {\n",
              "    background-color: #3B4455;\n",
              "    fill: #D2E3FC;\n",
              "  }\n",
              "\n",
              "  [theme=dark] .colab-df-quickchart:hover {\n",
              "    background-color: #434B5C;\n",
              "    box-shadow: 0px 1px 3px 1px rgba(0, 0, 0, 0.15);\n",
              "    filter: drop-shadow(0px 1px 2px rgba(0, 0, 0, 0.3));\n",
              "    fill: #FFFFFF;\n",
              "  }\n",
              "</style>\n",
              "\n",
              "    <script>\n",
              "      async function quickchart(key) {\n",
              "        const containerElement = document.querySelector('#' + key);\n",
              "        const charts = await google.colab.kernel.invokeFunction(\n",
              "            'suggestCharts', [key], {});\n",
              "      }\n",
              "    </script>\n",
              "\n",
              "      <script>\n",
              "\n",
              "function displayQuickchartButton(domScope) {\n",
              "  let quickchartButtonEl =\n",
              "    domScope.querySelector('#df-fb11f72b-096a-44ee-b07e-38a7eec18747 button.colab-df-quickchart');\n",
              "  quickchartButtonEl.style.display =\n",
              "    google.colab.kernel.accessAllowed ? 'block' : 'none';\n",
              "}\n",
              "\n",
              "        displayQuickchartButton(document);\n",
              "      </script>\n",
              "      <style>\n",
              "    .colab-df-container {\n",
              "      display:flex;\n",
              "      flex-wrap:wrap;\n",
              "      gap: 12px;\n",
              "    }\n",
              "\n",
              "    .colab-df-convert {\n",
              "      background-color: #E8F0FE;\n",
              "      border: none;\n",
              "      border-radius: 50%;\n",
              "      cursor: pointer;\n",
              "      display: none;\n",
              "      fill: #1967D2;\n",
              "      height: 32px;\n",
              "      padding: 0 0 0 0;\n",
              "      width: 32px;\n",
              "    }\n",
              "\n",
              "    .colab-df-convert:hover {\n",
              "      background-color: #E2EBFA;\n",
              "      box-shadow: 0px 1px 2px rgba(60, 64, 67, 0.3), 0px 1px 3px 1px rgba(60, 64, 67, 0.15);\n",
              "      fill: #174EA6;\n",
              "    }\n",
              "\n",
              "    [theme=dark] .colab-df-convert {\n",
              "      background-color: #3B4455;\n",
              "      fill: #D2E3FC;\n",
              "    }\n",
              "\n",
              "    [theme=dark] .colab-df-convert:hover {\n",
              "      background-color: #434B5C;\n",
              "      box-shadow: 0px 1px 3px 1px rgba(0, 0, 0, 0.15);\n",
              "      filter: drop-shadow(0px 1px 2px rgba(0, 0, 0, 0.3));\n",
              "      fill: #FFFFFF;\n",
              "    }\n",
              "  </style>\n",
              "\n",
              "      <script>\n",
              "        const buttonEl =\n",
              "          document.querySelector('#df-50f4f12e-40a4-4af4-9f51-170bb2930963 button.colab-df-convert');\n",
              "        buttonEl.style.display =\n",
              "          google.colab.kernel.accessAllowed ? 'block' : 'none';\n",
              "\n",
              "        async function convertToInteractive(key) {\n",
              "          const element = document.querySelector('#df-50f4f12e-40a4-4af4-9f51-170bb2930963');\n",
              "          const dataTable =\n",
              "            await google.colab.kernel.invokeFunction('convertToInteractive',\n",
              "                                                     [key], {});\n",
              "          if (!dataTable) return;\n",
              "\n",
              "          const docLinkHtml = 'Like what you see? Visit the ' +\n",
              "            '<a target=\"_blank\" href=https://colab.research.google.com/notebooks/data_table.ipynb>data table notebook</a>'\n",
              "            + ' to learn more about interactive tables.';\n",
              "          element.innerHTML = '';\n",
              "          dataTable['output_type'] = 'display_data';\n",
              "          await google.colab.output.renderOutput(dataTable, element);\n",
              "          const docLink = document.createElement('div');\n",
              "          docLink.innerHTML = docLinkHtml;\n",
              "          element.appendChild(docLink);\n",
              "        }\n",
              "      </script>\n",
              "    </div>\n",
              "  </div>\n"
            ]
          },
          "metadata": {},
          "execution_count": 39
        }
      ]
    },
    {
      "cell_type": "code",
      "source": [
        "mean_values = df1.mean()\n",
        "\n",
        "# Replace null values with the respective column mean\n",
        "df1.fillna(mean_values, inplace=True)"
      ],
      "metadata": {
        "id": "l--lAHhikAEl"
      },
      "execution_count": 41,
      "outputs": []
    },
    {
      "cell_type": "code",
      "source": [
        "df1.isnull().sum()"
      ],
      "metadata": {
        "colab": {
          "base_uri": "https://localhost:8080/"
        },
        "id": "6MuyfhGvknWI",
        "outputId": "a9343af5-f671-4270-84d5-b2f201865d9d"
      },
      "execution_count": 42,
      "outputs": [
        {
          "output_type": "execute_result",
          "data": {
            "text/plain": [
              "disposition        0\n",
              "fine_amount        0\n",
              "late_fee           0\n",
              "discount_amount    0\n",
              "judgment_amount    0\n",
              "compliance         0\n",
              "dtype: int64"
            ]
          },
          "metadata": {},
          "execution_count": 42
        }
      ]
    },
    {
      "cell_type": "markdown",
      "metadata": {
        "id": "go-m0jKpnxzf"
      },
      "source": [
        "Q. Are there any columns with null values?"
      ]
    },
    {
      "cell_type": "code",
      "execution_count": null,
      "metadata": {
        "colab": {
          "base_uri": "https://localhost:8080/"
        },
        "id": "V5Jm6Cdvsi0J",
        "outputId": "85964df1-1197-49ba-a7cc-f4172d277dc6"
      },
      "outputs": [
        {
          "name": "stdout",
          "output_type": "stream",
          "text": [
            "disposition        False\n",
            "fine_amount         True\n",
            "late_fee           False\n",
            "discount_amount    False\n",
            "clean_up_cost      False\n",
            "judgment_amount    False\n",
            "grafitti_status     True\n",
            "compliance          True\n",
            "dtype: bool\n"
          ]
        }
      ],
      "source": [
        "#yes there are\n",
        "print(df.isnull().any(axis=0))"
      ]
    },
    {
      "cell_type": "markdown",
      "metadata": {
        "id": "1B1CNLnznxzg"
      },
      "source": [
        "Q. Which columns are categorical vs continuous? What is our target variable?"
      ]
    },
    {
      "cell_type": "code",
      "execution_count": null,
      "metadata": {
        "colab": {
          "base_uri": "https://localhost:8080/"
        },
        "id": "x0SZIKiystQD",
        "outputId": "63bc52dc-580f-43ee-e222-c63e02e910b9"
      },
      "outputs": [
        {
          "name": "stdout",
          "output_type": "stream",
          "text": [
            "<class 'pandas.core.frame.DataFrame'>\n",
            "RangeIndex: 250306 entries, 0 to 250305\n",
            "Data columns (total 8 columns):\n",
            " #   Column           Non-Null Count   Dtype  \n",
            "---  ------           --------------   -----  \n",
            " 0   disposition      250306 non-null  object \n",
            " 1   fine_amount      250305 non-null  float64\n",
            " 2   late_fee         250306 non-null  float64\n",
            " 3   discount_amount  250306 non-null  float64\n",
            " 4   clean_up_cost    250306 non-null  float64\n",
            " 5   judgment_amount  250306 non-null  float64\n",
            " 6   grafitti_status  1 non-null       object \n",
            " 7   compliance       159880 non-null  float64\n",
            "dtypes: float64(6), object(2)\n",
            "memory usage: 15.3+ MB\n"
          ]
        }
      ],
      "source": [
        "df.info()\n",
        "#categorical = disposition\n",
        "#target = compliance\n",
        "#continuous ="
      ]
    },
    {
      "cell_type": "markdown",
      "metadata": {
        "id": "eA2SKAwVnxzg"
      },
      "source": [
        "Q. There are two columns that needs to be dropped before building the models. What are those and why it needs to be dropped?"
      ]
    },
    {
      "cell_type": "code",
      "execution_count": null,
      "metadata": {
        "id": "ZCnqRQUDs_mD"
      },
      "outputs": [],
      "source": [
        "#clean up cost and grafitti_status\n",
        "#graffiti_status column contains NaN values for all the rows\n",
        "#clean_up_cost column contains all 0.0 values for all the rows"
      ]
    },
    {
      "cell_type": "markdown",
      "metadata": {
        "id": "Yms1nNqFnxzh"
      },
      "source": [
        "Q. Write a code to drop rows in df with null values. What percentage of rows have null values?"
      ]
    },
    {
      "cell_type": "code",
      "execution_count": null,
      "metadata": {
        "colab": {
          "base_uri": "https://localhost:8080/"
        },
        "id": "ebLt66vfuex1",
        "outputId": "91d5bb47-510e-414f-8361-5d3bc9f3b98a"
      },
      "outputs": [
        {
          "name": "stdout",
          "output_type": "stream",
          "text": [
            "disposition         0.00000\n",
            "fine_amount         0.00040\n",
            "late_fee            0.00000\n",
            "discount_amount     0.00000\n",
            "clean_up_cost       0.00000\n",
            "judgment_amount     0.00000\n",
            "grafitti_status    99.99960\n",
            "compliance         36.12618\n",
            "dtype: float64\n"
          ]
        }
      ],
      "source": [
        "percentage_null_values = (df.isnull().mean() * 100).round(5)\n",
        "\n",
        "print(percentage_null_values)"
      ]
    },
    {
      "cell_type": "code",
      "execution_count": 43,
      "metadata": {
        "id": "RZ6qpny28vtM"
      },
      "outputs": [],
      "source": [
        "mean_values = df1.mean()\n",
        "\n",
        "# Replace null values with the respective column mean\n",
        "df1.fillna(mean_values, inplace=True)"
      ]
    },
    {
      "cell_type": "code",
      "source": [
        "df1.isnull().sum()"
      ],
      "metadata": {
        "colab": {
          "base_uri": "https://localhost:8080/"
        },
        "id": "EU0I8WY8k8t2",
        "outputId": "ac7f25e8-2262-41f3-f24d-73dbe603fdea"
      },
      "execution_count": 44,
      "outputs": [
        {
          "output_type": "execute_result",
          "data": {
            "text/plain": [
              "disposition        0\n",
              "fine_amount        0\n",
              "late_fee           0\n",
              "discount_amount    0\n",
              "judgment_amount    0\n",
              "compliance         0\n",
              "dtype: int64"
            ]
          },
          "metadata": {},
          "execution_count": 44
        }
      ]
    },
    {
      "cell_type": "markdown",
      "metadata": {
        "id": "3v_lVcrdnxzi"
      },
      "source": [
        "Q. Convert categorical variables into dummy variables, and then apply *train_test_split* to split the data into training and test set. Use *random_state = 0* keeping other arguments at default."
      ]
    },
    {
      "cell_type": "code",
      "execution_count": null,
      "metadata": {
        "id": "FrtDtjqk6ykB"
      },
      "outputs": [],
      "source": [
        "df2 = pd.get_dummies(df1)\n",
        "print(df2.head())"
      ]
    },
    {
      "cell_type": "code",
      "execution_count": null,
      "metadata": {
        "id": "2pzBdaS3JGiF"
      },
      "outputs": [],
      "source": [
        "df2.info()"
      ]
    },
    {
      "cell_type": "code",
      "source": [
        "df2 = df2.astype('int64')\n",
        "df2.dtypes"
      ],
      "metadata": {
        "colab": {
          "base_uri": "https://localhost:8080/"
        },
        "id": "BbOi97Rop8vC",
        "outputId": "1011bb33-b9a8-4079-c07e-8611151156c8"
      },
      "execution_count": 64,
      "outputs": [
        {
          "output_type": "execute_result",
          "data": {
            "text/plain": [
              "fine_amount                                       int64\n",
              "late_fee                                          int64\n",
              "discount_amount                                   int64\n",
              "judgment_amount                                   int64\n",
              "compliance                                        int64\n",
              "disposition_Not responsible by City Dismissal     int64\n",
              "disposition_Not responsible by Determination      int64\n",
              "disposition_Not responsible by Dismissal          int64\n",
              "disposition_PENDING JUDGMENT                      int64\n",
              "disposition_Responsible (Fine Waived) by Deter    int64\n",
              "disposition_Responsible by Admission              int64\n",
              "disposition_Responsible by Default                int64\n",
              "disposition_Responsible by Determination          int64\n",
              "disposition_SET-ASIDE (PENDING JUDGMENT)          int64\n",
              "dtype: object"
            ]
          },
          "metadata": {},
          "execution_count": 64
        }
      ]
    },
    {
      "cell_type": "code",
      "execution_count": 65,
      "metadata": {
        "id": "KaxFOG_eGlTY",
        "colab": {
          "base_uri": "https://localhost:8080/"
        },
        "outputId": "a8f79c63-2608-4f58-bc6b-cf559a3be35f"
      },
      "outputs": [
        {
          "output_type": "execute_result",
          "data": {
            "text/plain": [
              "0    0\n",
              "1    1\n",
              "2    0\n",
              "3    0\n",
              "4    0\n",
              "Name: compliance, dtype: int64"
            ]
          },
          "metadata": {},
          "execution_count": 65
        }
      ],
      "source": [
        "import pandas as pd\n",
        "from sklearn.model_selection import train_test_split\n",
        "X = df2.drop(['compliance'],axis = 1)\n",
        "y = df2['compliance']\n",
        "X_train, X_test, y_train, y_test = train_test_split(X, y, test_size=0.3, random_state=0)"
      ]
    },
    {
      "cell_type": "markdown",
      "metadata": {
        "id": "e7Il8742nxzi"
      },
      "source": [
        "Q. Use the training set to train a dummy classifier (*from sklearn.dummy import DummyClassifier*) that classifies everything as the majority class (most_frequent strategy) of the training data. What is the accuracy and roc auc score of this classifier?\n",
        "\n",
        "Note: For calculating roc auc score, you need to pass predicted probability by using *predict_proba* method. For example, for a classifier with name *'clf'*, predicted probability can be calculated by:\n",
        "\n",
        "*y_clf_proba = clf.predict_proba(X_test)[:,1]*"
      ]
    },
    {
      "cell_type": "code",
      "execution_count": 66,
      "metadata": {
        "id": "lLYooVBw-5fM",
        "colab": {
          "base_uri": "https://localhost:8080/"
        },
        "outputId": "d4ef0116-e456-44ee-a5c9-94bc9ac926ec"
      },
      "outputs": [
        {
          "output_type": "stream",
          "name": "stdout",
          "text": [
            "Accuracy: 0.9526847067597081\n",
            "ROC AUC Score: 0.5\n"
          ]
        }
      ],
      "source": [
        "from sklearn.dummy import DummyClassifier\n",
        "from sklearn.metrics import accuracy_score, roc_auc_score\n",
        "\n",
        "\n",
        "dummy_classifier = DummyClassifier(strategy='most_frequent')\n",
        "dummy_classifier.fit(X_train, y_train)\n",
        "\n",
        "# Make predictions using the dummy classifier\n",
        "y_pred = dummy_classifier.predict(X_test)\n",
        "\n",
        "# Calculate accuracy\n",
        "accuracy = accuracy_score(y_test, y_pred)\n",
        "print(\"Accuracy:\", accuracy)\n",
        "\n",
        "# Calculate predicted probabilities using predict_proba method\n",
        "y_dummy_proba = dummy_classifier.predict_proba(X_test)[:, 1]\n",
        "\n",
        "# Calculating ROC AUC score\n",
        "roc_auc = roc_auc_score(y_test, y_dummy_proba)\n",
        "print(\"ROC AUC Score:\", roc_auc)"
      ]
    },
    {
      "cell_type": "markdown",
      "metadata": {
        "id": "3vqsukr0nxzj"
      },
      "source": [
        "### Logistic Regression"
      ]
    },
    {
      "cell_type": "markdown",
      "metadata": {
        "id": "T1uiZsSVnxzj"
      },
      "source": [
        "Q. Use X_train to train two logistic regression model with fit_intercept= True and fit_intercept=False. Calculate the accuracy, confusion matrix, TPR and FPR. Also report the metrics if the probability threshold is changed to 0.3 and 0.7 ."
      ]
    },
    {
      "cell_type": "code",
      "execution_count": 73,
      "metadata": {
        "id": "Qo2X-m4GFhhw",
        "colab": {
          "base_uri": "https://localhost:8080/"
        },
        "outputId": "b6193149-ef4c-4fd6-c37c-9aecec8bc066"
      },
      "outputs": [
        {
          "output_type": "stream",
          "name": "stdout",
          "text": [
            "Threshold: 0.3\n",
            "Model with fit_intercept=True:\n",
            "Accuracy: 0.949248921323177\n",
            "Confusion Matrix:\n",
            " [[70197  1342]\n",
            " [ 2469  1084]]\n",
            "TPR: [0.         0.00337743 0.00365888 0.00478469 0.0059105  0.00816212\n",
            " 0.00872502 0.01210245 0.05347594 0.05403884 0.06107515 0.0619195\n",
            " 0.06839291 0.06923726 0.07064453 0.08387278 0.08443569 0.08471714\n",
            " 0.0861244  0.08865747 0.08893892 0.09231635 0.0925978  0.10019702\n",
            " 0.11398818 0.11455108 0.11483254 0.14466648 0.16633831 0.16690121\n",
            " 0.18885449 0.20968196 0.21080777 0.21165212 0.21193358 0.21249648\n",
            " 0.22094005 0.23050943 0.23276105 0.24767802 0.24767802 0.24795947\n",
            " 0.24964818 0.26203209 0.26259499 0.30509429 0.3062201  0.3073459\n",
            " 0.30762736 0.30762736 0.30847171 0.43850267 0.43878413 0.45088657\n",
            " 0.45144948 0.49000844 0.52068674 0.52575288 0.52969322 0.53025612\n",
            " 0.53110048 0.53110048 0.53194484 0.53278919 0.53278919 0.53729243\n",
            " 0.53729243 0.53729243 0.54095131 0.54264002 0.54264002 0.54264002\n",
            " 0.54292147 0.54320293 0.54461019 0.54489164 0.54489164 0.54545455\n",
            " 0.56009006 0.56431185 0.56431185 0.56487475 0.5705038  0.5764143\n",
            " 0.57894737 0.65944272 0.72136223 0.72305094 0.76949057 0.97438784\n",
            " 0.97860963 0.97860963 0.97860963 0.98029834 0.98930481 0.98930481\n",
            " 0.98958627 0.98958627 0.98958627 0.99577822 0.99577822 0.99577822\n",
            " 0.99634112 0.99634112 0.99662257 0.99662257 0.99662257 0.99662257\n",
            " 0.99662257 0.99662257 0.99746693 0.99746693 0.99746693 0.99746693\n",
            " 1.         1.         1.         1.         1.         1.\n",
            " 1.         1.         1.         1.         1.         1.\n",
            " 1.         1.         1.         1.         1.         1.\n",
            " 1.         1.         1.         1.         1.         1.\n",
            " 1.         1.         1.         1.         1.         1.\n",
            " 1.         1.         1.         1.         1.         1.\n",
            " 1.         1.         1.         1.         1.         1.\n",
            " 1.         1.         1.         1.         1.         1.\n",
            " 1.         1.         1.         1.         1.         1.\n",
            " 1.         1.         1.         1.         1.         1.\n",
            " 1.         1.         1.         1.         1.         1.\n",
            " 1.        ]\n",
            "FPR: [0.00000000e+00 0.00000000e+00 0.00000000e+00 0.00000000e+00\n",
            " 0.00000000e+00 0.00000000e+00 1.39783894e-05 1.39783894e-05\n",
            " 8.38703365e-05 8.38703365e-05 9.78487259e-05 9.78487259e-05\n",
            " 9.78487259e-05 1.25805505e-04 1.39783894e-04 1.67740673e-04\n",
            " 3.77416514e-04 3.77416514e-04 3.77416514e-04 3.77416514e-04\n",
            " 4.61286851e-04 4.89243629e-04 4.89243629e-04 5.31178798e-04\n",
            " 5.87092355e-04 5.87092355e-04 5.87092355e-04 6.98919470e-04\n",
            " 8.24724975e-04 8.24724975e-04 9.64508869e-04 9.78487259e-04\n",
            " 9.92465648e-04 9.92465648e-04 9.92465648e-04 1.48170928e-03\n",
            " 3.10320245e-03 5.96877228e-03 5.96877228e-03 5.96877228e-03\n",
            " 5.98275067e-03 5.98275067e-03 6.36016718e-03 9.05799634e-03\n",
            " 9.08595312e-03 1.87589986e-02 1.89407177e-02 1.97933994e-02\n",
            " 1.97933994e-02 1.98213562e-02 2.00170536e-02 3.86642251e-02\n",
            " 3.86642251e-02 4.17814059e-02 4.19910818e-02 5.03641370e-02\n",
            " 5.84855813e-02 5.97436363e-02 6.00371825e-02 6.00930961e-02\n",
            " 6.02608367e-02 6.02887935e-02 6.04425558e-02 6.04425558e-02\n",
            " 6.05963181e-02 6.10576049e-02 6.10855617e-02 6.10995401e-02\n",
            " 6.22597464e-02 6.23995303e-02 6.24135087e-02 6.25532926e-02\n",
            " 6.25532926e-02 6.26231846e-02 6.27070549e-02 6.27070549e-02\n",
            " 6.27210333e-02 6.27350117e-02 6.28887740e-02 6.29167307e-02\n",
            " 6.29446875e-02 6.29586659e-02 6.30145795e-02 6.30984498e-02\n",
            " 6.77252967e-02 1.35562420e-01 1.81607235e-01 1.84528719e-01\n",
            " 2.25792924e-01 5.40083032e-01 5.55137757e-01 5.55543130e-01\n",
            " 5.55710871e-01 5.56074309e-01 5.82325724e-01 5.82339703e-01\n",
            " 5.83136471e-01 5.83178406e-01 5.83499909e-01 6.02189016e-01\n",
            " 6.03097611e-01 6.03153525e-01 6.04383623e-01 6.06927690e-01\n",
            " 6.07920155e-01 6.07976069e-01 6.08031983e-01 6.08115853e-01\n",
            " 6.09262081e-01 6.18599645e-01 6.24274871e-01 6.46835992e-01\n",
            " 6.46877927e-01 6.46905884e-01 6.61611149e-01 6.61639106e-01\n",
            " 6.61820825e-01 6.64504676e-01 6.70599254e-01 6.71004627e-01\n",
            " 6.86227093e-01 6.86730315e-01 6.87359342e-01 6.87429234e-01\n",
            " 6.87457191e-01 6.87471170e-01 6.87513105e-01 6.87610953e-01\n",
            " 6.91329205e-01 6.97689372e-01 6.98304421e-01 7.13582801e-01\n",
            " 7.14547310e-01 7.15567732e-01 7.29392359e-01 8.26626036e-01\n",
            " 9.39711206e-01 9.39767120e-01 9.40018731e-01 9.45763849e-01\n",
            " 9.51536924e-01 9.51550902e-01 9.51746600e-01 9.51788535e-01\n",
            " 9.51816492e-01 9.51886384e-01 9.51984232e-01 9.53605726e-01\n",
            " 9.60441158e-01 9.69583025e-01 9.69610981e-01 9.69638938e-01\n",
            " 9.69736787e-01 9.70142160e-01 9.70589469e-01 9.70617425e-01\n",
            " 9.70687317e-01 9.72420638e-01 9.75845343e-01 9.82359273e-01\n",
            " 9.82415186e-01 9.82568948e-01 9.83170019e-01 9.84260334e-01\n",
            " 9.84288290e-01 9.84330225e-01 9.84344204e-01 9.85085058e-01\n",
            " 9.86608703e-01 9.88971051e-01 9.88999008e-01 9.89110835e-01\n",
            " 9.89152770e-01 9.90564587e-01 9.93793595e-01 9.98364528e-01\n",
            " 9.98560226e-01 9.99217210e-01 9.99301081e-01 9.99524735e-01\n",
            " 1.00000000e+00]\n",
            "AUC: 0.8663554574124603\n",
            "\n",
            "Model with fit_intercept=False:\n",
            "Accuracy: 0.9564534171416396\n",
            "Confusion Matrix:\n",
            " [[70889   650]\n",
            " [ 2620   933]]\n",
            "TPR: [0.         0.00337743 0.00365888 0.00478469 0.0059105  0.00816212\n",
            " 0.00872502 0.01210245 0.05347594 0.05403884 0.06107515 0.0619195\n",
            " 0.06839291 0.06895581 0.07036307 0.07120743 0.0737405  0.07402195\n",
            " 0.07430341 0.08753166 0.08893892 0.08922038 0.10413735 0.10751478\n",
            " 0.10864059 0.1162398  0.13003096 0.13059386 0.13087532 0.16070926\n",
            " 0.18238109 0.18294399 0.18322544 0.20517872 0.20686744 0.22769491\n",
            " 0.22853926 0.22882071 0.22938362 0.23782719 0.24739657 0.24795947\n",
            " 0.24795947 0.25021109 0.26259499 0.26259499 0.30509429 0.3062201\n",
            " 0.30706445 0.30819026 0.30819026 0.30847171 0.30847171 0.30931607\n",
            " 0.43934703 0.43962848 0.45173093 0.45679707 0.45735998 0.49591894\n",
            " 0.52659724 0.53053757 0.53110048 0.53194484 0.53194484 0.53194484\n",
            " 0.53194484 0.53278919 0.53729243 0.53729243 0.54095131 0.54095131\n",
            " 0.54264002 0.54264002 0.54264002 0.54264002 0.54292147 0.54320293\n",
            " 0.54348438 0.54404728 0.54545455 0.56009006 0.56431185 0.56487475\n",
            " 0.56487475 0.5705038  0.5764143  0.57894737 0.65944272 0.72136223\n",
            " 0.72305094 0.72305094 0.76949057 0.97438784 0.97860963 0.97860963\n",
            " 0.97860963 0.9876161  0.9876161  0.98930481 0.98930481 0.98930481\n",
            " 0.98930481 0.98958627 0.99577822 0.99577822 0.99577822 0.99605967\n",
            " 0.99662257 0.99662257 0.99662257 0.99662257 0.99662257 0.99746693\n",
            " 0.99746693 0.99746693 0.99746693 1.         1.         1.\n",
            " 1.         1.         1.         1.         1.         1.\n",
            " 1.         1.         1.         1.         1.         1.\n",
            " 1.         1.         1.         1.         1.         1.\n",
            " 1.         1.         1.         1.         1.         1.\n",
            " 1.         1.         1.         1.         1.         1.\n",
            " 1.         1.         1.         1.         1.         1.\n",
            " 1.         1.         1.         1.         1.         1.\n",
            " 1.         1.         1.         1.         1.         1.\n",
            " 1.         1.         1.         1.         1.         1.\n",
            " 1.         1.         1.         1.         1.         1.\n",
            " 1.         1.         1.        ]\n",
            "FPR: [0.00000000e+00 0.00000000e+00 0.00000000e+00 0.00000000e+00\n",
            " 0.00000000e+00 0.00000000e+00 1.39783894e-05 1.39783894e-05\n",
            " 8.38703365e-05 8.38703365e-05 9.78487259e-05 1.25805505e-04\n",
            " 1.25805505e-04 3.35481346e-04 3.49459735e-04 3.49459735e-04\n",
            " 3.49459735e-04 3.49459735e-04 4.33330072e-04 4.61286851e-04\n",
            " 4.61286851e-04 4.61286851e-04 4.61286851e-04 4.89243629e-04\n",
            " 5.03222019e-04 5.45157187e-04 6.01070745e-04 6.01070745e-04\n",
            " 6.01070745e-04 7.12897860e-04 8.38703365e-04 8.38703365e-04\n",
            " 8.38703365e-04 9.78487259e-04 1.35590377e-03 1.36988216e-03\n",
            " 1.36988216e-03 1.36988216e-03 1.85912579e-03 3.48061896e-03\n",
            " 6.34618879e-03 6.37414557e-03 6.38812396e-03 6.38812396e-03\n",
            " 9.08595312e-03 9.09993151e-03 1.87729770e-02 1.96256587e-02\n",
            " 1.96256587e-02 1.98073778e-02 1.98213562e-02 1.98213562e-02\n",
            " 1.98353346e-02 2.00310320e-02 3.86782035e-02 3.86782035e-02\n",
            " 4.17953843e-02 4.30534394e-02 4.32631152e-02 5.16361705e-02\n",
            " 5.97576147e-02 6.00511609e-02 6.01070745e-02 6.02748151e-02\n",
            " 6.02887935e-02 6.04425558e-02 6.04565342e-02 6.06102965e-02\n",
            " 6.10715833e-02 6.10995401e-02 6.22597464e-02 6.22737248e-02\n",
            " 6.24135087e-02 6.24554439e-02 6.25952278e-02 6.29167307e-02\n",
            " 6.29167307e-02 6.29866227e-02 6.29866227e-02 6.30006011e-02\n",
            " 6.30844714e-02 6.32382337e-02 6.32661905e-02 6.32801689e-02\n",
            " 6.32941472e-02 6.33500608e-02 6.34339311e-02 6.80607780e-02\n",
            " 1.35897902e-01 1.81942717e-01 1.84864200e-01 1.84892157e-01\n",
            " 2.26156362e-01 5.40446470e-01 5.55501195e-01 5.55906568e-01\n",
            " 5.56074309e-01 5.82325724e-01 5.83234320e-01 5.83597758e-01\n",
            " 5.83611736e-01 5.83667650e-01 5.83751520e-01 5.84548288e-01\n",
            " 6.03237395e-01 6.04383623e-01 6.04439536e-01 6.05432002e-01\n",
            " 6.06662100e-01 6.09206167e-01 6.09234124e-01 6.18571688e-01\n",
            " 6.18599645e-01 6.24274871e-01 6.24302828e-01 6.24344763e-01\n",
            " 6.46905884e-01 6.61611149e-01 6.61639106e-01 6.61820825e-01\n",
            " 6.64504676e-01 6.64910049e-01 6.71004627e-01 6.86227093e-01\n",
            " 6.86730315e-01 6.86800207e-01 6.87429234e-01 6.87443213e-01\n",
            " 6.87471170e-01 6.87513105e-01 6.87610953e-01 6.88226003e-01\n",
            " 6.91944254e-01 6.98304421e-01 7.13582801e-01 7.14547310e-01\n",
            " 7.15567732e-01 7.29392359e-01 8.26626036e-01 9.39711206e-01\n",
            " 9.39767120e-01 9.40018731e-01 9.45763849e-01 9.51536924e-01\n",
            " 9.51550902e-01 9.51746600e-01 9.51788535e-01 9.51816492e-01\n",
            " 9.51886384e-01 9.51984232e-01 9.53605726e-01 9.60441158e-01\n",
            " 9.69583025e-01 9.69610981e-01 9.69638938e-01 9.69736787e-01\n",
            " 9.70142160e-01 9.70589469e-01 9.70617425e-01 9.70687317e-01\n",
            " 9.72420638e-01 9.75845343e-01 9.82359273e-01 9.82401208e-01\n",
            " 9.82554970e-01 9.82568948e-01 9.83170019e-01 9.84260334e-01\n",
            " 9.84288290e-01 9.84330225e-01 9.84344204e-01 9.85085058e-01\n",
            " 9.86608703e-01 9.88971051e-01 9.88999008e-01 9.89110835e-01\n",
            " 9.89152770e-01 9.90564587e-01 9.93793595e-01 9.98364528e-01\n",
            " 9.98560226e-01 9.99217210e-01 1.00000000e+00]\n",
            "AUC: 0.8662456997125562\n",
            "\n",
            "Threshold: 0.7\n",
            "Model with fit_intercept=True:\n",
            "Accuracy: 0.9558408352421031\n",
            "Confusion Matrix:\n",
            " [[71530     9]\n",
            " [ 3307   246]]\n",
            "TPR: [0.         0.00337743 0.00365888 0.00478469 0.0059105  0.00816212\n",
            " 0.00872502 0.01210245 0.05347594 0.05403884 0.06107515 0.0619195\n",
            " 0.06839291 0.06923726 0.07064453 0.08387278 0.08443569 0.08471714\n",
            " 0.0861244  0.08865747 0.08893892 0.09231635 0.0925978  0.10019702\n",
            " 0.11398818 0.11455108 0.11483254 0.14466648 0.16633831 0.16690121\n",
            " 0.18885449 0.20968196 0.21080777 0.21165212 0.21193358 0.21249648\n",
            " 0.22094005 0.23050943 0.23276105 0.24767802 0.24767802 0.24795947\n",
            " 0.24964818 0.26203209 0.26259499 0.30509429 0.3062201  0.3073459\n",
            " 0.30762736 0.30762736 0.30847171 0.43850267 0.43878413 0.45088657\n",
            " 0.45144948 0.49000844 0.52068674 0.52575288 0.52969322 0.53025612\n",
            " 0.53110048 0.53110048 0.53194484 0.53278919 0.53278919 0.53729243\n",
            " 0.53729243 0.53729243 0.54095131 0.54264002 0.54264002 0.54264002\n",
            " 0.54292147 0.54320293 0.54461019 0.54489164 0.54489164 0.54545455\n",
            " 0.56009006 0.56431185 0.56431185 0.56487475 0.5705038  0.5764143\n",
            " 0.57894737 0.65944272 0.72136223 0.72305094 0.76949057 0.97438784\n",
            " 0.97860963 0.97860963 0.97860963 0.98029834 0.98930481 0.98930481\n",
            " 0.98958627 0.98958627 0.98958627 0.99577822 0.99577822 0.99577822\n",
            " 0.99634112 0.99634112 0.99662257 0.99662257 0.99662257 0.99662257\n",
            " 0.99662257 0.99662257 0.99746693 0.99746693 0.99746693 0.99746693\n",
            " 1.         1.         1.         1.         1.         1.\n",
            " 1.         1.         1.         1.         1.         1.\n",
            " 1.         1.         1.         1.         1.         1.\n",
            " 1.         1.         1.         1.         1.         1.\n",
            " 1.         1.         1.         1.         1.         1.\n",
            " 1.         1.         1.         1.         1.         1.\n",
            " 1.         1.         1.         1.         1.         1.\n",
            " 1.         1.         1.         1.         1.         1.\n",
            " 1.         1.         1.         1.         1.         1.\n",
            " 1.         1.         1.         1.         1.         1.\n",
            " 1.         1.         1.         1.         1.         1.\n",
            " 1.        ]\n",
            "FPR: [0.00000000e+00 0.00000000e+00 0.00000000e+00 0.00000000e+00\n",
            " 0.00000000e+00 0.00000000e+00 1.39783894e-05 1.39783894e-05\n",
            " 8.38703365e-05 8.38703365e-05 9.78487259e-05 9.78487259e-05\n",
            " 9.78487259e-05 1.25805505e-04 1.39783894e-04 1.67740673e-04\n",
            " 3.77416514e-04 3.77416514e-04 3.77416514e-04 3.77416514e-04\n",
            " 4.61286851e-04 4.89243629e-04 4.89243629e-04 5.31178798e-04\n",
            " 5.87092355e-04 5.87092355e-04 5.87092355e-04 6.98919470e-04\n",
            " 8.24724975e-04 8.24724975e-04 9.64508869e-04 9.78487259e-04\n",
            " 9.92465648e-04 9.92465648e-04 9.92465648e-04 1.48170928e-03\n",
            " 3.10320245e-03 5.96877228e-03 5.96877228e-03 5.96877228e-03\n",
            " 5.98275067e-03 5.98275067e-03 6.36016718e-03 9.05799634e-03\n",
            " 9.08595312e-03 1.87589986e-02 1.89407177e-02 1.97933994e-02\n",
            " 1.97933994e-02 1.98213562e-02 2.00170536e-02 3.86642251e-02\n",
            " 3.86642251e-02 4.17814059e-02 4.19910818e-02 5.03641370e-02\n",
            " 5.84855813e-02 5.97436363e-02 6.00371825e-02 6.00930961e-02\n",
            " 6.02608367e-02 6.02887935e-02 6.04425558e-02 6.04425558e-02\n",
            " 6.05963181e-02 6.10576049e-02 6.10855617e-02 6.10995401e-02\n",
            " 6.22597464e-02 6.23995303e-02 6.24135087e-02 6.25532926e-02\n",
            " 6.25532926e-02 6.26231846e-02 6.27070549e-02 6.27070549e-02\n",
            " 6.27210333e-02 6.27350117e-02 6.28887740e-02 6.29167307e-02\n",
            " 6.29446875e-02 6.29586659e-02 6.30145795e-02 6.30984498e-02\n",
            " 6.77252967e-02 1.35562420e-01 1.81607235e-01 1.84528719e-01\n",
            " 2.25792924e-01 5.40083032e-01 5.55137757e-01 5.55543130e-01\n",
            " 5.55710871e-01 5.56074309e-01 5.82325724e-01 5.82339703e-01\n",
            " 5.83136471e-01 5.83178406e-01 5.83499909e-01 6.02189016e-01\n",
            " 6.03097611e-01 6.03153525e-01 6.04383623e-01 6.06927690e-01\n",
            " 6.07920155e-01 6.07976069e-01 6.08031983e-01 6.08115853e-01\n",
            " 6.09262081e-01 6.18599645e-01 6.24274871e-01 6.46835992e-01\n",
            " 6.46877927e-01 6.46905884e-01 6.61611149e-01 6.61639106e-01\n",
            " 6.61820825e-01 6.64504676e-01 6.70599254e-01 6.71004627e-01\n",
            " 6.86227093e-01 6.86730315e-01 6.87359342e-01 6.87429234e-01\n",
            " 6.87457191e-01 6.87471170e-01 6.87513105e-01 6.87610953e-01\n",
            " 6.91329205e-01 6.97689372e-01 6.98304421e-01 7.13582801e-01\n",
            " 7.14547310e-01 7.15567732e-01 7.29392359e-01 8.26626036e-01\n",
            " 9.39711206e-01 9.39767120e-01 9.40018731e-01 9.45763849e-01\n",
            " 9.51536924e-01 9.51550902e-01 9.51746600e-01 9.51788535e-01\n",
            " 9.51816492e-01 9.51886384e-01 9.51984232e-01 9.53605726e-01\n",
            " 9.60441158e-01 9.69583025e-01 9.69610981e-01 9.69638938e-01\n",
            " 9.69736787e-01 9.70142160e-01 9.70589469e-01 9.70617425e-01\n",
            " 9.70687317e-01 9.72420638e-01 9.75845343e-01 9.82359273e-01\n",
            " 9.82415186e-01 9.82568948e-01 9.83170019e-01 9.84260334e-01\n",
            " 9.84288290e-01 9.84330225e-01 9.84344204e-01 9.85085058e-01\n",
            " 9.86608703e-01 9.88971051e-01 9.88999008e-01 9.89110835e-01\n",
            " 9.89152770e-01 9.90564587e-01 9.93793595e-01 9.98364528e-01\n",
            " 9.98560226e-01 9.99217210e-01 9.99301081e-01 9.99524735e-01\n",
            " 1.00000000e+00]\n",
            "AUC: 0.8663554574124603\n",
            "\n",
            "Model with fit_intercept=False:\n",
            "Accuracy: 0.955854152239919\n",
            "Confusion Matrix:\n",
            " [[71514    25]\n",
            " [ 3290   263]]\n",
            "TPR: [0.         0.00337743 0.00365888 0.00478469 0.0059105  0.00816212\n",
            " 0.00872502 0.01210245 0.05347594 0.05403884 0.06107515 0.0619195\n",
            " 0.06839291 0.06895581 0.07036307 0.07120743 0.0737405  0.07402195\n",
            " 0.07430341 0.08753166 0.08893892 0.08922038 0.10413735 0.10751478\n",
            " 0.10864059 0.1162398  0.13003096 0.13059386 0.13087532 0.16070926\n",
            " 0.18238109 0.18294399 0.18322544 0.20517872 0.20686744 0.22769491\n",
            " 0.22853926 0.22882071 0.22938362 0.23782719 0.24739657 0.24795947\n",
            " 0.24795947 0.25021109 0.26259499 0.26259499 0.30509429 0.3062201\n",
            " 0.30706445 0.30819026 0.30819026 0.30847171 0.30847171 0.30931607\n",
            " 0.43934703 0.43962848 0.45173093 0.45679707 0.45735998 0.49591894\n",
            " 0.52659724 0.53053757 0.53110048 0.53194484 0.53194484 0.53194484\n",
            " 0.53194484 0.53278919 0.53729243 0.53729243 0.54095131 0.54095131\n",
            " 0.54264002 0.54264002 0.54264002 0.54264002 0.54292147 0.54320293\n",
            " 0.54348438 0.54404728 0.54545455 0.56009006 0.56431185 0.56487475\n",
            " 0.56487475 0.5705038  0.5764143  0.57894737 0.65944272 0.72136223\n",
            " 0.72305094 0.72305094 0.76949057 0.97438784 0.97860963 0.97860963\n",
            " 0.97860963 0.9876161  0.9876161  0.98930481 0.98930481 0.98930481\n",
            " 0.98930481 0.98958627 0.99577822 0.99577822 0.99577822 0.99605967\n",
            " 0.99662257 0.99662257 0.99662257 0.99662257 0.99662257 0.99746693\n",
            " 0.99746693 0.99746693 0.99746693 1.         1.         1.\n",
            " 1.         1.         1.         1.         1.         1.\n",
            " 1.         1.         1.         1.         1.         1.\n",
            " 1.         1.         1.         1.         1.         1.\n",
            " 1.         1.         1.         1.         1.         1.\n",
            " 1.         1.         1.         1.         1.         1.\n",
            " 1.         1.         1.         1.         1.         1.\n",
            " 1.         1.         1.         1.         1.         1.\n",
            " 1.         1.         1.         1.         1.         1.\n",
            " 1.         1.         1.         1.         1.         1.\n",
            " 1.         1.         1.         1.         1.         1.\n",
            " 1.         1.         1.        ]\n",
            "FPR: [0.00000000e+00 0.00000000e+00 0.00000000e+00 0.00000000e+00\n",
            " 0.00000000e+00 0.00000000e+00 1.39783894e-05 1.39783894e-05\n",
            " 8.38703365e-05 8.38703365e-05 9.78487259e-05 1.25805505e-04\n",
            " 1.25805505e-04 3.35481346e-04 3.49459735e-04 3.49459735e-04\n",
            " 3.49459735e-04 3.49459735e-04 4.33330072e-04 4.61286851e-04\n",
            " 4.61286851e-04 4.61286851e-04 4.61286851e-04 4.89243629e-04\n",
            " 5.03222019e-04 5.45157187e-04 6.01070745e-04 6.01070745e-04\n",
            " 6.01070745e-04 7.12897860e-04 8.38703365e-04 8.38703365e-04\n",
            " 8.38703365e-04 9.78487259e-04 1.35590377e-03 1.36988216e-03\n",
            " 1.36988216e-03 1.36988216e-03 1.85912579e-03 3.48061896e-03\n",
            " 6.34618879e-03 6.37414557e-03 6.38812396e-03 6.38812396e-03\n",
            " 9.08595312e-03 9.09993151e-03 1.87729770e-02 1.96256587e-02\n",
            " 1.96256587e-02 1.98073778e-02 1.98213562e-02 1.98213562e-02\n",
            " 1.98353346e-02 2.00310320e-02 3.86782035e-02 3.86782035e-02\n",
            " 4.17953843e-02 4.30534394e-02 4.32631152e-02 5.16361705e-02\n",
            " 5.97576147e-02 6.00511609e-02 6.01070745e-02 6.02748151e-02\n",
            " 6.02887935e-02 6.04425558e-02 6.04565342e-02 6.06102965e-02\n",
            " 6.10715833e-02 6.10995401e-02 6.22597464e-02 6.22737248e-02\n",
            " 6.24135087e-02 6.24554439e-02 6.25952278e-02 6.29167307e-02\n",
            " 6.29167307e-02 6.29866227e-02 6.29866227e-02 6.30006011e-02\n",
            " 6.30844714e-02 6.32382337e-02 6.32661905e-02 6.32801689e-02\n",
            " 6.32941472e-02 6.33500608e-02 6.34339311e-02 6.80607780e-02\n",
            " 1.35897902e-01 1.81942717e-01 1.84864200e-01 1.84892157e-01\n",
            " 2.26156362e-01 5.40446470e-01 5.55501195e-01 5.55906568e-01\n",
            " 5.56074309e-01 5.82325724e-01 5.83234320e-01 5.83597758e-01\n",
            " 5.83611736e-01 5.83667650e-01 5.83751520e-01 5.84548288e-01\n",
            " 6.03237395e-01 6.04383623e-01 6.04439536e-01 6.05432002e-01\n",
            " 6.06662100e-01 6.09206167e-01 6.09234124e-01 6.18571688e-01\n",
            " 6.18599645e-01 6.24274871e-01 6.24302828e-01 6.24344763e-01\n",
            " 6.46905884e-01 6.61611149e-01 6.61639106e-01 6.61820825e-01\n",
            " 6.64504676e-01 6.64910049e-01 6.71004627e-01 6.86227093e-01\n",
            " 6.86730315e-01 6.86800207e-01 6.87429234e-01 6.87443213e-01\n",
            " 6.87471170e-01 6.87513105e-01 6.87610953e-01 6.88226003e-01\n",
            " 6.91944254e-01 6.98304421e-01 7.13582801e-01 7.14547310e-01\n",
            " 7.15567732e-01 7.29392359e-01 8.26626036e-01 9.39711206e-01\n",
            " 9.39767120e-01 9.40018731e-01 9.45763849e-01 9.51536924e-01\n",
            " 9.51550902e-01 9.51746600e-01 9.51788535e-01 9.51816492e-01\n",
            " 9.51886384e-01 9.51984232e-01 9.53605726e-01 9.60441158e-01\n",
            " 9.69583025e-01 9.69610981e-01 9.69638938e-01 9.69736787e-01\n",
            " 9.70142160e-01 9.70589469e-01 9.70617425e-01 9.70687317e-01\n",
            " 9.72420638e-01 9.75845343e-01 9.82359273e-01 9.82401208e-01\n",
            " 9.82554970e-01 9.82568948e-01 9.83170019e-01 9.84260334e-01\n",
            " 9.84288290e-01 9.84330225e-01 9.84344204e-01 9.85085058e-01\n",
            " 9.86608703e-01 9.88971051e-01 9.88999008e-01 9.89110835e-01\n",
            " 9.89152770e-01 9.90564587e-01 9.93793595e-01 9.98364528e-01\n",
            " 9.98560226e-01 9.99217210e-01 1.00000000e+00]\n",
            "AUC: 0.8662456997125562\n",
            "\n"
          ]
        }
      ],
      "source": [
        "from sklearn.linear_model import LogisticRegression\n",
        "from sklearn.metrics import accuracy_score, confusion_matrix, roc_curve, auc\n",
        "\n",
        "logreg_intercept_true = LogisticRegression(fit_intercept=True)\n",
        "logreg_intercept_true.fit(X_train, y_train)\n",
        "y_prob_intercept_true = logreg_intercept_true.predict_proba(X_test)[:, 1]\n",
        "\n",
        "\n",
        "\n",
        "logreg_intercept_false = LogisticRegression(fit_intercept=False)\n",
        "logreg_intercept_false.fit(X_train, y_train)\n",
        "y_prob_intercept_false = logreg_intercept_false.predict_proba(X_test)[:, 1]\n",
        "\n",
        "thresholds = [0.3, 0.7]\n",
        "\n",
        "for threshold in thresholds:\n",
        "    y_pred_intercept_true = (y_prob_intercept_true >= threshold).astype(int)\n",
        "    y_pred_intercept_false = (y_prob_intercept_false >= threshold).astype(int)\n",
        "\n",
        "    # Calculate metrics for each model and threshold\n",
        "    accuracy_intercept_true = accuracy_score(y_test, y_pred_intercept_true)\n",
        "    accuracy_intercept_false = accuracy_score(y_test, y_pred_intercept_false)\n",
        "\n",
        "    confusion_matrix_intercept_true = confusion_matrix(y_test, y_pred_intercept_true)\n",
        "    confusion_matrix_intercept_false = confusion_matrix(y_test, y_pred_intercept_false)\n",
        "\n",
        "    fpr_intercept_true, tpr_intercept_true, _ = roc_curve(y_test, y_prob_intercept_true)\n",
        "    fpr_intercept_false, tpr_intercept_false, _ = roc_curve(y_test, y_prob_intercept_false)\n",
        "\n",
        "    auc_intercept_true = auc(fpr_intercept_true, tpr_intercept_true)\n",
        "    auc_intercept_false = auc(fpr_intercept_false, tpr_intercept_false)\n",
        "\n",
        "    print(f\"Threshold: {threshold}\")\n",
        "    print(\"Model with fit_intercept=True:\")\n",
        "    print(\"Accuracy:\", accuracy_intercept_true)\n",
        "    print(\"Confusion Matrix:\\n\", confusion_matrix_intercept_true)\n",
        "    print(\"TPR:\", tpr_intercept_true)\n",
        "    print(\"FPR:\", fpr_intercept_true)\n",
        "    print(\"AUC:\", auc_intercept_true)\n",
        "    print(\"\")\n",
        "\n",
        "    print(\"Model with fit_intercept=False:\")\n",
        "    print(\"Accuracy:\", accuracy_intercept_false)\n",
        "    print(\"Confusion Matrix:\\n\", confusion_matrix_intercept_false)\n",
        "    print(\"TPR:\", tpr_intercept_false)\n",
        "    print(\"FPR:\", fpr_intercept_false)\n",
        "    print(\"AUC:\", auc_intercept_false)\n",
        "    print(\"\")\n",
        "\n",
        "\n",
        "\n",
        "\n",
        "\n"
      ]
    },
    {
      "cell_type": "code",
      "source": [
        "from sklearn.preprocessing import StandardScaler\n",
        "from sklearn.pipeline import Pipeline,make_pipeline\n",
        "\n",
        "model = make_pipeline(StandardScaler(),LogisticRegression())\n",
        "\n",
        "model.fit(X_train,y_train)"
      ],
      "metadata": {
        "colab": {
          "base_uri": "https://localhost:8080/",
          "height": 125
        },
        "id": "Qm0bRMc_wUyH",
        "outputId": "665b8753-2b6d-49b6-dddb-a3f26aa18285"
      },
      "execution_count": 68,
      "outputs": [
        {
          "output_type": "execute_result",
          "data": {
            "text/plain": [
              "Pipeline(steps=[('standardscaler', StandardScaler()),\n",
              "                ('logisticregression', LogisticRegression())])"
            ],
            "text/html": [
              "<style>#sk-container-id-1 {color: black;background-color: white;}#sk-container-id-1 pre{padding: 0;}#sk-container-id-1 div.sk-toggleable {background-color: white;}#sk-container-id-1 label.sk-toggleable__label {cursor: pointer;display: block;width: 100%;margin-bottom: 0;padding: 0.3em;box-sizing: border-box;text-align: center;}#sk-container-id-1 label.sk-toggleable__label-arrow:before {content: \"▸\";float: left;margin-right: 0.25em;color: #696969;}#sk-container-id-1 label.sk-toggleable__label-arrow:hover:before {color: black;}#sk-container-id-1 div.sk-estimator:hover label.sk-toggleable__label-arrow:before {color: black;}#sk-container-id-1 div.sk-toggleable__content {max-height: 0;max-width: 0;overflow: hidden;text-align: left;background-color: #f0f8ff;}#sk-container-id-1 div.sk-toggleable__content pre {margin: 0.2em;color: black;border-radius: 0.25em;background-color: #f0f8ff;}#sk-container-id-1 input.sk-toggleable__control:checked~div.sk-toggleable__content {max-height: 200px;max-width: 100%;overflow: auto;}#sk-container-id-1 input.sk-toggleable__control:checked~label.sk-toggleable__label-arrow:before {content: \"▾\";}#sk-container-id-1 div.sk-estimator input.sk-toggleable__control:checked~label.sk-toggleable__label {background-color: #d4ebff;}#sk-container-id-1 div.sk-label input.sk-toggleable__control:checked~label.sk-toggleable__label {background-color: #d4ebff;}#sk-container-id-1 input.sk-hidden--visually {border: 0;clip: rect(1px 1px 1px 1px);clip: rect(1px, 1px, 1px, 1px);height: 1px;margin: -1px;overflow: hidden;padding: 0;position: absolute;width: 1px;}#sk-container-id-1 div.sk-estimator {font-family: monospace;background-color: #f0f8ff;border: 1px dotted black;border-radius: 0.25em;box-sizing: border-box;margin-bottom: 0.5em;}#sk-container-id-1 div.sk-estimator:hover {background-color: #d4ebff;}#sk-container-id-1 div.sk-parallel-item::after {content: \"\";width: 100%;border-bottom: 1px solid gray;flex-grow: 1;}#sk-container-id-1 div.sk-label:hover label.sk-toggleable__label {background-color: #d4ebff;}#sk-container-id-1 div.sk-serial::before {content: \"\";position: absolute;border-left: 1px solid gray;box-sizing: border-box;top: 0;bottom: 0;left: 50%;z-index: 0;}#sk-container-id-1 div.sk-serial {display: flex;flex-direction: column;align-items: center;background-color: white;padding-right: 0.2em;padding-left: 0.2em;position: relative;}#sk-container-id-1 div.sk-item {position: relative;z-index: 1;}#sk-container-id-1 div.sk-parallel {display: flex;align-items: stretch;justify-content: center;background-color: white;position: relative;}#sk-container-id-1 div.sk-item::before, #sk-container-id-1 div.sk-parallel-item::before {content: \"\";position: absolute;border-left: 1px solid gray;box-sizing: border-box;top: 0;bottom: 0;left: 50%;z-index: -1;}#sk-container-id-1 div.sk-parallel-item {display: flex;flex-direction: column;z-index: 1;position: relative;background-color: white;}#sk-container-id-1 div.sk-parallel-item:first-child::after {align-self: flex-end;width: 50%;}#sk-container-id-1 div.sk-parallel-item:last-child::after {align-self: flex-start;width: 50%;}#sk-container-id-1 div.sk-parallel-item:only-child::after {width: 0;}#sk-container-id-1 div.sk-dashed-wrapped {border: 1px dashed gray;margin: 0 0.4em 0.5em 0.4em;box-sizing: border-box;padding-bottom: 0.4em;background-color: white;}#sk-container-id-1 div.sk-label label {font-family: monospace;font-weight: bold;display: inline-block;line-height: 1.2em;}#sk-container-id-1 div.sk-label-container {text-align: center;}#sk-container-id-1 div.sk-container {/* jupyter's `normalize.less` sets `[hidden] { display: none; }` but bootstrap.min.css set `[hidden] { display: none !important; }` so we also need the `!important` here to be able to override the default hidden behavior on the sphinx rendered scikit-learn.org. See: https://github.com/scikit-learn/scikit-learn/issues/21755 */display: inline-block !important;position: relative;}#sk-container-id-1 div.sk-text-repr-fallback {display: none;}</style><div id=\"sk-container-id-1\" class=\"sk-top-container\"><div class=\"sk-text-repr-fallback\"><pre>Pipeline(steps=[(&#x27;standardscaler&#x27;, StandardScaler()),\n",
              "                (&#x27;logisticregression&#x27;, LogisticRegression())])</pre><b>In a Jupyter environment, please rerun this cell to show the HTML representation or trust the notebook. <br />On GitHub, the HTML representation is unable to render, please try loading this page with nbviewer.org.</b></div><div class=\"sk-container\" hidden><div class=\"sk-item sk-dashed-wrapped\"><div class=\"sk-label-container\"><div class=\"sk-label sk-toggleable\"><input class=\"sk-toggleable__control sk-hidden--visually\" id=\"sk-estimator-id-1\" type=\"checkbox\" ><label for=\"sk-estimator-id-1\" class=\"sk-toggleable__label sk-toggleable__label-arrow\">Pipeline</label><div class=\"sk-toggleable__content\"><pre>Pipeline(steps=[(&#x27;standardscaler&#x27;, StandardScaler()),\n",
              "                (&#x27;logisticregression&#x27;, LogisticRegression())])</pre></div></div></div><div class=\"sk-serial\"><div class=\"sk-item\"><div class=\"sk-estimator sk-toggleable\"><input class=\"sk-toggleable__control sk-hidden--visually\" id=\"sk-estimator-id-2\" type=\"checkbox\" ><label for=\"sk-estimator-id-2\" class=\"sk-toggleable__label sk-toggleable__label-arrow\">StandardScaler</label><div class=\"sk-toggleable__content\"><pre>StandardScaler()</pre></div></div></div><div class=\"sk-item\"><div class=\"sk-estimator sk-toggleable\"><input class=\"sk-toggleable__control sk-hidden--visually\" id=\"sk-estimator-id-3\" type=\"checkbox\" ><label for=\"sk-estimator-id-3\" class=\"sk-toggleable__label sk-toggleable__label-arrow\">LogisticRegression</label><div class=\"sk-toggleable__content\"><pre>LogisticRegression()</pre></div></div></div></div></div></div></div>"
            ]
          },
          "metadata": {},
          "execution_count": 68
        }
      ]
    },
    {
      "cell_type": "markdown",
      "metadata": {
        "id": "B5TX3RT_nxzj"
      },
      "source": [
        "Q. In the above question, according to you which is a better threshold for the problem statement."
      ]
    },
    {
      "cell_type": "markdown",
      "metadata": {
        "id": "lSFEkV7Ynxzj"
      },
      "source": [
        "Q. Report the Coefficients corresponding to eaach of the feaatures. How do these values explain the effect on the final classificaation outcome?"
      ]
    },
    {
      "cell_type": "markdown",
      "metadata": {
        "id": "liZI4xnPnxzk"
      },
      "source": [
        "Q. Plot the ROC curve"
      ]
    },
    {
      "cell_type": "markdown",
      "metadata": {
        "id": "dTcno9ZHnxzk"
      },
      "source": [
        "### Decision Trees"
      ]
    },
    {
      "cell_type": "markdown",
      "metadata": {
        "id": "zamCXPLsnxzk"
      },
      "source": [
        "Q. Use X_train to train a decision tree model using *DecisionTreeClassifier*, with max_depth = 3. Calculate the accuracy and roc auc score on X_test for this model."
      ]
    },
    {
      "cell_type": "markdown",
      "metadata": {
        "id": "KKc5um1Xnxzl"
      },
      "source": [
        "Q. Rank the feature importances of this classifier. Which is the most important feature used in the model?"
      ]
    },
    {
      "cell_type": "markdown",
      "metadata": {
        "id": "H5IDzSPKnxzl"
      },
      "source": [
        "Q. Fit 5 different Decision Tree classifier by varying the 'max_depth' parameter from 1 to 5. Plot the accuracy as a function of 'max_depth' parameter using the test dataset. At what 'max_depth' value does the classifier achieves maximum accuracy?"
      ]
    },
    {
      "cell_type": "markdown",
      "metadata": {
        "id": "-DOAAmvmnxzl"
      },
      "source": [
        "Q. What is 'max_depth' in decision tree model?"
      ]
    },
    {
      "cell_type": "code",
      "source": [
        "'''\n",
        "max_depth is hyperparameter suggested the maximum depth that we allow the tree to grow to.\n",
        "The deeper is the tree, the more complex model will become\n",
        "'''"
      ],
      "metadata": {
        "id": "IaqM-QrfpO02"
      },
      "execution_count": null,
      "outputs": []
    },
    {
      "cell_type": "markdown",
      "metadata": {
        "id": "po7_VEO5nxzl"
      },
      "source": [
        "Q. How does a decision tree algorithm decide where to split?"
      ]
    },
    {
      "cell_type": "code",
      "source": [
        "'''\n",
        "Decision Tree algorithm selects the best attribute to split the data based on a metric such\n",
        "as entropy or Gini impurity, which measures the level of impurity or randomness.\n",
        "'''"
      ],
      "metadata": {
        "id": "UtAcCQ4ipDiK"
      },
      "execution_count": null,
      "outputs": []
    },
    {
      "cell_type": "markdown",
      "metadata": {
        "id": "cFWms1kanxzl"
      },
      "source": [
        "Q. List one advantage and disadvatage of using decison tree model."
      ]
    },
    {
      "cell_type": "code",
      "source": [
        "#ADVANTAGES OF DECISION TREE\n",
        "\n",
        "'''\n",
        "Can handle both categorical and numerical data\n",
        "Can handle missing values and outliers\n",
        "Can be used for classification and regression problems\n",
        "'''\n",
        "\n",
        "#DISADVANTAGES\n",
        "'''\n",
        "Overfitting can occur\n",
        "Large decision trees can be hard to interpret\n",
        "Decision trees can be sensitive to small changes in the data\n",
        "'''\n"
      ],
      "metadata": {
        "id": "EL9tU6EwoVwQ"
      },
      "execution_count": null,
      "outputs": []
    },
    {
      "cell_type": "markdown",
      "metadata": {
        "id": "1TeANRJNnxzm"
      },
      "source": [
        "### Random Forests"
      ]
    },
    {
      "cell_type": "markdown",
      "metadata": {
        "id": "ZoabpTXMnxzm"
      },
      "source": [
        "Q. What is bagging? How is bagging used in Random Forests?"
      ]
    },
    {
      "cell_type": "code",
      "source": [
        "'''\n",
        "Bagging is a technique to improve the stability and accuracy of machine learning algorithms.\n",
        "It decreases the variance and helps to avoid overfitting\n",
        "It helps improve machine learning results by combining several models.\n",
        "'''"
      ],
      "metadata": {
        "id": "33g8_TB9qDH9"
      },
      "execution_count": null,
      "outputs": []
    },
    {
      "cell_type": "markdown",
      "metadata": {
        "id": "itFs02Dznxzm"
      },
      "source": [
        "Q. Build a random forest classifier using X_train. Experiment with different values of parameters such as *n_estimators*, *max_features* and *max_depth* to come up with a model such that roc auc score is maximized on X_test. Set *random_state = 0*."
      ]
    },
    {
      "cell_type": "markdown",
      "metadata": {
        "id": "Cepm6r-dnxzm"
      },
      "source": [
        "Q. What is the accuracy and roc auc score that you achieved on the test dataset? At what parameter values did you achieved this score?"
      ]
    },
    {
      "cell_type": "markdown",
      "metadata": {
        "id": "WcAdKadunxzm"
      },
      "source": [
        "Q. How are predictions made by a random forest regression and classification on a new data point?"
      ]
    },
    {
      "cell_type": "markdown",
      "metadata": {
        "id": "Iri9ji7gnxzm"
      },
      "source": [
        "Q. List one advantage and disadvatage of using a random forest model."
      ]
    },
    {
      "cell_type": "markdown",
      "metadata": {
        "id": "3NbQmUoxnxzm"
      },
      "source": [
        "### K-Nearest Neighbors (KNN)"
      ]
    },
    {
      "cell_type": "markdown",
      "metadata": {
        "id": "CeWpuGc_nxzn"
      },
      "source": [
        "Q. Use *KNeighborsClassifier* in *sklearn.neighbors* to fit a model using training data set. Set n_neighbors = 5 keeping other parameters as default."
      ]
    },
    {
      "cell_type": "markdown",
      "metadata": {
        "id": "l-4bEIPJnxzn"
      },
      "source": [
        "Q. Use the testing dataset to calculate the accuracy, precision and recall of this classifier?"
      ]
    },
    {
      "cell_type": "markdown",
      "metadata": {
        "id": "HzcMXbrInxzn"
      },
      "source": [
        "Q. Fit 20 different KNN classification model by varying the 'k' parameter from 1 to 20. Plot the accuracy as a function of 'k'\n",
        "parameter using the test dataset. At what 'k' value does the classifier achieves maximum accuracy?"
      ]
    },
    {
      "cell_type": "markdown",
      "metadata": {
        "id": "ENCD3tKSnxzn"
      },
      "source": [
        "Q. Fit the KNN model using the best 'k' value found. Calculate the accuracy, precision and recall for this new model? Comment if this model is better than the Dummy Classifier and why."
      ]
    },
    {
      "cell_type": "markdown",
      "metadata": {
        "id": "nInpLgoknxzn"
      },
      "source": [
        "Q. Briefly describe how KNN regression and classification predict on a new data point after a model is built?"
      ]
    },
    {
      "cell_type": "markdown",
      "metadata": {
        "id": "l0FxrFlrnxzn"
      },
      "source": [
        "Q. What is one of the major drawback of using KNN?"
      ]
    },
    {
      "cell_type": "markdown",
      "metadata": {
        "id": "_B3YTxTjnxzo"
      },
      "source": [
        "###  Support Vector Machines (SVM)"
      ]
    },
    {
      "cell_type": "markdown",
      "metadata": {
        "id": "4D62zOkinxzo"
      },
      "source": [
        "Q. Use SVC (Support Vector Classifier) to fit a model using training dataset. Use default model parameters."
      ]
    },
    {
      "cell_type": "markdown",
      "metadata": {
        "id": "d5MVOH4nnxzo"
      },
      "source": [
        "Q. Use the testing data set to calculate the accuracy, precision and recall of this SVM classifier?"
      ]
    },
    {
      "cell_type": "markdown",
      "metadata": {
        "id": "6VB23Kyznxzo"
      },
      "source": [
        "Q. Use *kernel = 'rbf', gamma = 1e-07, C = 1e9* to train a SVM classifier model. Calculate the accuracy, precision and recall for this new model? Comment if this model is better than the Dummy Classifier and why."
      ]
    },
    {
      "cell_type": "markdown",
      "metadata": {
        "id": "njkrisbunxzv"
      },
      "source": [
        "Q. What is a kernel in SVM?"
      ]
    },
    {
      "cell_type": "markdown",
      "metadata": {
        "id": "6-POnBn3nxzv"
      },
      "source": [
        "Q. What does 'gamma' value in *rbf* kernel control?"
      ]
    },
    {
      "cell_type": "markdown",
      "metadata": {
        "id": "DXb36Jhpnxzv"
      },
      "source": [
        "Q. What is the significance of 'C' parameter in SVM?"
      ]
    },
    {
      "cell_type": "markdown",
      "metadata": {
        "id": "YiUOF5zGnxzw"
      },
      "source": [
        "Q. Briefly describe how SVM algorithm works?"
      ]
    },
    {
      "cell_type": "markdown",
      "metadata": {
        "id": "tcpC6qsnnxzw"
      },
      "source": [
        "Q. For fraud detection, which model would you choose among the three models built (Dummy, KNN, SVM) and why? What things would you consider while choosing the best model for your purpose?"
      ]
    }
  ],
  "metadata": {
    "colab": {
      "provenance": [],
      "include_colab_link": true
    },
    "kernelspec": {
      "display_name": "Python 3 (ipykernel)",
      "language": "python",
      "name": "python3"
    },
    "language_info": {
      "codemirror_mode": {
        "name": "ipython",
        "version": 3
      },
      "file_extension": ".py",
      "mimetype": "text/x-python",
      "name": "python",
      "nbconvert_exporter": "python",
      "pygments_lexer": "ipython3",
      "version": "3.7.11"
    }
  },
  "nbformat": 4,
  "nbformat_minor": 0
}